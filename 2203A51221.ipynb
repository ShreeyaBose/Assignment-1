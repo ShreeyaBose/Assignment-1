{
  "nbformat": 4,
  "nbformat_minor": 0,
  "metadata": {
    "colab": {
      "provenance": []
    },
    "kernelspec": {
      "name": "python3",
      "display_name": "Python 3"
    },
    "language_info": {
      "name": "python"
    }
  },
  "cells": [
    {
      "cell_type": "code",
      "execution_count": null,
      "metadata": {
        "colab": {
          "base_uri": "https://localhost:8080/"
        },
        "id": "IzC_r7EutYuy",
        "outputId": "53dfbddc-c84f-4f4f-8e5c-c44372487f31"
      },
      "outputs": [
        {
          "output_type": "stream",
          "name": "stdout",
          "text": [
            "[1, 2, 3, 4, 5, 6, 7, 8]\n"
          ]
        }
      ],
      "source": [
        "import numpy as np\n",
        "List1=[1,2,3,4]\n",
        "List2=[5,6,7,8]\n",
        "print(List1+List2)"
      ]
    },
    {
      "cell_type": "code",
      "source": [
        "import numpy as np"
      ],
      "metadata": {
        "id": "LYO8ehKkuWs7"
      },
      "execution_count": null,
      "outputs": []
    },
    {
      "cell_type": "code",
      "source": [
        "ar1=np.array(List1)\n",
        "ar2=np.array(List2)\n",
        "print(ar1+ar2)"
      ],
      "metadata": {
        "colab": {
          "base_uri": "https://localhost:8080/"
        },
        "id": "aMMz1oPJuhqV",
        "outputId": "a0516906-d081-48f6-ec6b-7989c1b91567"
      },
      "execution_count": null,
      "outputs": [
        {
          "output_type": "stream",
          "name": "stdout",
          "text": [
            "[ 6  8 10 12]\n"
          ]
        }
      ]
    },
    {
      "cell_type": "code",
      "source": [
        "mat1=np.matrix(List1)\n",
        "mat2=np.matrix(List2)\n",
        "print(mat1+mat2)"
      ],
      "metadata": {
        "colab": {
          "base_uri": "https://localhost:8080/"
        },
        "id": "j5PvGgZsvGsy",
        "outputId": "47227313-1d03-4da1-c080-b7b4243203c2"
      },
      "execution_count": null,
      "outputs": [
        {
          "output_type": "stream",
          "name": "stdout",
          "text": [
            "[[ 6  8 10 12]]\n"
          ]
        }
      ]
    },
    {
      "cell_type": "code",
      "source": [
        "m=[[1,2,3],[4,5,6],[7,8,9]]"
      ],
      "metadata": {
        "id": "PlMvxQYpwNzs"
      },
      "execution_count": null,
      "outputs": []
    },
    {
      "cell_type": "code",
      "source": [
        "m=[[1,2,3],[4,5,6],[7,8,9]]\n",
        "print(m)"
      ],
      "metadata": {
        "colab": {
          "base_uri": "https://localhost:8080/"
        },
        "id": "jByDArbVwTZT",
        "outputId": "ea39fa42-429e-4770-94b2-f33c93f81a72"
      },
      "execution_count": null,
      "outputs": [
        {
          "output_type": "stream",
          "name": "stdout",
          "text": [
            "[[1, 2, 3], [4, 5, 6], [7, 8, 9]]\n"
          ]
        }
      ]
    },
    {
      "cell_type": "code",
      "source": [
        "c=np.array(m)"
      ],
      "metadata": {
        "id": "kOyQ3XcCwYjY"
      },
      "execution_count": null,
      "outputs": []
    },
    {
      "cell_type": "code",
      "source": [
        "print(np.diagonal(c))"
      ],
      "metadata": {
        "colab": {
          "base_uri": "https://localhost:8080/"
        },
        "id": "xgtUPKZJwdE7",
        "outputId": "1411fe63-4533-4f44-c632-cdb8b38e324d"
      },
      "execution_count": null,
      "outputs": [
        {
          "output_type": "stream",
          "name": "stdout",
          "text": [
            "[1 5 9]\n"
          ]
        }
      ]
    },
    {
      "cell_type": "code",
      "source": [
        "print(np.asmatrix(c))"
      ],
      "metadata": {
        "colab": {
          "base_uri": "https://localhost:8080/"
        },
        "id": "2_L6r66nw6Wf",
        "outputId": "6323a91e-05b6-4d0e-be53-cf1c398249a5"
      },
      "execution_count": null,
      "outputs": [
        {
          "output_type": "stream",
          "name": "stdout",
          "text": [
            "[[1 2 3]\n",
            " [4 5 6]\n",
            " [7 8 9]]\n"
          ]
        }
      ]
    },
    {
      "cell_type": "code",
      "source": [
        "print(np.nanmean(c))"
      ],
      "metadata": {
        "colab": {
          "base_uri": "https://localhost:8080/"
        },
        "id": "t0N9zMnSxO0D",
        "outputId": "ab60049e-9d0d-44d1-b28a-cf07f3ade4fc"
      },
      "execution_count": null,
      "outputs": [
        {
          "output_type": "stream",
          "name": "stdout",
          "text": [
            "5.0\n"
          ]
        }
      ]
    },
    {
      "cell_type": "code",
      "source": [
        "print(np.bool_(c))"
      ],
      "metadata": {
        "colab": {
          "base_uri": "https://localhost:8080/"
        },
        "id": "myIEwZfxxsFA",
        "outputId": "3da3206f-0d0a-43cc-fea8-0e62f49f750a"
      },
      "execution_count": null,
      "outputs": [
        {
          "output_type": "stream",
          "name": "stdout",
          "text": [
            "[[ True  True  True]\n",
            " [ True  True  True]\n",
            " [ True  True  True]]\n"
          ]
        }
      ]
    },
    {
      "cell_type": "code",
      "source": [
        "print(np.average(c))"
      ],
      "metadata": {
        "colab": {
          "base_uri": "https://localhost:8080/"
        },
        "id": "HhE6fQdMxwgq",
        "outputId": "e65b9774-8ce2-4138-a964-3efdaf29873f"
      },
      "execution_count": null,
      "outputs": [
        {
          "output_type": "stream",
          "name": "stdout",
          "text": [
            "5.0\n"
          ]
        }
      ]
    },
    {
      "cell_type": "code",
      "source": [
        "n=[[2,3,4],[5,6,7],[8,9,10]]\n",
        "d=np.array(n)\n",
        "print(np.diagonal(d))"
      ],
      "metadata": {
        "colab": {
          "base_uri": "https://localhost:8080/"
        },
        "id": "2i-RJ7Tyygv9",
        "outputId": "2e1c5c7a-f8d1-4799-ed1e-3588bf746de1"
      },
      "execution_count": null,
      "outputs": [
        {
          "output_type": "stream",
          "name": "stdout",
          "text": [
            "[ 2  6 10]\n"
          ]
        }
      ]
    },
    {
      "cell_type": "code",
      "source": [
        "mul=(c+d)\n",
        "print(mul)"
      ],
      "metadata": {
        "colab": {
          "base_uri": "https://localhost:8080/"
        },
        "id": "bk-NG94ezNMr",
        "outputId": "500f7132-0b64-4bb0-a0c9-a5bba9c6b9d2"
      },
      "execution_count": null,
      "outputs": [
        {
          "output_type": "stream",
          "name": "stdout",
          "text": [
            "[[ 3  5  7]\n",
            " [ 9 11 13]\n",
            " [15 17 19]]\n"
          ]
        }
      ]
    },
    {
      "cell_type": "code",
      "source": [
        "print(np.linalg.det(c))"
      ],
      "metadata": {
        "colab": {
          "base_uri": "https://localhost:8080/"
        },
        "id": "ONERMVP9zUoC",
        "outputId": "a0a93aca-9351-41fb-963b-1cfd95c605a5"
      },
      "execution_count": null,
      "outputs": [
        {
          "output_type": "stream",
          "name": "stdout",
          "text": [
            "0.0\n"
          ]
        }
      ]
    },
    {
      "cell_type": "code",
      "source": [
        "print(np.linalg.det(d))"
      ],
      "metadata": {
        "colab": {
          "base_uri": "https://localhost:8080/"
        },
        "id": "M8OTPx5nzomd",
        "outputId": "d5971c0d-7a4e-4b24-a7f3-386ecb97ac12"
      },
      "execution_count": null,
      "outputs": [
        {
          "output_type": "stream",
          "name": "stdout",
          "text": [
            "0.0\n"
          ]
        }
      ]
    },
    {
      "cell_type": "code",
      "source": [
        "print(np.linalg.eigvals(c))"
      ],
      "metadata": {
        "colab": {
          "base_uri": "https://localhost:8080/"
        },
        "id": "wnAev_1Szubm",
        "outputId": "68508126-316f-463f-8281-3a199d4d83f4"
      },
      "execution_count": null,
      "outputs": [
        {
          "output_type": "stream",
          "name": "stdout",
          "text": [
            "[ 1.61168440e+01 -1.11684397e+00 -1.30367773e-15]\n"
          ]
        }
      ]
    },
    {
      "cell_type": "code",
      "source": [
        "print(np.linalg.eig(c))"
      ],
      "metadata": {
        "colab": {
          "base_uri": "https://localhost:8080/"
        },
        "id": "j6etRCNYz9mW",
        "outputId": "03255c16-9eed-4cd4-ffb6-920f39ac2607"
      },
      "execution_count": null,
      "outputs": [
        {
          "output_type": "stream",
          "name": "stdout",
          "text": [
            "(array([ 1.61168440e+01, -1.11684397e+00, -1.30367773e-15]), array([[-0.23197069, -0.78583024,  0.40824829],\n",
            "       [-0.52532209, -0.08675134, -0.81649658],\n",
            "       [-0.8186735 ,  0.61232756,  0.40824829]]))\n"
          ]
        }
      ]
    },
    {
      "cell_type": "code",
      "source": [
        "print(np.linalg.matrix_rank(c))"
      ],
      "metadata": {
        "colab": {
          "base_uri": "https://localhost:8080/"
        },
        "id": "Xj4qIFNM0H5i",
        "outputId": "fb481b37-687a-4099-c6ef-db3e28112331"
      },
      "execution_count": null,
      "outputs": [
        {
          "output_type": "stream",
          "name": "stdout",
          "text": [
            "2\n"
          ]
        }
      ]
    },
    {
      "cell_type": "code",
      "source": [
        "i=[[ 3 ,5 ,7],[ 9,11,13],[15,17,19]]\n",
        "np.linalg.inv(i)\n"
      ],
      "metadata": {
        "colab": {
          "base_uri": "https://localhost:8080/"
        },
        "id": "p5Xt_3SH0yYu",
        "outputId": "476197ba-7082-40eb-bacb-478ab0d4f080"
      },
      "execution_count": null,
      "outputs": [
        {
          "output_type": "execute_result",
          "data": {
            "text/plain": [
              "array([[ 2.81474977e+14, -5.62949953e+14,  2.81474977e+14],\n",
              "       [-5.62949953e+14,  1.12589991e+15, -5.62949953e+14],\n",
              "       [ 2.81474977e+14, -5.62949953e+14,  2.81474977e+14]])"
            ]
          },
          "metadata": {},
          "execution_count": 33
        }
      ]
    },
    {
      "cell_type": "code",
      "source": [
        "print(np.linalg.norm(c))"
      ],
      "metadata": {
        "colab": {
          "base_uri": "https://localhost:8080/"
        },
        "id": "qNC1zM1N1COc",
        "outputId": "cca32ce5-e176-427d-fd9b-36ef686d0432"
      },
      "execution_count": null,
      "outputs": [
        {
          "output_type": "stream",
          "name": "stdout",
          "text": [
            "16.881943016134134\n"
          ]
        }
      ]
    },
    {
      "cell_type": "code",
      "source": [
        "print(np.transpose(c))"
      ],
      "metadata": {
        "colab": {
          "base_uri": "https://localhost:8080/"
        },
        "id": "FGom2KRl1iVQ",
        "outputId": "d7eab276-e579-404c-c909-cdb18777a80c"
      },
      "execution_count": null,
      "outputs": [
        {
          "output_type": "stream",
          "name": "stdout",
          "text": [
            "[[1 4 7]\n",
            " [2 5 8]\n",
            " [3 6 9]]\n"
          ]
        }
      ]
    },
    {
      "cell_type": "code",
      "source": [
        "print(np.sin(c))"
      ],
      "metadata": {
        "colab": {
          "base_uri": "https://localhost:8080/"
        },
        "id": "gp814atM1l8h",
        "outputId": "4cacee73-f2b5-4069-9015-0106b0b485aa"
      },
      "execution_count": null,
      "outputs": [
        {
          "output_type": "stream",
          "name": "stdout",
          "text": [
            "[[ 0.84147098  0.90929743  0.14112001]\n",
            " [-0.7568025  -0.95892427 -0.2794155 ]\n",
            " [ 0.6569866   0.98935825  0.41211849]]\n"
          ]
        }
      ]
    },
    {
      "cell_type": "code",
      "source": [
        "print(np.cos(c))"
      ],
      "metadata": {
        "colab": {
          "base_uri": "https://localhost:8080/"
        },
        "id": "VLYG5IkJ1xrG",
        "outputId": "48dd97ea-c2b9-446d-cef3-f4f892d6a61b"
      },
      "execution_count": null,
      "outputs": [
        {
          "output_type": "stream",
          "name": "stdout",
          "text": [
            "[[ 0.54030231 -0.41614684 -0.9899925 ]\n",
            " [-0.65364362  0.28366219  0.96017029]\n",
            " [ 0.75390225 -0.14550003 -0.91113026]]\n"
          ]
        }
      ]
    },
    {
      "cell_type": "code",
      "source": [
        "import matplotlib.pyplot as plt\n"
      ],
      "metadata": {
        "id": "3DBtoj6M119I"
      },
      "execution_count": null,
      "outputs": []
    },
    {
      "cell_type": "code",
      "source": [
        "plt.plot(c,d)"
      ],
      "metadata": {
        "colab": {
          "base_uri": "https://localhost:8080/",
          "height": 482
        },
        "id": "pZAZck1j1-L6",
        "outputId": "f0cef659-14a8-4b91-9049-27f44987ea6e"
      },
      "execution_count": null,
      "outputs": [
        {
          "output_type": "execute_result",
          "data": {
            "text/plain": [
              "[<matplotlib.lines.Line2D at 0x7a4aaad1a230>,\n",
              " <matplotlib.lines.Line2D at 0x7a4aaad1a8c0>,\n",
              " <matplotlib.lines.Line2D at 0x7a4aaad1b1c0>]"
            ]
          },
          "metadata": {},
          "execution_count": 39
        },
        {
          "output_type": "display_data",
          "data": {
            "text/plain": [
              "<Figure size 640x480 with 1 Axes>"
            ],
            "image/png": "[encoded data removed]"
          },
          "metadata": {}
        }
      ]
    },
    {
      "cell_type": "code",
      "source": [
        "plt.scatter(c,d)"
      ],
      "metadata": {
        "colab": {
          "base_uri": "https://localhost:8080/",
          "height": 447
        },
        "id": "ECQ9Rqod2HSi",
        "outputId": "62ce559b-f605-443f-e211-ae7414e0871a"
      },
      "execution_count": null,
      "outputs": [
        {
          "output_type": "execute_result",
          "data": {
            "text/plain": [
              "<matplotlib.collections.PathCollection at 0x7a4aacfaf400>"
            ]
          },
          "metadata": {},
          "execution_count": 40
        },
        {
          "output_type": "display_data",
          "data": {
            "text/plain": [
              "<Figure size 640x480 with 1 Axes>"
            ],
            "image/png": "[encoded data removed]"
          },
          "metadata": {}
        }
      ]
    },
    {
      "cell_type": "code",
      "source": [
        "plt.plot(c)"
      ],
      "metadata": {
        "colab": {
          "base_uri": "https://localhost:8080/",
          "height": 482
        },
        "id": "79d9Km6B2XUV",
        "outputId": "53fd388e-cc9d-4aeb-fe49-e8b6d5d0926a"
      },
      "execution_count": null,
      "outputs": [
        {
          "output_type": "execute_result",
          "data": {
            "text/plain": [
              "[<matplotlib.lines.Line2D at 0x7a4aad1a31c0>,\n",
              " <matplotlib.lines.Line2D at 0x7a4aad2ade10>,\n",
              " <matplotlib.lines.Line2D at 0x7a4aad2aef20>]"
            ]
          },
          "metadata": {},
          "execution_count": 48
        },
        {
          "output_type": "display_data",
          "data": {
            "text/plain": [
              "<Figure size 640x480 with 1 Axes>"
            ],
            "image/png": "[encoded data removed]"
          },
          "metadata": {}
        }
      ]
    },
    {
      "cell_type": "code",
      "source": [
        "x=[3,5,7,8]\n",
        "y=[4,2,9,1]\n",
        "plt.bar(x,y)"
      ],
      "metadata": {
        "colab": {
          "base_uri": "https://localhost:8080/",
          "height": 447
        },
        "id": "6FuRf4ru2b1_",
        "outputId": "608f4fce-cf62-4602-891c-20bc4e6efc07"
      },
      "execution_count": null,
      "outputs": [
        {
          "output_type": "execute_result",
          "data": {
            "text/plain": [
              "<BarContainer object of 4 artists>"
            ]
          },
          "metadata": {},
          "execution_count": 51
        },
        {
          "output_type": "display_data",
          "data": {
            "text/plain": [
              "<Figure size 640x480 with 1 Axes>"
            ],
            "image/png": "[encoded data removed]"
          },
          "metadata": {}
        }
      ]
    },
    {
      "cell_type": "code",
      "source": [
        "plt.pie(x)"
      ],
      "metadata": {
        "colab": {
          "base_uri": "https://localhost:8080/",
          "height": 545
        },
        "id": "xppCPcVH3ovy",
        "outputId": "eba46bae-b7a4-48c9-8e60-ab13565c49b8"
      },
      "execution_count": null,
      "outputs": [
        {
          "output_type": "execute_result",
          "data": {
            "text/plain": [
              "([<matplotlib.patches.Wedge at 0x7a4aaad96410>,\n",
              "  <matplotlib.patches.Wedge at 0x7a4aaad978b0>,\n",
              "  <matplotlib.patches.Wedge at 0x7a4aaa86eb60>,\n",
              "  <matplotlib.patches.Wedge at 0x7a4aaa86f400>],\n",
              " [Text(1.0089324334399594, 0.43824119472377554, ''),\n",
              "  Text(0.07506668820635798, 1.0974356438177728, ''),\n",
              "  Text(-1.0999999999999954, 1.0298943285007232e-07, ''),\n",
              "  Text(0.5060714301826006, -0.9766737979248432, '')])"
            ]
          },
          "metadata": {},
          "execution_count": 53
        },
        {
          "output_type": "display_data",
          "data": {
            "text/plain": [
              "<Figure size 640x480 with 1 Axes>"
            ],
            "image/png": "[encoded data removed]"
          },
          "metadata": {}
        }
      ]
    },
    {
      "cell_type": "code",
      "source": [
        "plt.pie(y)"
      ],
      "metadata": {
        "colab": {
          "base_uri": "https://localhost:8080/",
          "height": 545
        },
        "id": "4UlphZ0j4Sj_",
        "outputId": "f92448dc-554c-4709-b8d6-7f1e89cf728d"
      },
      "execution_count": null,
      "outputs": [
        {
          "output_type": "execute_result",
          "data": {
            "text/plain": [
              "([<matplotlib.patches.Wedge at 0x7a4aaa70a980>,\n",
              "  <matplotlib.patches.Wedge at 0x7a4aaa70a890>,\n",
              "  <matplotlib.patches.Wedge at 0x7a4aaa70b250>,\n",
              "  <matplotlib.patches.Wedge at 0x7a4aaa70b6d0>],\n",
              " [Text(0.7778174593052024, 0.7778174593052023, ''),\n",
              "  Text(-0.42095177560159874, 1.0162674857624154, ''),\n",
              "  Text(-0.6111272563215624, -0.9146165735327998, ''),\n",
              "  Text(1.0788638084435533, -0.21459935421774162, '')])"
            ]
          },
          "metadata": {},
          "execution_count": 54
        },
        {
          "output_type": "display_data",
          "data": {
            "text/plain": [
              "<Figure size 640x480 with 1 Axes>"
            ],
            "image/png": "[encoded data removed]"
          },
          "metadata": {}
        }
      ]
    },
    {
      "cell_type": "code",
      "source": [
        "plt.angle_spectrum(x)"
      ],
      "metadata": {
        "colab": {
          "base_uri": "https://localhost:8080/",
          "height": 501
        },
        "id": "7deWIZGZ4Z1_",
        "outputId": "5709b4ef-9b33-4a7d-be8b-22ed744bf308"
      },
      "execution_count": null,
      "outputs": [
        {
          "output_type": "execute_result",
          "data": {
            "text/plain": [
              "(array([ 0.        , -2.52134317,  0.        ]),\n",
              " array([0. , 0.5, 1. ]),\n",
              " <matplotlib.lines.Line2D at 0x7a4aaa5654e0>)"
            ]
          },
          "metadata": {},
          "execution_count": 55
        },
        {
          "output_type": "display_data",
          "data": {
            "text/plain": [
              "<Figure size 640x480 with 1 Axes>"
            ],
            "image/png": "[encoded data removed]"
          },
          "metadata": {}
        }
      ]
    },
    {
      "cell_type": "code",
      "source": [
        "plt.axis(y)"
      ],
      "metadata": {
        "colab": {
          "base_uri": "https://localhost:8080/",
          "height": 452
        },
        "id": "ndJYnuL94p_u",
        "outputId": "0a591728-0341-46ce-f0d7-371b5dd30f9a"
      },
      "execution_count": null,
      "outputs": [
        {
          "output_type": "execute_result",
          "data": {
            "text/plain": [
              "(4.0, 2.0, 9.0, 1.0)"
            ]
          },
          "metadata": {},
          "execution_count": 58
        },
        {
          "output_type": "display_data",
          "data": {
            "text/plain": [
              "<Figure size 640x480 with 1 Axes>"
            ],
            "image/png": "[encoded data removed]"
          },
          "metadata": {}
        }
      ]
    },
    {
      "cell_type": "code",
      "source": [
        "import pandas as pd"
      ],
      "metadata": {
        "id": "3Z4lTmrE42bm"
      },
      "execution_count": null,
      "outputs": []
    },
    {
      "cell_type": "code",
      "source": [
        "pd.read_csv(\"/content/sample_data/california_housing_test.csv\")"
      ],
      "metadata": {
        "colab": {
          "base_uri": "https://localhost:8080/",
          "height": 443
        },
        "id": "4sP1aSGB5K0r",
        "outputId": "f708ad76-bd7f-4303-a51e-7e7e80577860"
      },
      "execution_count": null,
      "outputs": [
        {
          "output_type": "execute_result",
          "data": {
            "text/plain": [
              "      longitude  latitude  housing_median_age  total_rooms  total_bedrooms  \\\n",
              "0       -122.05     37.37                27.0       3885.0           661.0   \n",
              "1       -118.30     34.26                43.0       1510.0           310.0   \n",
              "2       -117.81     33.78                27.0       3589.0           507.0   \n",
              "3       -118.36     33.82                28.0         67.0            15.0   \n",
              "4       -119.67     36.33                19.0       1241.0           244.0   \n",
              "...         ...       ...                 ...          ...             ...   \n",
              "2995    -119.86     34.42                23.0       1450.0           642.0   \n",
              "2996    -118.14     34.06                27.0       5257.0          1082.0   \n",
              "2997    -119.70     36.30                10.0        956.0           201.0   \n",
              "2998    -117.12     34.10                40.0         96.0            14.0   \n",
              "2999    -119.63     34.42                42.0       1765.0           263.0   \n",
              "\n",
              "      population  households  median_income  median_house_value  \n",
              "0         1537.0       606.0         6.6085            344700.0  \n",
              "1          809.0       277.0         3.5990            176500.0  \n",
              "2         1484.0       495.0         5.7934            270500.0  \n",
              "3           49.0        11.0         6.1359            330000.0  \n",
              "4          850.0       237.0         2.9375             81700.0  \n",
              "...          ...         ...            ...                 ...  \n",
              "2995      1258.0       607.0         1.1790            225000.0  \n",
              "2996      3496.0      1036.0         3.3906            237200.0  \n",
              "2997       693.0       220.0         2.2895             62000.0  \n",
              "2998        46.0        14.0         3.2708            162500.0  \n",
              "2999       753.0       260.0         8.5608            500001.0  \n",
              "\n",
              "[3000 rows x 9 columns]"
            ],
            "text/html": [
              "\n",
              "  <div id=\"df-f7fb56e6-48e0-4c59-bc1d-f7013a814219\" class=\"colab-df-container\">\n",
              "    <div>\n",
              "<style scoped>\n",
              "    .dataframe tbody tr th:only-of-type {\n",
              "        vertical-align: middle;\n",
              "    }\n",
              "\n",
              "    .dataframe tbody tr th {\n",
              "        vertical-align: top;\n",
              "    }\n",
              "\n",
              "    .dataframe thead th {\n",
              "        text-align: right;\n",
              "    }\n",
              "</style>\n",
              "<table border=\"1\" class=\"dataframe\">\n",
              "  <thead>\n",
              "    <tr style=\"text-align: right;\">\n",
              "      <th></th>\n",
              "      <th>longitude</th>\n",
              "      <th>latitude</th>\n",
              "      <th>housing_median_age</th>\n",
              "      <th>total_rooms</th>\n",
              "      <th>total_bedrooms</th>\n",
              "      <th>population</th>\n",
              "      <th>households</th>\n",
              "      <th>median_income</th>\n",
              "      <th>median_house_value</th>\n",
              "    </tr>\n",
              "  </thead>\n",
              "  <tbody>\n",
              "    <tr>\n",
              "      <th>0</th>\n",
              "      <td>-122.05</td>\n",
              "      <td>37.37</td>\n",
              "      <td>27.0</td>\n",
              "      <td>3885.0</td>\n",
              "      <td>661.0</td>\n",
              "      <td>1537.0</td>\n",
              "      <td>606.0</td>\n",
              "      <td>6.6085</td>\n",
              "      <td>344700.0</td>\n",
              "    </tr>\n",
              "    <tr>\n",
              "      <th>1</th>\n",
              "      <td>-118.30</td>\n",
              "      <td>34.26</td>\n",
              "      <td>43.0</td>\n",
              "      <td>1510.0</td>\n",
              "      <td>310.0</td>\n",
              "      <td>809.0</td>\n",
              "      <td>277.0</td>\n",
              "      <td>3.5990</td>\n",
              "      <td>176500.0</td>\n",
              "    </tr>\n",
              "    <tr>\n",
              "      <th>2</th>\n",
              "      <td>-117.81</td>\n",
              "      <td>33.78</td>\n",
              "      <td>27.0</td>\n",
              "      <td>3589.0</td>\n",
              "      <td>507.0</td>\n",
              "      <td>1484.0</td>\n",
              "      <td>495.0</td>\n",
              "      <td>5.7934</td>\n",
              "      <td>270500.0</td>\n",
              "    </tr>\n",
              "    <tr>\n",
              "      <th>3</th>\n",
              "      <td>-118.36</td>\n",
              "      <td>33.82</td>\n",
              "      <td>28.0</td>\n",
              "      <td>67.0</td>\n",
              "      <td>15.0</td>\n",
              "      <td>49.0</td>\n",
              "      <td>11.0</td>\n",
              "      <td>6.1359</td>\n",
              "      <td>330000.0</td>\n",
              "    </tr>\n",
              "    <tr>\n",
              "      <th>4</th>\n",
              "      <td>-119.67</td>\n",
              "      <td>36.33</td>\n",
              "      <td>19.0</td>\n",
              "      <td>1241.0</td>\n",
              "      <td>244.0</td>\n",
              "      <td>850.0</td>\n",
              "      <td>237.0</td>\n",
              "      <td>2.9375</td>\n",
              "      <td>81700.0</td>\n",
              "    </tr>\n",
              "    <tr>\n",
              "      <th>...</th>\n",
              "      <td>...</td>\n",
              "      <td>...</td>\n",
              "      <td>...</td>\n",
              "      <td>...</td>\n",
              "      <td>...</td>\n",
              "      <td>...</td>\n",
              "      <td>...</td>\n",
              "      <td>...</td>\n",
              "      <td>...</td>\n",
              "    </tr>\n",
              "    <tr>\n",
              "      <th>2995</th>\n",
              "      <td>-119.86</td>\n",
              "      <td>34.42</td>\n",
              "      <td>23.0</td>\n",
              "      <td>1450.0</td>\n",
              "      <td>642.0</td>\n",
              "      <td>1258.0</td>\n",
              "      <td>607.0</td>\n",
              "      <td>1.1790</td>\n",
              "      <td>225000.0</td>\n",
              "    </tr>\n",
              "    <tr>\n",
              "      <th>2996</th>\n",
              "      <td>-118.14</td>\n",
              "      <td>34.06</td>\n",
              "      <td>27.0</td>\n",
              "      <td>5257.0</td>\n",
              "      <td>1082.0</td>\n",
              "      <td>3496.0</td>\n",
              "      <td>1036.0</td>\n",
              "      <td>3.3906</td>\n",
              "      <td>237200.0</td>\n",
              "    </tr>\n",
              "    <tr>\n",
              "      <th>2997</th>\n",
              "      <td>-119.70</td>\n",
              "      <td>36.30</td>\n",
              "      <td>10.0</td>\n",
              "      <td>956.0</td>\n",
              "      <td>201.0</td>\n",
              "      <td>693.0</td>\n",
              "      <td>220.0</td>\n",
              "      <td>2.2895</td>\n",
              "      <td>62000.0</td>\n",
              "    </tr>\n",
              "    <tr>\n",
              "      <th>2998</th>\n",
              "      <td>-117.12</td>\n",
              "      <td>34.10</td>\n",
              "      <td>40.0</td>\n",
              "      <td>96.0</td>\n",
              "      <td>14.0</td>\n",
              "      <td>46.0</td>\n",
              "      <td>14.0</td>\n",
              "      <td>3.2708</td>\n",
              "      <td>162500.0</td>\n",
              "    </tr>\n",
              "    <tr>\n",
              "      <th>2999</th>\n",
              "      <td>-119.63</td>\n",
              "      <td>34.42</td>\n",
              "      <td>42.0</td>\n",
              "      <td>1765.0</td>\n",
              "      <td>263.0</td>\n",
              "      <td>753.0</td>\n",
              "      <td>260.0</td>\n",
              "      <td>8.5608</td>\n",
              "      <td>500001.0</td>\n",
              "    </tr>\n",
              "  </tbody>\n",
              "</table>\n",
              "<p>3000 rows × 9 columns</p>\n",
              "</div>\n",
              "    <div class=\"colab-df-buttons\">\n",
              "\n",
              "  <div class=\"colab-df-container\">\n",
              "    <button class=\"colab-df-convert\" onclick=\"convertToInteractive('df-f7fb56e6-48e0-4c59-bc1d-f7013a814219')\"\n",
              "            title=\"Convert this dataframe to an interactive table.\"\n",
              "            style=\"display:none;\">\n",
              "\n",
              "  <svg xmlns=\"http://www.w3.org/2000/svg\" height=\"24px\" viewBox=\"0 -960 960 960\">\n",
              "    <path d=\"M120-120v-720h720v720H120Zm60-500h600v-160H180v160Zm220 220h160v-160H400v160Zm0 220h160v-160H400v160ZM180-400h160v-160H180v160Zm440 0h160v-160H620v160ZM180-180h160v-160H180v160Zm440 0h160v-160H620v160Z\"/>\n",
              "  </svg>\n",
              "    </button>\n",
              "\n",
              "  <style>\n",
              "    .colab-df-container {\n",
              "      display:flex;\n",
              "      gap: 12px;\n",
              "    }\n",
              "\n",
              "    .colab-df-convert {\n",
              "      background-color: #E8F0FE;\n",
              "      border: none;\n",
              "      border-radius: 50%;\n",
              "      cursor: pointer;\n",
              "      display: none;\n",
              "      fill: #1967D2;\n",
              "      height: 32px;\n",
              "      padding: 0 0 0 0;\n",
              "      width: 32px;\n",
              "    }\n",
              "\n",
              "    .colab-df-convert:hover {\n",
              "      background-color: #E2EBFA;\n",
              "      box-shadow: 0px 1px 2px rgba(60, 64, 67, 0.3), 0px 1px 3px 1px rgba(60, 64, 67, 0.15);\n",
              "      fill: #174EA6;\n",
              "    }\n",
              "\n",
              "    .colab-df-buttons div {\n",
              "      margin-bottom: 4px;\n",
              "    }\n",
              "\n",
              "    [theme=dark] .colab-df-convert {\n",
              "      background-color: #3B4455;\n",
              "      fill: #D2E3FC;\n",
              "    }\n",
              "\n",
              "    [theme=dark] .colab-df-convert:hover {\n",
              "      background-color: #434B5C;\n",
              "      box-shadow: 0px 1px 3px 1px rgba(0, 0, 0, 0.15);\n",
              "      filter: drop-shadow(0px 1px 2px rgba(0, 0, 0, 0.3));\n",
              "      fill: #FFFFFF;\n",
              "    }\n",
              "  </style>\n",
              "\n",
              "    <script>\n",
              "      const buttonEl =\n",
              "        document.querySelector('#df-f7fb56e6-48e0-4c59-bc1d-f7013a814219 button.colab-df-convert');\n",
              "      buttonEl.style.display =\n",
              "        google.colab.kernel.accessAllowed ? 'block' : 'none';\n",
              "\n",
              "      async function convertToInteractive(key) {\n",
              "        const element = document.querySelector('#df-f7fb56e6-48e0-4c59-bc1d-f7013a814219');\n",
              "        const dataTable =\n",
              "          await google.colab.kernel.invokeFunction('convertToInteractive',\n",
              "                                                    [key], {});\n",
              "        if (!dataTable) return;\n",
              "\n",
              "        const docLinkHtml = 'Like what you see? Visit the ' +\n",
              "          '<a target=\"_blank\" href=https://colab.research.google.com/notebooks/data_table.ipynb>data table notebook</a>'\n",
              "          + ' to learn more about interactive tables.';\n",
              "        element.innerHTML = '';\n",
              "        dataTable['output_type'] = 'display_data';\n",
              "        await google.colab.output.renderOutput(dataTable, element);\n",
              "        const docLink = document.createElement('div');\n",
              "        docLink.innerHTML = docLinkHtml;\n",
              "        element.appendChild(docLink);\n",
              "      }\n",
              "    </script>\n",
              "  </div>\n",
              "\n",
              "\n",
              "<div id=\"df-982058f8-3b88-42c1-8d7e-85f17a57f7ee\">\n",
              "  <button class=\"colab-df-quickchart\" onclick=\"quickchart('df-982058f8-3b88-42c1-8d7e-85f17a57f7ee')\"\n",
              "            title=\"Suggest charts\"\n",
              "            style=\"display:none;\">\n",
              "\n",
              "<svg xmlns=\"http://www.w3.org/2000/svg\" height=\"24px\"viewBox=\"0 0 24 24\"\n",
              "     width=\"24px\">\n",
              "    <g>\n",
              "        <path d=\"M19 3H5c-1.1 0-2 .9-2 2v14c0 1.1.9 2 2 2h14c1.1 0 2-.9 2-2V5c0-1.1-.9-2-2-2zM9 17H7v-7h2v7zm4 0h-2V7h2v10zm4 0h-2v-4h2v4z\"/>\n",
              "    </g>\n",
              "</svg>\n",
              "  </button>\n",
              "\n",
              "<style>\n",
              "  .colab-df-quickchart {\n",
              "      --bg-color: #E8F0FE;\n",
              "      --fill-color: #1967D2;\n",
              "      --hover-bg-color: #E2EBFA;\n",
              "      --hover-fill-color: #174EA6;\n",
              "      --disabled-fill-color: #AAA;\n",
              "      --disabled-bg-color: #DDD;\n",
              "  }\n",
              "\n",
              "  [theme=dark] .colab-df-quickchart {\n",
              "      --bg-color: #3B4455;\n",
              "      --fill-color: #D2E3FC;\n",
              "      --hover-bg-color: #434B5C;\n",
              "      --hover-fill-color: #FFFFFF;\n",
              "      --disabled-bg-color: #3B4455;\n",
              "      --disabled-fill-color: #666;\n",
              "  }\n",
              "\n",
              "  .colab-df-quickchart {\n",
              "    background-color: var(--bg-color);\n",
              "    border: none;\n",
              "    border-radius: 50%;\n",
              "    cursor: pointer;\n",
              "    display: none;\n",
              "    fill: var(--fill-color);\n",
              "    height: 32px;\n",
              "    padding: 0;\n",
              "    width: 32px;\n",
              "  }\n",
              "\n",
              "  .colab-df-quickchart:hover {\n",
              "    background-color: var(--hover-bg-color);\n",
              "    box-shadow: 0 1px 2px rgba(60, 64, 67, 0.3), 0 1px 3px 1px rgba(60, 64, 67, 0.15);\n",
              "    fill: var(--button-hover-fill-color);\n",
              "  }\n",
              "\n",
              "  .colab-df-quickchart-complete:disabled,\n",
              "  .colab-df-quickchart-complete:disabled:hover {\n",
              "    background-color: var(--disabled-bg-color);\n",
              "    fill: var(--disabled-fill-color);\n",
              "    box-shadow: none;\n",
              "  }\n",
              "\n",
              "  .colab-df-spinner {\n",
              "    border: 2px solid var(--fill-color);\n",
              "    border-color: transparent;\n",
              "    border-bottom-color: var(--fill-color);\n",
              "    animation:\n",
              "      spin 1s steps(1) infinite;\n",
              "  }\n",
              "\n",
              "  @keyframes spin {\n",
              "    0% {\n",
              "      border-color: transparent;\n",
              "      border-bottom-color: var(--fill-color);\n",
              "      border-left-color: var(--fill-color);\n",
              "    }\n",
              "    20% {\n",
              "      border-color: transparent;\n",
              "      border-left-color: var(--fill-color);\n",
              "      border-top-color: var(--fill-color);\n",
              "    }\n",
              "    30% {\n",
              "      border-color: transparent;\n",
              "      border-left-color: var(--fill-color);\n",
              "      border-top-color: var(--fill-color);\n",
              "      border-right-color: var(--fill-color);\n",
              "    }\n",
              "    40% {\n",
              "      border-color: transparent;\n",
              "      border-right-color: var(--fill-color);\n",
              "      border-top-color: var(--fill-color);\n",
              "    }\n",
              "    60% {\n",
              "      border-color: transparent;\n",
              "      border-right-color: var(--fill-color);\n",
              "    }\n",
              "    80% {\n",
              "      border-color: transparent;\n",
              "      border-right-color: var(--fill-color);\n",
              "      border-bottom-color: var(--fill-color);\n",
              "    }\n",
              "    90% {\n",
              "      border-color: transparent;\n",
              "      border-bottom-color: var(--fill-color);\n",
              "    }\n",
              "  }\n",
              "</style>\n",
              "\n",
              "  <script>\n",
              "    async function quickchart(key) {\n",
              "      const quickchartButtonEl =\n",
              "        document.querySelector('#' + key + ' button');\n",
              "      quickchartButtonEl.disabled = true;  // To prevent multiple clicks.\n",
              "      quickchartButtonEl.classList.add('colab-df-spinner');\n",
              "      try {\n",
              "        const charts = await google.colab.kernel.invokeFunction(\n",
              "            'suggestCharts', [key], {});\n",
              "      } catch (error) {\n",
              "        console.error('Error during call to suggestCharts:', error);\n",
              "      }\n",
              "      quickchartButtonEl.classList.remove('colab-df-spinner');\n",
              "      quickchartButtonEl.classList.add('colab-df-quickchart-complete');\n",
              "    }\n",
              "    (() => {\n",
              "      let quickchartButtonEl =\n",
              "        document.querySelector('#df-982058f8-3b88-42c1-8d7e-85f17a57f7ee button');\n",
              "      quickchartButtonEl.style.display =\n",
              "        google.colab.kernel.accessAllowed ? 'block' : 'none';\n",
              "    })();\n",
              "  </script>\n",
              "</div>\n",
              "    </div>\n",
              "  </div>\n"
            ]
          },
          "metadata": {},
          "execution_count": 60
        }
      ]
    },
    {
      "cell_type": "code",
      "source": [
        "x=pd.read_csv(\"/content/sample_data/california_housing_test.csv\")\n"
      ],
      "metadata": {
        "id": "9_yoAKqb5yYw"
      },
      "execution_count": null,
      "outputs": []
    },
    {
      "cell_type": "code",
      "source": [
        "plt.bar(x[\"longitude\"],x[\"latitude\"])"
      ],
      "metadata": {
        "colab": {
          "base_uri": "https://localhost:8080/",
          "height": 447
        },
        "id": "B31SFNNi7I2y",
        "outputId": "d288ad59-3b85-4fa4-90a8-af14e9723876"
      },
      "execution_count": null,
      "outputs": [
        {
          "output_type": "execute_result",
          "data": {
            "text/plain": [
              "<BarContainer object of 3000 artists>"
            ]
          },
          "metadata": {},
          "execution_count": 63
        },
        {
          "output_type": "display_data",
          "data": {
            "text/plain": [
              "<Figure size 640x480 with 1 Axes>"
            ],
            "image/png": "[encoded data removed]"
          },
          "metadata": {}
        }
      ]
    },
    {
      "cell_type": "code",
      "source": [
        "plt.bar(x[\"total_rooms\"],x[\"total_bedrooms\"])"
      ],
      "metadata": {
        "colab": {
          "base_uri": "https://localhost:8080/",
          "height": 447
        },
        "id": "F5Xd1YNn7SB2",
        "outputId": "c9433ad0-6509-441e-8ce9-4c2f764eee1b"
      },
      "execution_count": null,
      "outputs": [
        {
          "output_type": "execute_result",
          "data": {
            "text/plain": [
              "<BarContainer object of 3000 artists>"
            ]
          },
          "metadata": {},
          "execution_count": 64
        },
        {
          "output_type": "display_data",
          "data": {
            "text/plain": [
              "<Figure size 640x480 with 1 Axes>"
            ],
            "image/png": "[encoded data removed]"
          },
          "metadata": {}
        }
      ]
    },
    {
      "cell_type": "code",
      "source": [
        "plt.bar(x[\"population\"],x[\"households\"])"
      ],
      "metadata": {
        "colab": {
          "base_uri": "https://localhost:8080/",
          "height": 447
        },
        "id": "Bw_sC8ls8cD6",
        "outputId": "0c06c969-63d5-4a81-9be2-8e286a96f7fd"
      },
      "execution_count": null,
      "outputs": [
        {
          "output_type": "execute_result",
          "data": {
            "text/plain": [
              "<BarContainer object of 3000 artists>"
            ]
          },
          "metadata": {},
          "execution_count": 65
        },
        {
          "output_type": "display_data",
          "data": {
            "text/plain": [
              "<Figure size 640x480 with 1 Axes>"
            ],
            "image/png": "[encoded data removed]"
          },
          "metadata": {}
        }
      ]
    },
    {
      "cell_type": "code",
      "source": [
        "plt.bar(x[\"median_income\"],x[\"median_house_value\"])"
      ],
      "metadata": {
        "colab": {
          "base_uri": "https://localhost:8080/",
          "height": 447
        },
        "id": "_P3VTQfA8mIG",
        "outputId": "2881e143-bcee-4862-f8d3-a4c2cd89aa96"
      },
      "execution_count": null,
      "outputs": [
        {
          "output_type": "execute_result",
          "data": {
            "text/plain": [
              "<BarContainer object of 3000 artists>"
            ]
          },
          "metadata": {},
          "execution_count": 67
        },
        {
          "output_type": "display_data",
          "data": {
            "text/plain": [
              "<Figure size 640x480 with 1 Axes>"
            ],
            "image/png": "[encoded data removed]"
          },
          "metadata": {}
        }
      ]
    },
    {
      "cell_type": "code",
      "source": [
        "plt.pie(x[\"population\"])"
      ],
      "metadata": {
        "colab": {
          "base_uri": "https://localhost:8080/",
          "height": 1000
        },
        "id": "RauGoRJy8xiY",
        "outputId": "34c8da02-7287-4851-8a72-0221d6992be4"
      },
      "execution_count": null,
      "outputs": [
        {
          "output_type": "execute_result",
          "data": {
            "text/plain": [
              "([<matplotlib.patches.Wedge at 0x7a4aa36b5c90>,\n",
              "  <matplotlib.patches.Wedge at 0x7a4aa36b5f60>,\n",
              "  <matplotlib.patches.Wedge at 0x7a4aa366fc40>,\n",
              "  <matplotlib.patches.Wedge at 0x7a4aa366fdc0>,\n",
              "  <matplotlib.patches.Wedge at 0x7a4aa366ffa0>,\n",
              "  <matplotlib.patches.Wedge at 0x7a4aa366f370>,\n",
              "  <matplotlib.patches.Wedge at 0x7a4aa366f730>,\n",
              "  <matplotlib.patches.Wedge at 0x7a4aa366eef0>,\n",
              "  <matplotlib.patches.Wedge at 0x7a4aa366ce80>,\n",
              "  <matplotlib.patches.Wedge at 0x7a4aa366f7f0>,\n",
              "  <matplotlib.patches.Wedge at 0x7a4aa36b74f0>,\n",
              "  <matplotlib.patches.Wedge at 0x7a4aa366e0e0>,\n",
              "  <matplotlib.patches.Wedge at 0x7a4aa366ce50>,\n",
              "  <matplotlib.patches.Wedge at 0x7a4aa366cdc0>,\n",
              "  <matplotlib.patches.Wedge at 0x7a4aa366e530>,\n",
              "  <matplotlib.patches.Wedge at 0x7a4aa36e0130>,\n",
              "  <matplotlib.patches.Wedge at 0x7a4aa36e05b0>,\n",
              "  <matplotlib.patches.Wedge at 0x7a4aa36e0a30>,\n",
              "  <matplotlib.patches.Wedge at 0x7a4aa36e0eb0>,\n",
              "  <matplotlib.patches.Wedge at 0x7a4aa36e1330>,\n",
              "  <matplotlib.patches.Wedge at 0x7a4aa36e17b0>,\n",
              "  <matplotlib.patches.Wedge at 0x7a4aa36e1c30>,\n",
              "  <matplotlib.patches.Wedge at 0x7a4aa36e20b0>,\n",
              "  <matplotlib.patches.Wedge at 0x7a4aa36e2530>,\n",
              "  <matplotlib.patches.Wedge at 0x7a4aa36e29b0>,\n",
              "  <matplotlib.patches.Wedge at 0x7a4aa36e2e30>,\n",
              "  <matplotlib.patches.Wedge at 0x7a4aa36e32b0>,\n",
              "  <matplotlib.patches.Wedge at 0x7a4aa36e3730>,\n",
              "  <matplotlib.patches.Wedge at 0x7a4aa36e3bb0>,\n",
              "  <matplotlib.patches.Wedge at 0x7a4aa3674070>,\n",
              "  <matplotlib.patches.Wedge at 0x7a4aa36744f0>,\n",
              "  <matplotlib.patches.Wedge at 0x7a4aa3674970>,\n",
              "  <matplotlib.patches.Wedge at 0x7a4aa3674df0>,\n",
              "  <matplotlib.patches.Wedge at 0x7a4aa3675270>,\n",
              "  <matplotlib.patches.Wedge at 0x7a4aa36b4070>,\n",
              "  <matplotlib.patches.Wedge at 0x7a4aa3675990>,\n",
              "  <matplotlib.patches.Wedge at 0x7a4aa3675ed0>,\n",
              "  <matplotlib.patches.Wedge at 0x7a4aa36762c0>,\n",
              "  <matplotlib.patches.Wedge at 0x7a4aa3676740>,\n",
              "  <matplotlib.patches.Wedge at 0x7a4aa3676bc0>,\n",
              "  <matplotlib.patches.Wedge at 0x7a4aa3677040>,\n",
              "  <matplotlib.patches.Wedge at 0x7a4aa36774c0>,\n",
              "  <matplotlib.patches.Wedge at 0x7a4aa3677a30>,\n",
              "  <matplotlib.patches.Wedge at 0x7a4aa3677df0>,\n",
              "  <matplotlib.patches.Wedge at 0x7a4aa36a42b0>,\n",
              "  <matplotlib.patches.Wedge at 0x7a4aa36a4730>,\n",
              "  <matplotlib.patches.Wedge at 0x7a4aa36a4bb0>,\n",
              "  <matplotlib.patches.Wedge at 0x7a4aa36a5030>,\n",
              "  <matplotlib.patches.Wedge at 0x7a4aa36a54b0>,\n",
              "  <matplotlib.patches.Wedge at 0x7a4aa36a5930>,\n",
              "  <matplotlib.patches.Wedge at 0x7a4aa36a5db0>,\n",
              "  <matplotlib.patches.Wedge at 0x7a4aa36a6230>,\n",
              "  <matplotlib.patches.Wedge at 0x7a4aa36a66b0>,\n",
              "  <matplotlib.patches.Wedge at 0x7a4aa36a6b30>,\n",
              "  <matplotlib.patches.Wedge at 0x7a4aa36a6fb0>,\n",
              "  <matplotlib.patches.Wedge at 0x7a4aa36a7430>,\n",
              "  <matplotlib.patches.Wedge at 0x7a4aa36a78b0>,\n",
              "  <matplotlib.patches.Wedge at 0x7a4aa36a7d30>,\n",
              "  <matplotlib.patches.Wedge at 0x7a4aa37101f0>,\n",
              "  <matplotlib.patches.Wedge at 0x7a4aa3710670>,\n",
              "  <matplotlib.patches.Wedge at 0x7a4aa3710af0>,\n",
              "  <matplotlib.patches.Wedge at 0x7a4aa3710f70>,\n",
              "  <matplotlib.patches.Wedge at 0x7a4aa37113f0>,\n",
              "  <matplotlib.patches.Wedge at 0x7a4aa3711870>,\n",
              "  <matplotlib.patches.Wedge at 0x7a4aa3711cf0>,\n",
              "  <matplotlib.patches.Wedge at 0x7a4aa3712170>,\n",
              "  <matplotlib.patches.Wedge at 0x7a4aa37125f0>,\n",
              "  <matplotlib.patches.Wedge at 0x7a4aa3712a70>,\n",
              "  <matplotlib.patches.Wedge at 0x7a4aa3712ef0>,\n",
              "  <matplotlib.patches.Wedge at 0x7a4aa3713370>,\n",
              "  <matplotlib.patches.Wedge at 0x7a4aa37137f0>,\n",
              "  <matplotlib.patches.Wedge at 0x7a4aa3713ca0>,\n",
              "  <matplotlib.patches.Wedge at 0x7a4aa3324130>,\n",
              "  <matplotlib.patches.Wedge at 0x7a4aa33245b0>,\n",
              "  <matplotlib.patches.Wedge at 0x7a4aa3324a30>,\n",
              "  <matplotlib.patches.Wedge at 0x7a4aa3324eb0>,\n",
              "  <matplotlib.patches.Wedge at 0x7a4aa3325330>,\n",
              "  <matplotlib.patches.Wedge at 0x7a4aa33257b0>,\n",
              "  <matplotlib.patches.Wedge at 0x7a4aa3325c30>,\n",
              "  <matplotlib.patches.Wedge at 0x7a4aa33260b0>,\n",
              "  <matplotlib.patches.Wedge at 0x7a4aa3326530>,\n",
              "  <matplotlib.patches.Wedge at 0x7a4aa33269b0>,\n",
              "  <matplotlib.patches.Wedge at 0x7a4aa3326e30>,\n",
              "  <matplotlib.patches.Wedge at 0x7a4aa33272b0>,\n",
              "  <matplotlib.patches.Wedge at 0x7a4aa3327730>,\n",
              "  <matplotlib.patches.Wedge at 0x7a4aa3327bb0>,\n",
              "  <matplotlib.patches.Wedge at 0x7a4aa32a0070>,\n",
              "  <matplotlib.patches.Wedge at 0x7a4aa32a04f0>,\n",
              "  <matplotlib.patches.Wedge at 0x7a4aa32a0970>,\n",
              "  <matplotlib.patches.Wedge at 0x7a4aa32a0df0>,\n",
              "  <matplotlib.patches.Wedge at 0x7a4aa32a1270>,\n",
              "  <matplotlib.patches.Wedge at 0x7a4aa32a16f0>,\n",
              "  <matplotlib.patches.Wedge at 0x7a4aa32a1b70>,\n",
              "  <matplotlib.patches.Wedge at 0x7a4aa32a1ff0>,\n",
              "  <matplotlib.patches.Wedge at 0x7a4aa32a2470>,\n",
              "  <matplotlib.patches.Wedge at 0x7a4aa32a28f0>,\n",
              "  <matplotlib.patches.Wedge at 0x7a4aa32a2d70>,\n",
              "  <matplotlib.patches.Wedge at 0x7a4aa32a31f0>,\n",
              "  <matplotlib.patches.Wedge at 0x7a4aa32a3670>,\n",
              "  <matplotlib.patches.Wedge at 0x7a4aa32a3af0>,\n",
              "  <matplotlib.patches.Wedge at 0x7a4aa32a3f70>,\n",
              "  <matplotlib.patches.Wedge at 0x7a4aa3298430>,\n",
              "  <matplotlib.patches.Wedge at 0x7a4aa32988b0>,\n",
              "  <matplotlib.patches.Wedge at 0x7a4aa3298d30>,\n",
              "  <matplotlib.patches.Wedge at 0x7a4aa32991b0>,\n",
              "  <matplotlib.patches.Wedge at 0x7a4aa3299630>,\n",
              "  <matplotlib.patches.Wedge at 0x7a4aa3299ab0>,\n",
              "  <matplotlib.patches.Wedge at 0x7a4aa3299f30>,\n",
              "  <matplotlib.patches.Wedge at 0x7a4aa329a3b0>,\n",
              "  <matplotlib.patches.Wedge at 0x7a4aa329a830>,\n",
              "  <matplotlib.patches.Wedge at 0x7a4aa329acb0>,\n",
              "  <matplotlib.patches.Wedge at 0x7a4aa329b130>,\n",
              "  <matplotlib.patches.Wedge at 0x7a4aa329b5b0>,\n",
              "  <matplotlib.patches.Wedge at 0x7a4aa329ba30>,\n",
              "  <matplotlib.patches.Wedge at 0x7a4aa329beb0>,\n",
              "  <matplotlib.patches.Wedge at 0x7a4aa32a8370>,\n",
              "  <matplotlib.patches.Wedge at 0x7a4aa32a87f0>,\n",
              "  <matplotlib.patches.Wedge at 0x7a4aa32a8c70>,\n",
              "  <matplotlib.patches.Wedge at 0x7a4aa32a90f0>,\n",
              "  <matplotlib.patches.Wedge at 0x7a4aa32a9570>,\n",
              "  <matplotlib.patches.Wedge at 0x7a4aa32a99f0>,\n",
              "  <matplotlib.patches.Wedge at 0x7a4aa32a9e70>,\n",
              "  <matplotlib.patches.Wedge at 0x7a4aa32aa2f0>,\n",
              "  <matplotlib.patches.Wedge at 0x7a4aa32aa770>,\n",
              "  <matplotlib.patches.Wedge at 0x7a4aa32aabf0>,\n",
              "  <matplotlib.patches.Wedge at 0x7a4aa32ab070>,\n",
              "  <matplotlib.patches.Wedge at 0x7a4aa32ab4f0>,\n",
              "  <matplotlib.patches.Wedge at 0x7a4aa32ab970>,\n",
              "  <matplotlib.patches.Wedge at 0x7a4aa32abdf0>,\n",
              "  <matplotlib.patches.Wedge at 0x7a4aa33c02b0>,\n",
              "  <matplotlib.patches.Wedge at 0x7a4aa33c0730>,\n",
              "  <matplotlib.patches.Wedge at 0x7a4aa33c0bb0>,\n",
              "  <matplotlib.patches.Wedge at 0x7a4aa33c1030>,\n",
              "  <matplotlib.patches.Wedge at 0x7a4aa33c14b0>,\n",
              "  <matplotlib.patches.Wedge at 0x7a4aa33c1930>,\n",
              "  <matplotlib.patches.Wedge at 0x7a4aa33c1db0>,\n",
              "  <matplotlib.patches.Wedge at 0x7a4aa33c2230>,\n",
              "  <matplotlib.patches.Wedge at 0x7a4aa33c26b0>,\n",
              "  <matplotlib.patches.Wedge at 0x7a4aa33c2b30>,\n",
              "  <matplotlib.patches.Wedge at 0x7a4aa33c2fb0>,\n",
              "  <matplotlib.patches.Wedge at 0x7a4aa33c3430>,\n",
              "  <matplotlib.patches.Wedge at 0x7a4aa33c38b0>,\n",
              "  <matplotlib.patches.Wedge at 0x7a4aa33c3d30>,\n",
              "  <matplotlib.patches.Wedge at 0x7a4aa33f01f0>,\n",
              "  <matplotlib.patches.Wedge at 0x7a4aa33f0670>,\n",
              "  <matplotlib.patches.Wedge at 0x7a4aa33f0af0>,\n",
              "  <matplotlib.patches.Wedge at 0x7a4aa33f0f70>,\n",
              "  <matplotlib.patches.Wedge at 0x7a4aa33f13f0>,\n",
              "  <matplotlib.patches.Wedge at 0x7a4aa33f1870>,\n",
              "  <matplotlib.patches.Wedge at 0x7a4aa33f1cf0>,\n",
              "  <matplotlib.patches.Wedge at 0x7a4aa33f2170>,\n",
              "  <matplotlib.patches.Wedge at 0x7a4aa33f25f0>,\n",
              "  <matplotlib.patches.Wedge at 0x7a4aa33f2a70>,\n",
              "  <matplotlib.patches.Wedge at 0x7a4aa33f2ef0>,\n",
              "  <matplotlib.patches.Wedge at 0x7a4aa33f3370>,\n",
              "  <matplotlib.patches.Wedge at 0x7a4aa33f37f0>,\n",
              "  <matplotlib.patches.Wedge at 0x7a4aa33f3c70>,\n",
              "  <matplotlib.patches.Wedge at 0x7a4aa3368160>,\n",
              "  <matplotlib.patches.Wedge at 0x7a4aa3368700>,\n",
              "  <matplotlib.patches.Wedge at 0x7a4aa3368be0>,\n",
              "  <matplotlib.patches.Wedge at 0x7a4aa3368f70>,\n",
              "  <matplotlib.patches.Wedge at 0x7a4aa3369210>,\n",
              "  <matplotlib.patches.Wedge at 0x7a4aa33698d0>,\n",
              "  <matplotlib.patches.Wedge at 0x7a4aa3369b40>,\n",
              "  <matplotlib.patches.Wedge at 0x7a4aa336a0b0>,\n",
              "  <matplotlib.patches.Wedge at 0x7a4aa336a6e0>,\n",
              "  <matplotlib.patches.Wedge at 0x7a4aa336a440>,\n",
              "  <matplotlib.patches.Wedge at 0x7a4aa336b4f0>,\n",
              "  <matplotlib.patches.Wedge at 0x7a4aa336b6d0>,\n",
              "  <matplotlib.patches.Wedge at 0x7a4aa336aef0>,\n",
              "  <matplotlib.patches.Wedge at 0x7a4aa336bd00>,\n",
              "  <matplotlib.patches.Wedge at 0x7a4aa33640d0>,\n",
              "  <matplotlib.patches.Wedge at 0x7a4aa3364550>,\n",
              "  <matplotlib.patches.Wedge at 0x7a4aa33649d0>,\n",
              "  <matplotlib.patches.Wedge at 0x7a4aa3364e50>,\n",
              "  <matplotlib.patches.Wedge at 0x7a4aa33652d0>,\n",
              "  <matplotlib.patches.Wedge at 0x7a4aa3365750>,\n",
              "  <matplotlib.patches.Wedge at 0x7a4aa3365bd0>,\n",
              "  <matplotlib.patches.Wedge at 0x7a4aa3366050>,\n",
              "  <matplotlib.patches.Wedge at 0x7a4aa33664d0>,\n",
              "  <matplotlib.patches.Wedge at 0x7a4aa3366950>,\n",
              "  <matplotlib.patches.Wedge at 0x7a4aa3366dd0>,\n",
              "  <matplotlib.patches.Wedge at 0x7a4aa3367250>,\n",
              "  <matplotlib.patches.Wedge at 0x7a4aa33676d0>,\n",
              "  <matplotlib.patches.Wedge at 0x7a4aa3367b50>,\n",
              "  <matplotlib.patches.Wedge at 0x7a4aa3367fd0>,\n",
              "  <matplotlib.patches.Wedge at 0x7a4aa31b0490>,\n",
              "  <matplotlib.patches.Wedge at 0x7a4aa31b0910>,\n",
              "  <matplotlib.patches.Wedge at 0x7a4aa31b0d90>,\n",
              "  <matplotlib.patches.Wedge at 0x7a4aa31b1210>,\n",
              "  <matplotlib.patches.Wedge at 0x7a4aa31b1690>,\n",
              "  <matplotlib.patches.Wedge at 0x7a4aa31b1b10>,\n",
              "  <matplotlib.patches.Wedge at 0x7a4aa31b1f90>,\n",
              "  <matplotlib.patches.Wedge at 0x7a4aa31b2500>,\n",
              "  <matplotlib.patches.Wedge at 0x7a4aa31b28c0>,\n",
              "  <matplotlib.patches.Wedge at 0x7a4aa31b2d40>,\n",
              "  <matplotlib.patches.Wedge at 0x7a4aa31b31c0>,\n",
              "  <matplotlib.patches.Wedge at 0x7a4aa31b3640>,\n",
              "  <matplotlib.patches.Wedge at 0x7a4aa31b3ac0>,\n",
              "  <matplotlib.patches.Wedge at 0x7a4aa31b3f40>,\n",
              "  <matplotlib.patches.Wedge at 0x7a4aa3144400>,\n",
              "  <matplotlib.patches.Wedge at 0x7a4aa3144880>,\n",
              "  <matplotlib.patches.Wedge at 0x7a4aa3144d00>,\n",
              "  <matplotlib.patches.Wedge at 0x7a4aa3145180>,\n",
              "  <matplotlib.patches.Wedge at 0x7a4aa3145600>,\n",
              "  <matplotlib.patches.Wedge at 0x7a4aa3145a80>,\n",
              "  <matplotlib.patches.Wedge at 0x7a4aa3145f00>,\n",
              "  <matplotlib.patches.Wedge at 0x7a4aa3146380>,\n",
              "  <matplotlib.patches.Wedge at 0x7a4aa3146800>,\n",
              "  <matplotlib.patches.Wedge at 0x7a4aa3146c80>,\n",
              "  <matplotlib.patches.Wedge at 0x7a4aa3147100>,\n",
              "  <matplotlib.patches.Wedge at 0x7a4aa3147580>,\n",
              "  <matplotlib.patches.Wedge at 0x7a4aa3147a00>,\n",
              "  <matplotlib.patches.Wedge at 0x7a4aa3147e80>,\n",
              "  <matplotlib.patches.Wedge at 0x7a4aa3138340>,\n",
              "  <matplotlib.patches.Wedge at 0x7a4aa31387c0>,\n",
              "  <matplotlib.patches.Wedge at 0x7a4aa3138c40>,\n",
              "  <matplotlib.patches.Wedge at 0x7a4aa31390c0>,\n",
              "  <matplotlib.patches.Wedge at 0x7a4aa3139540>,\n",
              "  <matplotlib.patches.Wedge at 0x7a4aa31399c0>,\n",
              "  <matplotlib.patches.Wedge at 0x7a4aa3139e40>,\n",
              "  <matplotlib.patches.Wedge at 0x7a4aa313a140>,\n",
              "  <matplotlib.patches.Wedge at 0x7a4aa313a710>,\n",
              "  <matplotlib.patches.Wedge at 0x7a4aa313ab90>,\n",
              "  <matplotlib.patches.Wedge at 0x7a4aa313b010>,\n",
              "  <matplotlib.patches.Wedge at 0x7a4aa313b490>,\n",
              "  <matplotlib.patches.Wedge at 0x7a4aa313b910>,\n",
              "  <matplotlib.patches.Wedge at 0x7a4aa313bd90>,\n",
              "  <matplotlib.patches.Wedge at 0x7a4aa320c250>,\n",
              "  <matplotlib.patches.Wedge at 0x7a4aa320c6d0>,\n",
              "  <matplotlib.patches.Wedge at 0x7a4aa320cb50>,\n",
              "  <matplotlib.patches.Wedge at 0x7a4aa320cfd0>,\n",
              "  <matplotlib.patches.Wedge at 0x7a4aa320d450>,\n",
              "  <matplotlib.patches.Wedge at 0x7a4aa320d8d0>,\n",
              "  <matplotlib.patches.Wedge at 0x7a4aa320dd50>,\n",
              "  <matplotlib.patches.Wedge at 0x7a4aa320e1d0>,\n",
              "  <matplotlib.patches.Wedge at 0x7a4aa320e650>,\n",
              "  <matplotlib.patches.Wedge at 0x7a4aa320ead0>,\n",
              "  <matplotlib.patches.Wedge at 0x7a4aa320ef50>,\n",
              "  <matplotlib.patches.Wedge at 0x7a4aa320f3d0>,\n",
              "  <matplotlib.patches.Wedge at 0x7a4aa320f850>,\n",
              "  <matplotlib.patches.Wedge at 0x7a4aa320fcd0>,\n",
              "  <matplotlib.patches.Wedge at 0x7a4aa35d0190>,\n",
              "  <matplotlib.patches.Wedge at 0x7a4aa35d0610>,\n",
              "  <matplotlib.patches.Wedge at 0x7a4aa35d0a90>,\n",
              "  <matplotlib.patches.Wedge at 0x7a4aa35d0f10>,\n",
              "  <matplotlib.patches.Wedge at 0x7a4aa35d1390>,\n",
              "  <matplotlib.patches.Wedge at 0x7a4aa35d1810>,\n",
              "  <matplotlib.patches.Wedge at 0x7a4aa35d1c90>,\n",
              "  <matplotlib.patches.Wedge at 0x7a4aa35d2110>,\n",
              "  <matplotlib.patches.Wedge at 0x7a4aa35d2590>,\n",
              "  <matplotlib.patches.Wedge at 0x7a4aa35d2a10>,\n",
              "  <matplotlib.patches.Wedge at 0x7a4aa35d2e90>,\n",
              "  <matplotlib.patches.Wedge at 0x7a4aa35d3310>,\n",
              "  <matplotlib.patches.Wedge at 0x7a4aa35d3790>,\n",
              "  <matplotlib.patches.Wedge at 0x7a4aa35d3c10>,\n",
              "  <matplotlib.patches.Wedge at 0x7a4aa35bc0d0>,\n",
              "  <matplotlib.patches.Wedge at 0x7a4aa35bc550>,\n",
              "  <matplotlib.patches.Wedge at 0x7a4aa35bc9d0>,\n",
              "  <matplotlib.patches.Wedge at 0x7a4aa35bce50>,\n",
              "  <matplotlib.patches.Wedge at 0x7a4aa35bd2d0>,\n",
              "  <matplotlib.patches.Wedge at 0x7a4aa35bd750>,\n",
              "  <matplotlib.patches.Wedge at 0x7a4aa35bdbd0>,\n",
              "  <matplotlib.patches.Wedge at 0x7a4aa35be050>,\n",
              "  <matplotlib.patches.Wedge at 0x7a4aa35be4d0>,\n",
              "  <matplotlib.patches.Wedge at 0x7a4aa35be950>,\n",
              "  <matplotlib.patches.Wedge at 0x7a4aa35bedd0>,\n",
              "  <matplotlib.patches.Wedge at 0x7a4aa35bf250>,\n",
              "  <matplotlib.patches.Wedge at 0x7a4aa35bf6d0>,\n",
              "  <matplotlib.patches.Wedge at 0x7a4aa35bfb50>,\n",
              "  <matplotlib.patches.Wedge at 0x7a4aa35bffd0>,\n",
              "  <matplotlib.patches.Wedge at 0x7a4aa3568490>,\n",
              "  <matplotlib.patches.Wedge at 0x7a4aa3568910>,\n",
              "  <matplotlib.patches.Wedge at 0x7a4aa3568d90>,\n",
              "  <matplotlib.patches.Wedge at 0x7a4aa3569210>,\n",
              "  <matplotlib.patches.Wedge at 0x7a4aa3569690>,\n",
              "  <matplotlib.patches.Wedge at 0x7a4aa3569b10>,\n",
              "  <matplotlib.patches.Wedge at 0x7a4aa3569f90>,\n",
              "  <matplotlib.patches.Wedge at 0x7a4aa356a410>,\n",
              "  <matplotlib.patches.Wedge at 0x7a4aa356a890>,\n",
              "  <matplotlib.patches.Wedge at 0x7a4aa356ad10>,\n",
              "  <matplotlib.patches.Wedge at 0x7a4aa356b190>,\n",
              "  <matplotlib.patches.Wedge at 0x7a4aa356b610>,\n",
              "  <matplotlib.patches.Wedge at 0x7a4aa356ba90>,\n",
              "  <matplotlib.patches.Wedge at 0x7a4aa356bf10>,\n",
              "  <matplotlib.patches.Wedge at 0x7a4aa35dc3d0>,\n",
              "  <matplotlib.patches.Wedge at 0x7a4aa35dc850>,\n",
              "  <matplotlib.patches.Wedge at 0x7a4aa35dccd0>,\n",
              "  <matplotlib.patches.Wedge at 0x7a4aa35dd150>,\n",
              "  <matplotlib.patches.Wedge at 0x7a4aa35dd5d0>,\n",
              "  <matplotlib.patches.Wedge at 0x7a4aa35dda50>,\n",
              "  <matplotlib.patches.Wedge at 0x7a4aa35dded0>,\n",
              "  <matplotlib.patches.Wedge at 0x7a4aa35de350>,\n",
              "  <matplotlib.patches.Wedge at 0x7a4aa35de7d0>,\n",
              "  <matplotlib.patches.Wedge at 0x7a4aa35dec50>,\n",
              "  <matplotlib.patches.Wedge at 0x7a4aa35df0d0>,\n",
              "  <matplotlib.patches.Wedge at 0x7a4aa35df550>,\n",
              "  <matplotlib.patches.Wedge at 0x7a4aa35df9d0>,\n",
              "  <matplotlib.patches.Wedge at 0x7a4aa35dfe50>,\n",
              "  <matplotlib.patches.Wedge at 0x7a4aa2e50310>,\n",
              "  <matplotlib.patches.Wedge at 0x7a4aa2e50790>,\n",
              "  <matplotlib.patches.Wedge at 0x7a4aa2e50c10>,\n",
              "  <matplotlib.patches.Wedge at 0x7a4aa2e51090>,\n",
              "  <matplotlib.patches.Wedge at 0x7a4aa2e51510>,\n",
              "  <matplotlib.patches.Wedge at 0x7a4aa2e51990>,\n",
              "  <matplotlib.patches.Wedge at 0x7a4aa2e51e10>,\n",
              "  <matplotlib.patches.Wedge at 0x7a4aa2e52290>,\n",
              "  <matplotlib.patches.Wedge at 0x7a4aa2e52710>,\n",
              "  <matplotlib.patches.Wedge at 0x7a4aa2e52b90>,\n",
              "  <matplotlib.patches.Wedge at 0x7a4aa2e53010>,\n",
              "  <matplotlib.patches.Wedge at 0x7a4aa2e53490>,\n",
              "  <matplotlib.patches.Wedge at 0x7a4aa2e53910>,\n",
              "  <matplotlib.patches.Wedge at 0x7a4aa2e53d90>,\n",
              "  <matplotlib.patches.Wedge at 0x7a4aa2e70250>,\n",
              "  <matplotlib.patches.Wedge at 0x7a4aa2e706d0>,\n",
              "  <matplotlib.patches.Wedge at 0x7a4aa2e70b50>,\n",
              "  <matplotlib.patches.Wedge at 0x7a4aa2e70fd0>,\n",
              "  <matplotlib.patches.Wedge at 0x7a4aa2e71450>,\n",
              "  <matplotlib.patches.Wedge at 0x7a4aa2e718d0>,\n",
              "  <matplotlib.patches.Wedge at 0x7a4aa2e71d50>,\n",
              "  <matplotlib.patches.Wedge at 0x7a4aa2e721d0>,\n",
              "  <matplotlib.patches.Wedge at 0x7a4aa2e72650>,\n",
              "  <matplotlib.patches.Wedge at 0x7a4aa2e72ad0>,\n",
              "  <matplotlib.patches.Wedge at 0x7a4aa2e72f50>,\n",
              "  <matplotlib.patches.Wedge at 0x7a4aa2e733d0>,\n",
              "  <matplotlib.patches.Wedge at 0x7a4aa2e73850>,\n",
              "  <matplotlib.patches.Wedge at 0x7a4aa2e73cd0>,\n",
              "  <matplotlib.patches.Wedge at 0x7a4aa2ea0190>,\n",
              "  <matplotlib.patches.Wedge at 0x7a4aa2ea0640>,\n",
              "  <matplotlib.patches.Wedge at 0x7a4aa2ea0ac0>,\n",
              "  <matplotlib.patches.Wedge at 0x7a4aa2ea0f40>,\n",
              "  <matplotlib.patches.Wedge at 0x7a4aa2ea13c0>,\n",
              "  <matplotlib.patches.Wedge at 0x7a4aa2ea1840>,\n",
              "  <matplotlib.patches.Wedge at 0x7a4aa2ea1cc0>,\n",
              "  <matplotlib.patches.Wedge at 0x7a4aa2ea2140>,\n",
              "  <matplotlib.patches.Wedge at 0x7a4aa2ea25c0>,\n",
              "  <matplotlib.patches.Wedge at 0x7a4aa2ea2a40>,\n",
              "  <matplotlib.patches.Wedge at 0x7a4aa2ea2ec0>,\n",
              "  <matplotlib.patches.Wedge at 0x7a4aa2ea3340>,\n",
              "  <matplotlib.patches.Wedge at 0x7a4aa2ea37c0>,\n",
              "  <matplotlib.patches.Wedge at 0x7a4aa2ea3c40>,\n",
              "  <matplotlib.patches.Wedge at 0x7a4aa2ef8100>,\n",
              "  <matplotlib.patches.Wedge at 0x7a4aa2ef8580>,\n",
              "  <matplotlib.patches.Wedge at 0x7a4aa2ef8a00>,\n",
              "  <matplotlib.patches.Wedge at 0x7a4aa2ef8e80>,\n",
              "  <matplotlib.patches.Wedge at 0x7a4aa2ef9300>,\n",
              "  <matplotlib.patches.Wedge at 0x7a4aa2ef9780>,\n",
              "  <matplotlib.patches.Wedge at 0x7a4aa2ef9c00>,\n",
              "  <matplotlib.patches.Wedge at 0x7a4aa2efa080>,\n",
              "  <matplotlib.patches.Wedge at 0x7a4aa2efa500>,\n",
              "  <matplotlib.patches.Wedge at 0x7a4aa2efa980>,\n",
              "  <matplotlib.patches.Wedge at 0x7a4aa2efae00>,\n",
              "  <matplotlib.patches.Wedge at 0x7a4aa2efb280>,\n",
              "  <matplotlib.patches.Wedge at 0x7a4aa2efb700>,\n",
              "  <matplotlib.patches.Wedge at 0x7a4aa2efbb80>,\n",
              "  <matplotlib.patches.Wedge at 0x7a4aa2f28040>,\n",
              "  <matplotlib.patches.Wedge at 0x7a4aa2f284c0>,\n",
              "  <matplotlib.patches.Wedge at 0x7a4aa2f28940>,\n",
              "  <matplotlib.patches.Wedge at 0x7a4aa2f28dc0>,\n",
              "  <matplotlib.patches.Wedge at 0x7a4aa2f29240>,\n",
              "  <matplotlib.patches.Wedge at 0x7a4aa2f296c0>,\n",
              "  <matplotlib.patches.Wedge at 0x7a4aa2f29b40>,\n",
              "  <matplotlib.patches.Wedge at 0x7a4aa2f29fc0>,\n",
              "  <matplotlib.patches.Wedge at 0x7a4aa2f2a440>,\n",
              "  <matplotlib.patches.Wedge at 0x7a4aa2f2a8c0>,\n",
              "  <matplotlib.patches.Wedge at 0x7a4aa2f2ad40>,\n",
              "  <matplotlib.patches.Wedge at 0x7a4aa2f2b1c0>,\n",
              "  <matplotlib.patches.Wedge at 0x7a4aa2f2b640>,\n",
              "  <matplotlib.patches.Wedge at 0x7a4aa2f2bac0>,\n",
              "  <matplotlib.patches.Wedge at 0x7a4aa2f2bf40>,\n",
              "  <matplotlib.patches.Wedge at 0x7a4aa2f6c760>,\n",
              "  <matplotlib.patches.Wedge at 0x7a4aa2f6c880>,\n",
              "  <matplotlib.patches.Wedge at 0x7a4aa2f6cc40>,\n",
              "  <matplotlib.patches.Wedge at 0x7a4aa2f6ce50>,\n",
              "  <matplotlib.patches.Wedge at 0x7a4aa2f6d5a0>,\n",
              "  <matplotlib.patches.Wedge at 0x7a4aa2f6dfc0>,\n",
              "  <matplotlib.patches.Wedge at 0x7a4aa2f6e500>,\n",
              "  <matplotlib.patches.Wedge at 0x7a4aa2f6e8f0>,\n",
              "  <matplotlib.patches.Wedge at 0x7a4aa2f6ed10>,\n",
              "  <matplotlib.patches.Wedge at 0x7a4aa2f6f160>,\n",
              "  <matplotlib.patches.Wedge at 0x7a4aa2f6db40>,\n",
              "  <matplotlib.patches.Wedge at 0x7a4aa2f6faf0>,\n",
              "  <matplotlib.patches.Wedge at 0x7a4aa2f6f6d0>,\n",
              "  <matplotlib.patches.Wedge at 0x7a4aa2f6fc40>,\n",
              "  <matplotlib.patches.Wedge at 0x7a4aa2fc8340>,\n",
              "  <matplotlib.patches.Wedge at 0x7a4aa2fc87c0>,\n",
              "  <matplotlib.patches.Wedge at 0x7a4aa2fc8c40>,\n",
              "  <matplotlib.patches.Wedge at 0x7a4aa2fc90c0>,\n",
              "  <matplotlib.patches.Wedge at 0x7a4aa2fc9540>,\n",
              "  <matplotlib.patches.Wedge at 0x7a4aa2fc99c0>,\n",
              "  <matplotlib.patches.Wedge at 0x7a4aa2fc9e40>,\n",
              "  <matplotlib.patches.Wedge at 0x7a4aa2fca2c0>,\n",
              "  <matplotlib.patches.Wedge at 0x7a4aa2fca740>,\n",
              "  <matplotlib.patches.Wedge at 0x7a4aa2fcabc0>,\n",
              "  <matplotlib.patches.Wedge at 0x7a4aa2fcb040>,\n",
              "  <matplotlib.patches.Wedge at 0x7a4aa2fcb4c0>,\n",
              "  <matplotlib.patches.Wedge at 0x7a4aa2fcb940>,\n",
              "  <matplotlib.patches.Wedge at 0x7a4aa2fcbdc0>,\n",
              "  <matplotlib.patches.Wedge at 0x7a4aa2ff0280>,\n",
              "  <matplotlib.patches.Wedge at 0x7a4aa2ff0700>,\n",
              "  <matplotlib.patches.Wedge at 0x7a4aa2ff0b80>,\n",
              "  <matplotlib.patches.Wedge at 0x7a4aa2ff1000>,\n",
              "  <matplotlib.patches.Wedge at 0x7a4aa2ff1480>,\n",
              "  <matplotlib.patches.Wedge at 0x7a4aa2ff1900>,\n",
              "  <matplotlib.patches.Wedge at 0x7a4aa2ff1d80>,\n",
              "  <matplotlib.patches.Wedge at 0x7a4aa2ff2200>,\n",
              "  <matplotlib.patches.Wedge at 0x7a4aa2ff2680>,\n",
              "  <matplotlib.patches.Wedge at 0x7a4aa2ff2b00>,\n",
              "  <matplotlib.patches.Wedge at 0x7a4aa2ff2f80>,\n",
              "  <matplotlib.patches.Wedge at 0x7a4aa2ff3400>,\n",
              "  <matplotlib.patches.Wedge at 0x7a4aa2ff3880>,\n",
              "  <matplotlib.patches.Wedge at 0x7a4aa2ff3d00>,\n",
              "  <matplotlib.patches.Wedge at 0x7a4aa30201c0>,\n",
              "  <matplotlib.patches.Wedge at 0x7a4aa3020640>,\n",
              "  <matplotlib.patches.Wedge at 0x7a4aa3020ac0>,\n",
              "  <matplotlib.patches.Wedge at 0x7a4aa3020f40>,\n",
              "  <matplotlib.patches.Wedge at 0x7a4aa30213c0>,\n",
              "  <matplotlib.patches.Wedge at 0x7a4aa3021840>,\n",
              "  <matplotlib.patches.Wedge at 0x7a4aa3021cc0>,\n",
              "  <matplotlib.patches.Wedge at 0x7a4aa3022140>,\n",
              "  <matplotlib.patches.Wedge at 0x7a4aa30225c0>,\n",
              "  <matplotlib.patches.Wedge at 0x7a4aa3022a40>,\n",
              "  <matplotlib.patches.Wedge at 0x7a4aa3022ec0>,\n",
              "  <matplotlib.patches.Wedge at 0x7a4aa3023340>,\n",
              "  <matplotlib.patches.Wedge at 0x7a4aa30237c0>,\n",
              "  <matplotlib.patches.Wedge at 0x7a4aa3023c40>,\n",
              "  <matplotlib.patches.Wedge at 0x7a4aa3454100>,\n",
              "  <matplotlib.patches.Wedge at 0x7a4aa3454580>,\n",
              "  <matplotlib.patches.Wedge at 0x7a4aa3454a00>,\n",
              "  <matplotlib.patches.Wedge at 0x7a4aa3454e80>,\n",
              "  <matplotlib.patches.Wedge at 0x7a4aa3455300>,\n",
              "  <matplotlib.patches.Wedge at 0x7a4aa3455780>,\n",
              "  <matplotlib.patches.Wedge at 0x7a4aa3455c00>,\n",
              "  <matplotlib.patches.Wedge at 0x7a4aa3456080>,\n",
              "  <matplotlib.patches.Wedge at 0x7a4aa3456500>,\n",
              "  <matplotlib.patches.Wedge at 0x7a4aa3456980>,\n",
              "  <matplotlib.patches.Wedge at 0x7a4aa3456e00>,\n",
              "  <matplotlib.patches.Wedge at 0x7a4aa3457280>,\n",
              "  <matplotlib.patches.Wedge at 0x7a4aa3457700>,\n",
              "  <matplotlib.patches.Wedge at 0x7a4aa3457b80>,\n",
              "  <matplotlib.patches.Wedge at 0x7a4aa3490040>,\n",
              "  <matplotlib.patches.Wedge at 0x7a4aa34904c0>,\n",
              "  <matplotlib.patches.Wedge at 0x7a4aa3490940>,\n",
              "  <matplotlib.patches.Wedge at 0x7a4aa3490dc0>,\n",
              "  <matplotlib.patches.Wedge at 0x7a4aa3491240>,\n",
              "  <matplotlib.patches.Wedge at 0x7a4aa34916c0>,\n",
              "  <matplotlib.patches.Wedge at 0x7a4aa3491b40>,\n",
              "  <matplotlib.patches.Wedge at 0x7a4aa3491fc0>,\n",
              "  <matplotlib.patches.Wedge at 0x7a4aa3492440>,\n",
              "  <matplotlib.patches.Wedge at 0x7a4aa34928c0>,\n",
              "  <matplotlib.patches.Wedge at 0x7a4aa3492d40>,\n",
              "  <matplotlib.patches.Wedge at 0x7a4aa34931c0>,\n",
              "  <matplotlib.patches.Wedge at 0x7a4aa3493640>,\n",
              "  <matplotlib.patches.Wedge at 0x7a4aa3493ac0>,\n",
              "  <matplotlib.patches.Wedge at 0x7a4aa3493f40>,\n",
              "  <matplotlib.patches.Wedge at 0x7a4aa34d0400>,\n",
              "  <matplotlib.patches.Wedge at 0x7a4aa34d0880>,\n",
              "  <matplotlib.patches.Wedge at 0x7a4aa34d0d00>,\n",
              "  <matplotlib.patches.Wedge at 0x7a4aa34d1180>,\n",
              "  <matplotlib.patches.Wedge at 0x7a4aa34d1600>,\n",
              "  <matplotlib.patches.Wedge at 0x7a4aa34d1a80>,\n",
              "  <matplotlib.patches.Wedge at 0x7a4aa34d1f00>,\n",
              "  <matplotlib.patches.Wedge at 0x7a4aa34d2380>,\n",
              "  <matplotlib.patches.Wedge at 0x7a4aa34d2800>,\n",
              "  <matplotlib.patches.Wedge at 0x7a4aa34d2c80>,\n",
              "  <matplotlib.patches.Wedge at 0x7a4aa34d3100>,\n",
              "  <matplotlib.patches.Wedge at 0x7a4aa34d3580>,\n",
              "  <matplotlib.patches.Wedge at 0x7a4aa34d3a00>,\n",
              "  <matplotlib.patches.Wedge at 0x7a4aa34d3e80>,\n",
              "  <matplotlib.patches.Wedge at 0x7a4aa3508340>,\n",
              "  <matplotlib.patches.Wedge at 0x7a4aa35087c0>,\n",
              "  <matplotlib.patches.Wedge at 0x7a4aa3508c40>,\n",
              "  <matplotlib.patches.Wedge at 0x7a4aa35090c0>,\n",
              "  <matplotlib.patches.Wedge at 0x7a4aa3509540>,\n",
              "  <matplotlib.patches.Wedge at 0x7a4aa35099c0>,\n",
              "  <matplotlib.patches.Wedge at 0x7a4aa3509e40>,\n",
              "  <matplotlib.patches.Wedge at 0x7a4aa350a2c0>,\n",
              "  <matplotlib.patches.Wedge at 0x7a4aa350a740>,\n",
              "  <matplotlib.patches.Wedge at 0x7a4aa350abc0>,\n",
              "  <matplotlib.patches.Wedge at 0x7a4aa350b040>,\n",
              "  <matplotlib.patches.Wedge at 0x7a4aa350b4c0>,\n",
              "  <matplotlib.patches.Wedge at 0x7a4aa350b940>,\n",
              "  <matplotlib.patches.Wedge at 0x7a4aa350bdc0>,\n",
              "  <matplotlib.patches.Wedge at 0x7a4aa3044280>,\n",
              "  <matplotlib.patches.Wedge at 0x7a4aa3044700>,\n",
              "  <matplotlib.patches.Wedge at 0x7a4aa3044b80>,\n",
              "  <matplotlib.patches.Wedge at 0x7a4aa3045000>,\n",
              "  <matplotlib.patches.Wedge at 0x7a4aa3045480>,\n",
              "  <matplotlib.patches.Wedge at 0x7a4aa3045900>,\n",
              "  <matplotlib.patches.Wedge at 0x7a4aa3045d80>,\n",
              "  <matplotlib.patches.Wedge at 0x7a4aa3046200>,\n",
              "  <matplotlib.patches.Wedge at 0x7a4aa3046680>,\n",
              "  <matplotlib.patches.Wedge at 0x7a4aa3046b00>,\n",
              "  <matplotlib.patches.Wedge at 0x7a4aa3046f80>,\n",
              "  <matplotlib.patches.Wedge at 0x7a4aa3047400>,\n",
              "  <matplotlib.patches.Wedge at 0x7a4aa3047880>,\n",
              "  <matplotlib.patches.Wedge at 0x7a4aa3047d00>,\n",
              "  <matplotlib.patches.Wedge at 0x7a4aa30841c0>,\n",
              "  <matplotlib.patches.Wedge at 0x7a4aa3084640>,\n",
              "  <matplotlib.patches.Wedge at 0x7a4aa3084ac0>,\n",
              "  <matplotlib.patches.Wedge at 0x7a4aa3084f40>,\n",
              "  <matplotlib.patches.Wedge at 0x7a4aa30853c0>,\n",
              "  <matplotlib.patches.Wedge at 0x7a4aa3085840>,\n",
              "  <matplotlib.patches.Wedge at 0x7a4aa3085cc0>,\n",
              "  <matplotlib.patches.Wedge at 0x7a4aa3086140>,\n",
              "  <matplotlib.patches.Wedge at 0x7a4aa30865c0>,\n",
              "  <matplotlib.patches.Wedge at 0x7a4aa3086a40>,\n",
              "  <matplotlib.patches.Wedge at 0x7a4aa3086ec0>,\n",
              "  <matplotlib.patches.Wedge at 0x7a4aa3087340>,\n",
              "  <matplotlib.patches.Wedge at 0x7a4aa30877c0>,\n",
              "  <matplotlib.patches.Wedge at 0x7a4aa3087c40>,\n",
              "  <matplotlib.patches.Wedge at 0x7a4aa30b8100>,\n",
              "  <matplotlib.patches.Wedge at 0x7a4aa30b8580>,\n",
              "  <matplotlib.patches.Wedge at 0x7a4aa30b8a00>,\n",
              "  <matplotlib.patches.Wedge at 0x7a4aa30b8e80>,\n",
              "  <matplotlib.patches.Wedge at 0x7a4aa30b9300>,\n",
              "  <matplotlib.patches.Wedge at 0x7a4aa30b9780>,\n",
              "  <matplotlib.patches.Wedge at 0x7a4aa30b9c00>,\n",
              "  <matplotlib.patches.Wedge at 0x7a4aa30ba080>,\n",
              "  <matplotlib.patches.Wedge at 0x7a4aa30ba500>,\n",
              "  <matplotlib.patches.Wedge at 0x7a4aa30ba980>,\n",
              "  <matplotlib.patches.Wedge at 0x7a4aa30bae00>,\n",
              "  <matplotlib.patches.Wedge at 0x7a4aa30bb280>,\n",
              "  <matplotlib.patches.Wedge at 0x7a4aa30bb700>,\n",
              "  <matplotlib.patches.Wedge at 0x7a4aa30bbb80>,\n",
              "  <matplotlib.patches.Wedge at 0x7a4aa30ec040>,\n",
              "  <matplotlib.patches.Wedge at 0x7a4aa30ec4c0>,\n",
              "  <matplotlib.patches.Wedge at 0x7a4aa30ec940>,\n",
              "  <matplotlib.patches.Wedge at 0x7a4aa30ecdc0>,\n",
              "  <matplotlib.patches.Wedge at 0x7a4aa30ed240>,\n",
              "  <matplotlib.patches.Wedge at 0x7a4aa30ed6c0>,\n",
              "  <matplotlib.patches.Wedge at 0x7a4aa30edb40>,\n",
              "  <matplotlib.patches.Wedge at 0x7a4aa30edfc0>,\n",
              "  <matplotlib.patches.Wedge at 0x7a4aa30ee440>,\n",
              "  <matplotlib.patches.Wedge at 0x7a4aa30ee8c0>,\n",
              "  <matplotlib.patches.Wedge at 0x7a4aa30eed40>,\n",
              "  <matplotlib.patches.Wedge at 0x7a4aa30ef1c0>,\n",
              "  <matplotlib.patches.Wedge at 0x7a4aa30ef640>,\n",
              "  <matplotlib.patches.Wedge at 0x7a4aa30efac0>,\n",
              "  <matplotlib.patches.Wedge at 0x7a4aa30eff40>,\n",
              "  <matplotlib.patches.Wedge at 0x7a4aa2d2c400>,\n",
              "  <matplotlib.patches.Wedge at 0x7a4aa2d2c880>,\n",
              "  <matplotlib.patches.Wedge at 0x7a4aa2d2cd00>,\n",
              "  <matplotlib.patches.Wedge at 0x7a4aa2d2d180>,\n",
              "  <matplotlib.patches.Wedge at 0x7a4aa2d2d600>,\n",
              "  <matplotlib.patches.Wedge at 0x7a4aa2d2da80>,\n",
              "  <matplotlib.patches.Wedge at 0x7a4aa2d2df00>,\n",
              "  <matplotlib.patches.Wedge at 0x7a4aa2d2e380>,\n",
              "  <matplotlib.patches.Wedge at 0x7a4aa2d2e800>,\n",
              "  <matplotlib.patches.Wedge at 0x7a4aa2d2ec80>,\n",
              "  <matplotlib.patches.Wedge at 0x7a4aa2d2f100>,\n",
              "  <matplotlib.patches.Wedge at 0x7a4aa2d2f580>,\n",
              "  <matplotlib.patches.Wedge at 0x7a4aa2d2fa00>,\n",
              "  <matplotlib.patches.Wedge at 0x7a4aa2d2fe80>,\n",
              "  <matplotlib.patches.Wedge at 0x7a4aa2d70340>,\n",
              "  <matplotlib.patches.Wedge at 0x7a4aa2d707c0>,\n",
              "  <matplotlib.patches.Wedge at 0x7a4aa2d70c40>,\n",
              "  <matplotlib.patches.Wedge at 0x7a4aa2d710c0>,\n",
              "  <matplotlib.patches.Wedge at 0x7a4aa2d71540>,\n",
              "  <matplotlib.patches.Wedge at 0x7a4aa2d719c0>,\n",
              "  <matplotlib.patches.Wedge at 0x7a4aa2d71e40>,\n",
              "  <matplotlib.patches.Wedge at 0x7a4aa2d722c0>,\n",
              "  <matplotlib.patches.Wedge at 0x7a4aa2d72740>,\n",
              "  <matplotlib.patches.Wedge at 0x7a4aa2d72bc0>,\n",
              "  <matplotlib.patches.Wedge at 0x7a4aa2d73040>,\n",
              "  <matplotlib.patches.Wedge at 0x7a4aa2d734c0>,\n",
              "  <matplotlib.patches.Wedge at 0x7a4aa2d73940>,\n",
              "  <matplotlib.patches.Wedge at 0x7a4aa2d73dc0>,\n",
              "  <matplotlib.patches.Wedge at 0x7a4aa2da4280>,\n",
              "  <matplotlib.patches.Wedge at 0x7a4aa2da4700>,\n",
              "  <matplotlib.patches.Wedge at 0x7a4aa2da4b80>,\n",
              "  <matplotlib.patches.Wedge at 0x7a4aa2da5000>,\n",
              "  <matplotlib.patches.Wedge at 0x7a4aa2da5480>,\n",
              "  <matplotlib.patches.Wedge at 0x7a4aa2da5900>,\n",
              "  <matplotlib.patches.Wedge at 0x7a4aa2da5d80>,\n",
              "  <matplotlib.patches.Wedge at 0x7a4aa2da6200>,\n",
              "  <matplotlib.patches.Wedge at 0x7a4aa2da6680>,\n",
              "  <matplotlib.patches.Wedge at 0x7a4aa2da6b00>,\n",
              "  <matplotlib.patches.Wedge at 0x7a4aa2da6f80>,\n",
              "  <matplotlib.patches.Wedge at 0x7a4aa2da7400>,\n",
              "  <matplotlib.patches.Wedge at 0x7a4aa2da7880>,\n",
              "  <matplotlib.patches.Wedge at 0x7a4aa2da7d00>,\n",
              "  <matplotlib.patches.Wedge at 0x7a4aa2ddc1c0>,\n",
              "  <matplotlib.patches.Wedge at 0x7a4aa2ddc640>,\n",
              "  <matplotlib.patches.Wedge at 0x7a4aa2ddcac0>,\n",
              "  <matplotlib.patches.Wedge at 0x7a4aa2ddcf40>,\n",
              "  <matplotlib.patches.Wedge at 0x7a4aa2ddd3c0>,\n",
              "  <matplotlib.patches.Wedge at 0x7a4aa2ddd840>,\n",
              "  <matplotlib.patches.Wedge at 0x7a4aa2dddcc0>,\n",
              "  <matplotlib.patches.Wedge at 0x7a4aa2dde140>,\n",
              "  <matplotlib.patches.Wedge at 0x7a4aa2dde5c0>,\n",
              "  <matplotlib.patches.Wedge at 0x7a4aa2ddea40>,\n",
              "  <matplotlib.patches.Wedge at 0x7a4aa2ddeec0>,\n",
              "  <matplotlib.patches.Wedge at 0x7a4aa2ddf340>,\n",
              "  <matplotlib.patches.Wedge at 0x7a4aa2ddf7c0>,\n",
              "  <matplotlib.patches.Wedge at 0x7a4aa2ddfc40>,\n",
              "  <matplotlib.patches.Wedge at 0x7a4aa2e18100>,\n",
              "  <matplotlib.patches.Wedge at 0x7a4aa2e18580>,\n",
              "  <matplotlib.patches.Wedge at 0x7a4aa2e18a00>,\n",
              "  <matplotlib.patches.Wedge at 0x7a4aa2e18e80>,\n",
              "  <matplotlib.patches.Wedge at 0x7a4aa2e19300>,\n",
              "  <matplotlib.patches.Wedge at 0x7a4aa2e19780>,\n",
              "  <matplotlib.patches.Wedge at 0x7a4aa2e19c00>,\n",
              "  <matplotlib.patches.Wedge at 0x7a4aa2e1a080>,\n",
              "  <matplotlib.patches.Wedge at 0x7a4aa2e1a500>,\n",
              "  <matplotlib.patches.Wedge at 0x7a4aa2e1a980>,\n",
              "  <matplotlib.patches.Wedge at 0x7a4aa2e1ae00>,\n",
              "  <matplotlib.patches.Wedge at 0x7a4aa2e1b280>,\n",
              "  <matplotlib.patches.Wedge at 0x7a4aa2e1b700>,\n",
              "  <matplotlib.patches.Wedge at 0x7a4aa2e1bb80>,\n",
              "  <matplotlib.patches.Wedge at 0x7a4aa2c4c040>,\n",
              "  <matplotlib.patches.Wedge at 0x7a4aa2c4c4c0>,\n",
              "  <matplotlib.patches.Wedge at 0x7a4aa2c4c940>,\n",
              "  <matplotlib.patches.Wedge at 0x7a4aa2c4cdc0>,\n",
              "  <matplotlib.patches.Wedge at 0x7a4aa2c4d240>,\n",
              "  <matplotlib.patches.Wedge at 0x7a4aa2c4d6c0>,\n",
              "  <matplotlib.patches.Wedge at 0x7a4aa2c4dd20>,\n",
              "  <matplotlib.patches.Wedge at 0x7a4aa2c4e1a0>,\n",
              "  <matplotlib.patches.Wedge at 0x7a4aa2c4e620>,\n",
              "  <matplotlib.patches.Wedge at 0x7a4aa2c4eaa0>,\n",
              "  <matplotlib.patches.Wedge at 0x7a4aa2c4ef20>,\n",
              "  <matplotlib.patches.Wedge at 0x7a4aa2c4d930>,\n",
              "  <matplotlib.patches.Wedge at 0x7a4aa2c4f610>,\n",
              "  <matplotlib.patches.Wedge at 0x7a4aa2c4fa90>,\n",
              "  <matplotlib.patches.Wedge at 0x7a4aa2c4ff10>,\n",
              "  <matplotlib.patches.Wedge at 0x7a4aa2c903d0>,\n",
              "  <matplotlib.patches.Wedge at 0x7a4aa2c90850>,\n",
              "  <matplotlib.patches.Wedge at 0x7a4aa2c90cd0>,\n",
              "  <matplotlib.patches.Wedge at 0x7a4aa2c91150>,\n",
              "  <matplotlib.patches.Wedge at 0x7a4aa2c915d0>,\n",
              "  <matplotlib.patches.Wedge at 0x7a4aa2c91a50>,\n",
              "  <matplotlib.patches.Wedge at 0x7a4aa2c91ed0>,\n",
              "  <matplotlib.patches.Wedge at 0x7a4aa2c92350>,\n",
              "  <matplotlib.patches.Wedge at 0x7a4aa2c927d0>,\n",
              "  <matplotlib.patches.Wedge at 0x7a4aa2c92c50>,\n",
              "  <matplotlib.patches.Wedge at 0x7a4aa2c930d0>,\n",
              "  <matplotlib.patches.Wedge at 0x7a4aa2c93550>,\n",
              "  <matplotlib.patches.Wedge at 0x7a4aa2c939d0>,\n",
              "  <matplotlib.patches.Wedge at 0x7a4aa2c93e50>,\n",
              "  <matplotlib.patches.Wedge at 0x7a4aa2cc4310>,\n",
              "  <matplotlib.patches.Wedge at 0x7a4aa2cc4790>,\n",
              "  <matplotlib.patches.Wedge at 0x7a4aa2cc4c10>,\n",
              "  <matplotlib.patches.Wedge at 0x7a4aa2cc5090>,\n",
              "  <matplotlib.patches.Wedge at 0x7a4aa2cc5510>,\n",
              "  <matplotlib.patches.Wedge at 0x7a4aa2cc5990>,\n",
              "  <matplotlib.patches.Wedge at 0x7a4aa2cc5e10>,\n",
              "  <matplotlib.patches.Wedge at 0x7a4aa2cc6290>,\n",
              "  <matplotlib.patches.Wedge at 0x7a4aa2cc6710>,\n",
              "  <matplotlib.patches.Wedge at 0x7a4aa2cc6b90>,\n",
              "  <matplotlib.patches.Wedge at 0x7a4aa2cc7010>,\n",
              "  <matplotlib.patches.Wedge at 0x7a4aa2cc7490>,\n",
              "  <matplotlib.patches.Wedge at 0x7a4aa2cc7910>,\n",
              "  <matplotlib.patches.Wedge at 0x7a4aa2cc7d90>,\n",
              "  <matplotlib.patches.Wedge at 0x7a4aa2d00250>,\n",
              "  <matplotlib.patches.Wedge at 0x7a4aa2d006d0>,\n",
              "  <matplotlib.patches.Wedge at 0x7a4aa2d00b50>,\n",
              "  <matplotlib.patches.Wedge at 0x7a4aa2d00fd0>,\n",
              "  <matplotlib.patches.Wedge at 0x7a4aa2d01450>,\n",
              "  <matplotlib.patches.Wedge at 0x7a4aa2d018d0>,\n",
              "  <matplotlib.patches.Wedge at 0x7a4aa2d01d50>,\n",
              "  <matplotlib.patches.Wedge at 0x7a4aa2d021d0>,\n",
              "  <matplotlib.patches.Wedge at 0x7a4aa2d02650>,\n",
              "  <matplotlib.patches.Wedge at 0x7a4aa2d02ad0>,\n",
              "  <matplotlib.patches.Wedge at 0x7a4aa2d02f50>,\n",
              "  <matplotlib.patches.Wedge at 0x7a4aa2d033d0>,\n",
              "  <matplotlib.patches.Wedge at 0x7a4aa2d03850>,\n",
              "  <matplotlib.patches.Wedge at 0x7a4aa2d03cd0>,\n",
              "  <matplotlib.patches.Wedge at 0x7a4aa2b3c190>,\n",
              "  <matplotlib.patches.Wedge at 0x7a4aa2b3c610>,\n",
              "  <matplotlib.patches.Wedge at 0x7a4aa2b3ca90>,\n",
              "  <matplotlib.patches.Wedge at 0x7a4aa2b3cf10>,\n",
              "  <matplotlib.patches.Wedge at 0x7a4aa2b3d390>,\n",
              "  <matplotlib.patches.Wedge at 0x7a4aa2b3d810>,\n",
              "  <matplotlib.patches.Wedge at 0x7a4aa2b3dc90>,\n",
              "  <matplotlib.patches.Wedge at 0x7a4aa2b3e110>,\n",
              "  <matplotlib.patches.Wedge at 0x7a4aa2b3e590>,\n",
              "  <matplotlib.patches.Wedge at 0x7a4aa2b3ea10>,\n",
              "  <matplotlib.patches.Wedge at 0x7a4aa2b3ee90>,\n",
              "  <matplotlib.patches.Wedge at 0x7a4aa2b3f310>,\n",
              "  <matplotlib.patches.Wedge at 0x7a4aa2b3f790>,\n",
              "  <matplotlib.patches.Wedge at 0x7a4aa2b3fc10>,\n",
              "  <matplotlib.patches.Wedge at 0x7a4aa2b7c0d0>,\n",
              "  <matplotlib.patches.Wedge at 0x7a4aa2b7c550>,\n",
              "  <matplotlib.patches.Wedge at 0x7a4aa2b7c9d0>,\n",
              "  <matplotlib.patches.Wedge at 0x7a4aa2b7ce50>,\n",
              "  <matplotlib.patches.Wedge at 0x7a4aa2b7d2d0>,\n",
              "  <matplotlib.patches.Wedge at 0x7a4aa2b7d750>,\n",
              "  <matplotlib.patches.Wedge at 0x7a4aa2b7dbd0>,\n",
              "  <matplotlib.patches.Wedge at 0x7a4aa2b7e050>,\n",
              "  <matplotlib.patches.Wedge at 0x7a4aa2b7e4d0>,\n",
              "  <matplotlib.patches.Wedge at 0x7a4aa2b7e950>,\n",
              "  <matplotlib.patches.Wedge at 0x7a4aa2b7edd0>,\n",
              "  <matplotlib.patches.Wedge at 0x7a4aa2b7f250>,\n",
              "  <matplotlib.patches.Wedge at 0x7a4aa2b7f6d0>,\n",
              "  <matplotlib.patches.Wedge at 0x7a4aa2b7fb50>,\n",
              "  <matplotlib.patches.Wedge at 0x7a4aa2b7ffd0>,\n",
              "  <matplotlib.patches.Wedge at 0x7a4aa2ba8490>,\n",
              "  <matplotlib.patches.Wedge at 0x7a4aa2ba8910>,\n",
              "  <matplotlib.patches.Wedge at 0x7a4aa2ba8d90>,\n",
              "  <matplotlib.patches.Wedge at 0x7a4aa2ba9210>,\n",
              "  <matplotlib.patches.Wedge at 0x7a4aa2ba9690>,\n",
              "  <matplotlib.patches.Wedge at 0x7a4aa2ba9b10>,\n",
              "  <matplotlib.patches.Wedge at 0x7a4aa2ba9f90>,\n",
              "  <matplotlib.patches.Wedge at 0x7a4aa2baa410>,\n",
              "  <matplotlib.patches.Wedge at 0x7a4aa2baa890>,\n",
              "  <matplotlib.patches.Wedge at 0x7a4aa2baad10>,\n",
              "  <matplotlib.patches.Wedge at 0x7a4aa2bab190>,\n",
              "  <matplotlib.patches.Wedge at 0x7a4aa2bab610>,\n",
              "  <matplotlib.patches.Wedge at 0x7a4aa2baba90>,\n",
              "  <matplotlib.patches.Wedge at 0x7a4aa2babf10>,\n",
              "  <matplotlib.patches.Wedge at 0x7a4aa2bec3d0>,\n",
              "  <matplotlib.patches.Wedge at 0x7a4aa2bec880>,\n",
              "  <matplotlib.patches.Wedge at 0x7a4aa2becd00>,\n",
              "  <matplotlib.patches.Wedge at 0x7a4aa2bed180>,\n",
              "  <matplotlib.patches.Wedge at 0x7a4aa2bed600>,\n",
              "  <matplotlib.patches.Wedge at 0x7a4aa2beda80>,\n",
              "  <matplotlib.patches.Wedge at 0x7a4aa2bedf00>,\n",
              "  <matplotlib.patches.Wedge at 0x7a4aa2bee380>,\n",
              "  <matplotlib.patches.Wedge at 0x7a4aa2bee800>,\n",
              "  <matplotlib.patches.Wedge at 0x7a4aa2beec80>,\n",
              "  <matplotlib.patches.Wedge at 0x7a4aa2bef100>,\n",
              "  <matplotlib.patches.Wedge at 0x7a4aa2bef580>,\n",
              "  <matplotlib.patches.Wedge at 0x7a4aa2befa00>,\n",
              "  <matplotlib.patches.Wedge at 0x7a4aa2befe80>,\n",
              "  <matplotlib.patches.Wedge at 0x7a4aa2c24340>,\n",
              "  <matplotlib.patches.Wedge at 0x7a4aa2c247c0>,\n",
              "  <matplotlib.patches.Wedge at 0x7a4aa2c24c40>,\n",
              "  <matplotlib.patches.Wedge at 0x7a4aa2c250c0>,\n",
              "  <matplotlib.patches.Wedge at 0x7a4aa2c25540>,\n",
              "  <matplotlib.patches.Wedge at 0x7a4aa2c259c0>,\n",
              "  <matplotlib.patches.Wedge at 0x7a4aa2c25e40>,\n",
              "  <matplotlib.patches.Wedge at 0x7a4aa2c262c0>,\n",
              "  <matplotlib.patches.Wedge at 0x7a4aa2c26740>,\n",
              "  <matplotlib.patches.Wedge at 0x7a4aa2c26bc0>,\n",
              "  <matplotlib.patches.Wedge at 0x7a4aa2c27040>,\n",
              "  <matplotlib.patches.Wedge at 0x7a4aa2c274c0>,\n",
              "  <matplotlib.patches.Wedge at 0x7a4aa2c27940>,\n",
              "  <matplotlib.patches.Wedge at 0x7a4aa2c27dc0>,\n",
              "  <matplotlib.patches.Wedge at 0x7a4aa2a64280>,\n",
              "  <matplotlib.patches.Wedge at 0x7a4aa2a64700>,\n",
              "  <matplotlib.patches.Wedge at 0x7a4aa2a64b80>,\n",
              "  <matplotlib.patches.Wedge at 0x7a4aa2a65000>,\n",
              "  <matplotlib.patches.Wedge at 0x7a4aa2a65480>,\n",
              "  <matplotlib.patches.Wedge at 0x7a4aa2a65900>,\n",
              "  <matplotlib.patches.Wedge at 0x7a4aa2a65d80>,\n",
              "  <matplotlib.patches.Wedge at 0x7a4aa2a66200>,\n",
              "  <matplotlib.patches.Wedge at 0x7a4aa2a66680>,\n",
              "  <matplotlib.patches.Wedge at 0x7a4aa2a66b00>,\n",
              "  <matplotlib.patches.Wedge at 0x7a4aa2a66f80>,\n",
              "  <matplotlib.patches.Wedge at 0x7a4aa2a67400>,\n",
              "  <matplotlib.patches.Wedge at 0x7a4aa2a67880>,\n",
              "  <matplotlib.patches.Wedge at 0x7a4aa2a67d00>,\n",
              "  <matplotlib.patches.Wedge at 0x7a4aa2a981c0>,\n",
              "  <matplotlib.patches.Wedge at 0x7a4aa2a98640>,\n",
              "  <matplotlib.patches.Wedge at 0x7a4aa2a98ac0>,\n",
              "  <matplotlib.patches.Wedge at 0x7a4aa2a98f40>,\n",
              "  <matplotlib.patches.Wedge at 0x7a4aa2a993c0>,\n",
              "  <matplotlib.patches.Wedge at 0x7a4aa2a99840>,\n",
              "  <matplotlib.patches.Wedge at 0x7a4aa2a99cc0>,\n",
              "  <matplotlib.patches.Wedge at 0x7a4aa2a9a140>,\n",
              "  <matplotlib.patches.Wedge at 0x7a4aa2a9a5c0>,\n",
              "  <matplotlib.patches.Wedge at 0x7a4aa2a9aa40>,\n",
              "  <matplotlib.patches.Wedge at 0x7a4aa2a9aec0>,\n",
              "  <matplotlib.patches.Wedge at 0x7a4aa2a9b340>,\n",
              "  <matplotlib.patches.Wedge at 0x7a4aa2a9b7c0>,\n",
              "  <matplotlib.patches.Wedge at 0x7a4aa2a9bc40>,\n",
              "  <matplotlib.patches.Wedge at 0x7a4aa2ad8100>,\n",
              "  <matplotlib.patches.Wedge at 0x7a4aa2ad8580>,\n",
              "  <matplotlib.patches.Wedge at 0x7a4aa2ad8a00>,\n",
              "  <matplotlib.patches.Wedge at 0x7a4aa2ad8e80>,\n",
              "  <matplotlib.patches.Wedge at 0x7a4aa2ad9300>,\n",
              "  <matplotlib.patches.Wedge at 0x7a4aa2ad9780>,\n",
              "  <matplotlib.patches.Wedge at 0x7a4aa2ad9c00>,\n",
              "  <matplotlib.patches.Wedge at 0x7a4aa2ada080>,\n",
              "  <matplotlib.patches.Wedge at 0x7a4aa2ada500>,\n",
              "  <matplotlib.patches.Wedge at 0x7a4aa2ada980>,\n",
              "  <matplotlib.patches.Wedge at 0x7a4aa2adae00>,\n",
              "  <matplotlib.patches.Wedge at 0x7a4aa2adb280>,\n",
              "  <matplotlib.patches.Wedge at 0x7a4aa2adb700>,\n",
              "  <matplotlib.patches.Wedge at 0x7a4aa2adbb80>,\n",
              "  <matplotlib.patches.Wedge at 0x7a4aa2b14040>,\n",
              "  <matplotlib.patches.Wedge at 0x7a4aa2b144c0>,\n",
              "  <matplotlib.patches.Wedge at 0x7a4aa2b14940>,\n",
              "  <matplotlib.patches.Wedge at 0x7a4aa2b14dc0>,\n",
              "  <matplotlib.patches.Wedge at 0x7a4aa2b15240>,\n",
              "  <matplotlib.patches.Wedge at 0x7a4aa2b156c0>,\n",
              "  <matplotlib.patches.Wedge at 0x7a4aa2b15b40>,\n",
              "  <matplotlib.patches.Wedge at 0x7a4aa2b15fc0>,\n",
              "  <matplotlib.patches.Wedge at 0x7a4aa2b16440>,\n",
              "  <matplotlib.patches.Wedge at 0x7a4aa2b168c0>,\n",
              "  <matplotlib.patches.Wedge at 0x7a4aa2b16d40>,\n",
              "  <matplotlib.patches.Wedge at 0x7a4aa2b171c0>,\n",
              "  <matplotlib.patches.Wedge at 0x7a4aa2b17640>,\n",
              "  <matplotlib.patches.Wedge at 0x7a4aa2b17ac0>,\n",
              "  <matplotlib.patches.Wedge at 0x7a4aa2b17f40>,\n",
              "  <matplotlib.patches.Wedge at 0x7a4aa2950400>,\n",
              "  <matplotlib.patches.Wedge at 0x7a4aa2950880>,\n",
              "  <matplotlib.patches.Wedge at 0x7a4aa2950d00>,\n",
              "  <matplotlib.patches.Wedge at 0x7a4aa2951180>,\n",
              "  <matplotlib.patches.Wedge at 0x7a4aa2951600>,\n",
              "  <matplotlib.patches.Wedge at 0x7a4aa2951a80>,\n",
              "  <matplotlib.patches.Wedge at 0x7a4aa2951f00>,\n",
              "  <matplotlib.patches.Wedge at 0x7a4aa2952380>,\n",
              "  <matplotlib.patches.Wedge at 0x7a4aa2952800>,\n",
              "  <matplotlib.patches.Wedge at 0x7a4aa2952c80>,\n",
              "  <matplotlib.patches.Wedge at 0x7a4aa2953100>,\n",
              "  <matplotlib.patches.Wedge at 0x7a4aa2953580>,\n",
              "  <matplotlib.patches.Wedge at 0x7a4aa2953a00>,\n",
              "  <matplotlib.patches.Wedge at 0x7a4aa2953e80>,\n",
              "  <matplotlib.patches.Wedge at 0x7a4aa2980340>,\n",
              "  <matplotlib.patches.Wedge at 0x7a4aa29807c0>,\n",
              "  <matplotlib.patches.Wedge at 0x7a4aa2980c40>,\n",
              "  <matplotlib.patches.Wedge at 0x7a4aa29810c0>,\n",
              "  <matplotlib.patches.Wedge at 0x7a4aa2981540>,\n",
              "  <matplotlib.patches.Wedge at 0x7a4aa29819c0>,\n",
              "  <matplotlib.patches.Wedge at 0x7a4aa2981e40>,\n",
              "  <matplotlib.patches.Wedge at 0x7a4aa29822c0>,\n",
              "  <matplotlib.patches.Wedge at 0x7a4aa2982740>,\n",
              "  <matplotlib.patches.Wedge at 0x7a4aa2982bc0>,\n",
              "  <matplotlib.patches.Wedge at 0x7a4aa2983040>,\n",
              "  <matplotlib.patches.Wedge at 0x7a4aa29834c0>,\n",
              "  <matplotlib.patches.Wedge at 0x7a4aa2983940>,\n",
              "  <matplotlib.patches.Wedge at 0x7a4aa2983dc0>,\n",
              "  <matplotlib.patches.Wedge at 0x7a4aa29c0280>,\n",
              "  <matplotlib.patches.Wedge at 0x7a4aa29c0700>,\n",
              "  <matplotlib.patches.Wedge at 0x7a4aa29c0b80>,\n",
              "  <matplotlib.patches.Wedge at 0x7a4aa29c1000>,\n",
              "  <matplotlib.patches.Wedge at 0x7a4aa29c1480>,\n",
              "  <matplotlib.patches.Wedge at 0x7a4aa29c1900>,\n",
              "  <matplotlib.patches.Wedge at 0x7a4aa29c1d80>,\n",
              "  <matplotlib.patches.Wedge at 0x7a4aa29c2200>,\n",
              "  <matplotlib.patches.Wedge at 0x7a4aa29c2680>,\n",
              "  <matplotlib.patches.Wedge at 0x7a4aa29c2b00>,\n",
              "  <matplotlib.patches.Wedge at 0x7a4aa29c2f80>,\n",
              "  <matplotlib.patches.Wedge at 0x7a4aa29c3400>,\n",
              "  <matplotlib.patches.Wedge at 0x7a4aa29c3880>,\n",
              "  <matplotlib.patches.Wedge at 0x7a4aa29c3d00>,\n",
              "  <matplotlib.patches.Wedge at 0x7a4aa29fc1c0>,\n",
              "  <matplotlib.patches.Wedge at 0x7a4aa29fc640>,\n",
              "  <matplotlib.patches.Wedge at 0x7a4aa29fcac0>,\n",
              "  <matplotlib.patches.Wedge at 0x7a4aa29fcf40>,\n",
              "  <matplotlib.patches.Wedge at 0x7a4aa29fd3c0>,\n",
              "  <matplotlib.patches.Wedge at 0x7a4aa29fd840>,\n",
              "  <matplotlib.patches.Wedge at 0x7a4aa29fdcc0>,\n",
              "  <matplotlib.patches.Wedge at 0x7a4aa29fe140>,\n",
              "  <matplotlib.patches.Wedge at 0x7a4aa29fe5c0>,\n",
              "  <matplotlib.patches.Wedge at 0x7a4aa29fea40>,\n",
              "  <matplotlib.patches.Wedge at 0x7a4aa29feec0>,\n",
              "  <matplotlib.patches.Wedge at 0x7a4aa29ff340>,\n",
              "  <matplotlib.patches.Wedge at 0x7a4aa29ff7c0>,\n",
              "  <matplotlib.patches.Wedge at 0x7a4aa29ffc40>,\n",
              "  <matplotlib.patches.Wedge at 0x7a4aa2838100>,\n",
              "  <matplotlib.patches.Wedge at 0x7a4aa2838580>,\n",
              "  <matplotlib.patches.Wedge at 0x7a4aa2838a00>,\n",
              "  <matplotlib.patches.Wedge at 0x7a4aa2838e80>,\n",
              "  <matplotlib.patches.Wedge at 0x7a4aa2839300>,\n",
              "  <matplotlib.patches.Wedge at 0x7a4aa2839780>,\n",
              "  <matplotlib.patches.Wedge at 0x7a4aa2839c00>,\n",
              "  <matplotlib.patches.Wedge at 0x7a4aa283a080>,\n",
              "  <matplotlib.patches.Wedge at 0x7a4aa283a500>,\n",
              "  <matplotlib.patches.Wedge at 0x7a4aa283a980>,\n",
              "  <matplotlib.patches.Wedge at 0x7a4aa283ae00>,\n",
              "  <matplotlib.patches.Wedge at 0x7a4aa283b280>,\n",
              "  <matplotlib.patches.Wedge at 0x7a4aa283b700>,\n",
              "  <matplotlib.patches.Wedge at 0x7a4aa283bb80>,\n",
              "  <matplotlib.patches.Wedge at 0x7a4aa2868040>,\n",
              "  <matplotlib.patches.Wedge at 0x7a4aa28684c0>,\n",
              "  <matplotlib.patches.Wedge at 0x7a4aa2868940>,\n",
              "  <matplotlib.patches.Wedge at 0x7a4aa2868dc0>,\n",
              "  <matplotlib.patches.Wedge at 0x7a4aa2869240>,\n",
              "  <matplotlib.patches.Wedge at 0x7a4aa28696c0>,\n",
              "  <matplotlib.patches.Wedge at 0x7a4aa2869b40>,\n",
              "  <matplotlib.patches.Wedge at 0x7a4aa2869fc0>,\n",
              "  <matplotlib.patches.Wedge at 0x7a4aa286a440>,\n",
              "  <matplotlib.patches.Wedge at 0x7a4aa286a8c0>,\n",
              "  <matplotlib.patches.Wedge at 0x7a4aa286ad40>,\n",
              "  <matplotlib.patches.Wedge at 0x7a4aa286b1c0>,\n",
              "  <matplotlib.patches.Wedge at 0x7a4aa286b640>,\n",
              "  <matplotlib.patches.Wedge at 0x7a4aa286bac0>,\n",
              "  <matplotlib.patches.Wedge at 0x7a4aa286bf40>,\n",
              "  <matplotlib.patches.Wedge at 0x7a4aa28b0400>,\n",
              "  <matplotlib.patches.Wedge at 0x7a4aa28b0880>,\n",
              "  <matplotlib.patches.Wedge at 0x7a4aa28b0d00>,\n",
              "  <matplotlib.patches.Wedge at 0x7a4aa28b1180>,\n",
              "  <matplotlib.patches.Wedge at 0x7a4aa28b1600>,\n",
              "  <matplotlib.patches.Wedge at 0x7a4aa28b1a80>,\n",
              "  <matplotlib.patches.Wedge at 0x7a4aa28b1f00>,\n",
              "  <matplotlib.patches.Wedge at 0x7a4aa28b2380>,\n",
              "  <matplotlib.patches.Wedge at 0x7a4aa28b2800>,\n",
              "  <matplotlib.patches.Wedge at 0x7a4aa28b2c80>,\n",
              "  <matplotlib.patches.Wedge at 0x7a4aa28b3100>,\n",
              "  <matplotlib.patches.Wedge at 0x7a4aa28b3580>,\n",
              "  <matplotlib.patches.Wedge at 0x7a4aa28b3a00>,\n",
              "  <matplotlib.patches.Wedge at 0x7a4aa28b3e80>,\n",
              "  <matplotlib.patches.Wedge at 0x7a4aa28e4340>,\n",
              "  <matplotlib.patches.Wedge at 0x7a4aa28e47c0>,\n",
              "  <matplotlib.patches.Wedge at 0x7a4aa28e4c40>,\n",
              "  <matplotlib.patches.Wedge at 0x7a4aa28e50c0>,\n",
              "  <matplotlib.patches.Wedge at 0x7a4aa28e5540>,\n",
              "  <matplotlib.patches.Wedge at 0x7a4aa28e59c0>,\n",
              "  <matplotlib.patches.Wedge at 0x7a4aa28e5e40>,\n",
              "  <matplotlib.patches.Wedge at 0x7a4aa28e62c0>,\n",
              "  <matplotlib.patches.Wedge at 0x7a4aa28e6740>,\n",
              "  <matplotlib.patches.Wedge at 0x7a4aa28e6bc0>,\n",
              "  <matplotlib.patches.Wedge at 0x7a4aa28e7040>,\n",
              "  <matplotlib.patches.Wedge at 0x7a4aa28e74c0>,\n",
              "  <matplotlib.patches.Wedge at 0x7a4aa28e7940>,\n",
              "  <matplotlib.patches.Wedge at 0x7a4aa28e7dc0>,\n",
              "  <matplotlib.patches.Wedge at 0x7a4aa2920280>,\n",
              "  <matplotlib.patches.Wedge at 0x7a4aa2920700>,\n",
              "  <matplotlib.patches.Wedge at 0x7a4aa2920b80>,\n",
              "  <matplotlib.patches.Wedge at 0x7a4aa2921000>,\n",
              "  <matplotlib.patches.Wedge at 0x7a4aa2921480>,\n",
              "  <matplotlib.patches.Wedge at 0x7a4aa2921900>,\n",
              "  <matplotlib.patches.Wedge at 0x7a4aa2921d80>,\n",
              "  <matplotlib.patches.Wedge at 0x7a4aa2922200>,\n",
              "  <matplotlib.patches.Wedge at 0x7a4aa2922680>,\n",
              "  <matplotlib.patches.Wedge at 0x7a4aa2922b00>,\n",
              "  <matplotlib.patches.Wedge at 0x7a4aa2922f80>,\n",
              "  <matplotlib.patches.Wedge at 0x7a4aa2923400>,\n",
              "  <matplotlib.patches.Wedge at 0x7a4aa2923880>,\n",
              "  <matplotlib.patches.Wedge at 0x7a4aa2923d00>,\n",
              "  <matplotlib.patches.Wedge at 0x7a4aa275c1c0>,\n",
              "  <matplotlib.patches.Wedge at 0x7a4aa275c640>,\n",
              "  <matplotlib.patches.Wedge at 0x7a4aa275cac0>,\n",
              "  <matplotlib.patches.Wedge at 0x7a4aa275cf40>,\n",
              "  <matplotlib.patches.Wedge at 0x7a4aa275d3c0>,\n",
              "  <matplotlib.patches.Wedge at 0x7a4aa275d840>,\n",
              "  <matplotlib.patches.Wedge at 0x7a4aa275dcc0>,\n",
              "  <matplotlib.patches.Wedge at 0x7a4aa275e140>,\n",
              "  <matplotlib.patches.Wedge at 0x7a4aa275e5c0>,\n",
              "  <matplotlib.patches.Wedge at 0x7a4aa275ea40>,\n",
              "  <matplotlib.patches.Wedge at 0x7a4aa275eec0>,\n",
              "  <matplotlib.patches.Wedge at 0x7a4aa275f340>,\n",
              "  <matplotlib.patches.Wedge at 0x7a4aa275f7c0>,\n",
              "  <matplotlib.patches.Wedge at 0x7a4aa275fc40>,\n",
              "  <matplotlib.patches.Wedge at 0x7a4aa2794100>,\n",
              "  <matplotlib.patches.Wedge at 0x7a4aa2794580>,\n",
              "  <matplotlib.patches.Wedge at 0x7a4aa2794a00>,\n",
              "  <matplotlib.patches.Wedge at 0x7a4aa2794e80>,\n",
              "  <matplotlib.patches.Wedge at 0x7a4aa2795300>,\n",
              "  <matplotlib.patches.Wedge at 0x7a4aa2795780>,\n",
              "  <matplotlib.patches.Wedge at 0x7a4aa2795c00>,\n",
              "  <matplotlib.patches.Wedge at 0x7a4aa2796080>,\n",
              "  <matplotlib.patches.Wedge at 0x7a4aa2796500>,\n",
              "  <matplotlib.patches.Wedge at 0x7a4aa2796980>,\n",
              "  <matplotlib.patches.Wedge at 0x7a4aa2796e00>,\n",
              "  <matplotlib.patches.Wedge at 0x7a4aa2797280>,\n",
              "  <matplotlib.patches.Wedge at 0x7a4aa2797700>,\n",
              "  <matplotlib.patches.Wedge at 0x7a4aa2797b80>,\n",
              "  <matplotlib.patches.Wedge at 0x7a4aa27d0040>,\n",
              "  <matplotlib.patches.Wedge at 0x7a4aa27d04c0>,\n",
              "  <matplotlib.patches.Wedge at 0x7a4aa27d0940>,\n",
              "  <matplotlib.patches.Wedge at 0x7a4aa27d0dc0>,\n",
              "  <matplotlib.patches.Wedge at 0x7a4aa27d1240>,\n",
              "  <matplotlib.patches.Wedge at 0x7a4aa27d16c0>,\n",
              "  <matplotlib.patches.Wedge at 0x7a4aa27d1b40>,\n",
              "  <matplotlib.patches.Wedge at 0x7a4aa27d1fc0>,\n",
              "  <matplotlib.patches.Wedge at 0x7a4aa27d2440>,\n",
              "  <matplotlib.patches.Wedge at 0x7a4aa27d28c0>,\n",
              "  <matplotlib.patches.Wedge at 0x7a4aa27d2d40>,\n",
              "  <matplotlib.patches.Wedge at 0x7a4aa27d31c0>,\n",
              "  <matplotlib.patches.Wedge at 0x7a4aa27d3640>,\n",
              "  <matplotlib.patches.Wedge at 0x7a4aa27d3ac0>,\n",
              "  <matplotlib.patches.Wedge at 0x7a4aa27d3f40>,\n",
              "  <matplotlib.patches.Wedge at 0x7a4aa280c400>,\n",
              "  <matplotlib.patches.Wedge at 0x7a4aa280c880>,\n",
              "  <matplotlib.patches.Wedge at 0x7a4aa280cd00>,\n",
              "  <matplotlib.patches.Wedge at 0x7a4aa280d180>,\n",
              "  <matplotlib.patches.Wedge at 0x7a4aa280d600>,\n",
              "  <matplotlib.patches.Wedge at 0x7a4aa280da80>,\n",
              "  <matplotlib.patches.Wedge at 0x7a4aa280df00>,\n",
              "  <matplotlib.patches.Wedge at 0x7a4aa280e380>,\n",
              "  <matplotlib.patches.Wedge at 0x7a4aa280e800>,\n",
              "  <matplotlib.patches.Wedge at 0x7a4aa280ec80>,\n",
              "  <matplotlib.patches.Wedge at 0x7a4aa280f100>,\n",
              "  <matplotlib.patches.Wedge at 0x7a4aa280f580>,\n",
              "  <matplotlib.patches.Wedge at 0x7a4aa280fa00>,\n",
              "  <matplotlib.patches.Wedge at 0x7a4aa280fe80>,\n",
              "  <matplotlib.patches.Wedge at 0x7a4aa2640340>,\n",
              "  <matplotlib.patches.Wedge at 0x7a4aa26407c0>,\n",
              "  <matplotlib.patches.Wedge at 0x7a4aa2640c40>,\n",
              "  <matplotlib.patches.Wedge at 0x7a4aa26410c0>,\n",
              "  <matplotlib.patches.Wedge at 0x7a4aa2641540>,\n",
              "  <matplotlib.patches.Wedge at 0x7a4aa26419c0>,\n",
              "  <matplotlib.patches.Wedge at 0x7a4aa2641e40>,\n",
              "  <matplotlib.patches.Wedge at 0x7a4aa26422c0>,\n",
              "  <matplotlib.patches.Wedge at 0x7a4aa2642740>,\n",
              "  <matplotlib.patches.Wedge at 0x7a4aa2642bc0>,\n",
              "  <matplotlib.patches.Wedge at 0x7a4aa2643040>,\n",
              "  <matplotlib.patches.Wedge at 0x7a4aa26434c0>,\n",
              "  <matplotlib.patches.Wedge at 0x7a4aa2643940>,\n",
              "  <matplotlib.patches.Wedge at 0x7a4aa2643dc0>,\n",
              "  <matplotlib.patches.Wedge at 0x7a4aa2680280>,\n",
              "  <matplotlib.patches.Wedge at 0x7a4aa2680700>,\n",
              "  <matplotlib.patches.Wedge at 0x7a4aa2680b80>,\n",
              "  <matplotlib.patches.Wedge at 0x7a4aa2681000>,\n",
              "  <matplotlib.patches.Wedge at 0x7a4aa2681480>,\n",
              "  <matplotlib.patches.Wedge at 0x7a4aa2681930>,\n",
              "  <matplotlib.patches.Wedge at 0x7a4aa2681db0>,\n",
              "  ...],\n",
              " [Text(1.0999992759360673, 0.0012621173193384902, ''),\n",
              "  Text(1.099995378704882, 0.003188546362145286, ''),\n",
              "  Text(1.099988309232214, 0.005071444809458497, ''),\n",
              "  Text(1.0999817852118958, 0.006330260820138375, ''),\n",
              "  Text(1.0999772892093167, 0.007068466858044004, ''),\n",
              "  Text(1.099968604021937, 0.008310846288522213, ''),\n",
              "  Text(1.099960251427693, 0.009351218055775712, ''),\n",
              "  Text(1.0999455144412518, 0.010948299437366686, ''),\n",
              "  Text(1.0999203558154615, 0.013236724020254973, ''),\n",
              "  Text(1.0998724998037326, 0.016747661791685166, ''),\n",
              "  Text(1.0998158187209672, 0.020128708133625696, ''),\n",
              "  Text(1.0997869391189128, 0.021649215769926903, ''),\n",
              "  Text(1.0997688077677585, 0.022551484675806893, ''),\n",
              "  Text(1.0997253562657279, 0.024579275542982993, ''),\n",
              "  Text(1.0996644772718949, 0.02716684424680851, ''),\n",
              "  Text(1.0996360338117155, 0.028294754687747635, ''),\n",
              "  Text(1.099628688849022, 0.02857877989314878, ''),\n",
              "  Text(1.0995894740034842, 0.03004976972858968, ''),\n",
              "  Text(1.0995372835147352, 0.03190238488008129, ''),\n",
              "  Text(1.0994343854612152, 0.035270838741381795, ''),\n",
              "  Text(1.0993155318383572, 0.03879898785986746, ''),\n",
              "  Text(1.099262825667494, 0.040264625982579905, ''),\n",
              "  Text(1.0991829846970038, 0.042388278481041125, ''),\n",
              "  Text(1.099083255568246, 0.04489985890296512, ''),\n",
              "  Text(1.0988911549934504, 0.04937843129505877, ''),\n",
              "  Text(1.0987105076358912, 0.05324678779496807, ''),\n",
              "  Text(1.0985915810212072, 0.055646546247944115, ''),\n",
              "  Text(1.0984516432157962, 0.058343701601093756, ''),\n",
              "  Text(1.0982364162832352, 0.0622637450636963, ''),\n",
              "  Text(1.0979808790900136, 0.06661823438609828, ''),\n",
              "  Text(1.097873615329444, 0.06836318280665754, ''),\n",
              "  Text(1.0977652005641452, 0.07008255439381618, ''),\n",
              "  Text(1.0975934055346395, 0.07272355964110051, ''),\n",
              "  Text(1.0970292973738258, 0.08078812229214254, ''),\n",
              "  Text(1.0964846931473566, 0.08787102874979559, ''),\n",
              "  Text(1.0962751011600353, 0.09044834203319652, ''),\n",
              "  Text(1.096045480596963, 0.09318961563914875, ''),\n",
              "  Text(1.0959294408333968, 0.09454449066232488, ''),\n",
              "  Text(1.0957986151700614, 0.09604891978245199, ''),\n",
              "  Text(1.095533356270914, 0.09902860848152191, ''),\n",
              "  Text(1.0952540535362871, 0.10207133883873719, ''),\n",
              "  Text(1.0950826169977268, 0.10389447506682013, ''),\n",
              "  Text(1.0949289589570017, 0.10550153950221211, ''),\n",
              "  Text(1.0948153933197464, 0.10667358881245725, ''),\n",
              "  Text(1.0946894572622434, 0.10795828897724859, ''),\n",
              "  Text(1.0942989315061311, 0.11184743405434003, ''),\n",
              "  Text(1.0938976985766242, 0.11570576929766811, ''),\n",
              "  Text(1.0937410610466611, 0.11717717943577682, ''),\n",
              "  Text(1.0935883772488437, 0.11859368088663366, ''),\n",
              "  Text(1.0932033369941945, 0.12209203079954799, ''),\n",
              "  Text(1.09246334606862, 0.12854507962794512, ''),\n",
              "  Text(1.0919975070863157, 0.13244411846991294, ''),\n",
              "  Text(1.0918450242444566, 0.13369533661508984, ''),\n",
              "  Text(1.0916450068314962, 0.1353188052706014, ''),\n",
              "  Text(1.0914647446342578, 0.13676516815503398, ''),\n",
              "  Text(1.0912932930621, 0.13812656702342882, ''),\n",
              "  Text(1.0910115210030196, 0.14033481762797825, ''),\n",
              "  Text(1.090613644382359, 0.14339413756158048, ''),\n",
              "  Text(1.090344025256973, 0.14543007455963697, ''),\n",
              "  Text(1.0900547471083442, 0.14758268294947163, ''),\n",
              "  Text(1.0897870236668648, 0.1495467921665874, ''),\n",
              "  Text(1.0896188841277363, 0.1507669968933081, ''),\n",
              "  Text(1.0893833560899304, 0.15245951421357717, ''),\n",
              "  Text(1.0891772813844218, 0.15392481838884986, ''),\n",
              "  Text(1.088948578214966, 0.1555345427987119, ''),\n",
              "  Text(1.088615914673948, 0.15784609693813642, ''),\n",
              "  Text(1.0879951033787687, 0.16206990782937675, ''),\n",
              "  Text(1.0874708651651233, 0.16555095112085136, ''),\n",
              "  Text(1.087035235630314, 0.1683876376048682, ''),\n",
              "  Text(1.086523480395518, 0.17165875028442568, ''),\n",
              "  Text(1.0862407452075649, 0.17343887525844426, ''),\n",
              "  Text(1.085859053318783, 0.17581273084062074, ''),\n",
              "  Text(1.0854608650360478, 0.17825462259137953, ''),\n",
              "  Text(1.0851892218660888, 0.17990095259801403, ''),\n",
              "  Text(1.0849728960998128, 0.18120103401687607, ''),\n",
              "  Text(1.0847999384281954, 0.18223362364334303, ''),\n",
              "  Text(1.0844006803541957, 0.1845945948487056, ''),\n",
              "  Text(1.08382065685004, 0.18797016727435362, ''),\n",
              "  Text(1.083162352052785, 0.19172719967568125, ''),\n",
              "  Text(1.0824141818395632, 0.19590696504358684, ''),\n",
              "  Text(1.0819780602523392, 0.19830148040946577, ''),\n",
              "  Text(1.0816358397364345, 0.20015971172455824, ''),\n",
              "  Text(1.0811415904776067, 0.20281237965063012, ''),\n",
              "  Text(1.080314007665936, 0.20717539632100054, ''),\n",
              "  Text(1.0795491170471236, 0.21112485377798543, ''),\n",
              "  Text(1.0791404916598664, 0.21320365677000555, ''),\n",
              "  Text(1.07879771484915, 0.21493136215138983, ''),\n",
              "  Text(1.0783154520374845, 0.21733795319086793, ''),\n",
              "  Text(1.0778311012676158, 0.21972737002985937, ''),\n",
              "  Text(1.0775710227231514, 0.22099930087532405, ''),\n",
              "  Text(1.0772991545885555, 0.2223207851793975, ''),\n",
              "  Text(1.077130392107353, 0.2231369946886, ''),\n",
              "  Text(1.0769227107508235, 0.22413717913166128, ''),\n",
              "  Text(1.076303928393517, 0.2270899683488536, ''),\n",
              "  Text(1.0756387398468212, 0.2302201149785622, ''),\n",
              "  Text(1.0752870699915487, 0.23185710493532494, ''),\n",
              "  Text(1.0749221008046956, 0.23354330904913473, ''),\n",
              "  Text(1.0738611804376215, 0.23837400267042216, ''),\n",
              "  Text(1.0727218783410783, 0.2434497314198329, ''),\n",
              "  Text(1.0722667681907754, 0.2454464867006861, ''),\n",
              "  Text(1.0717863252878284, 0.2475360032924782, ''),\n",
              "  Text(1.0706877607098144, 0.2522453548951959, ''),\n",
              "  Text(1.0696453734082343, 0.25662964588363363, ''),\n",
              "  Text(1.0692367368254416, 0.258326925857297, ''),\n",
              "  Text(1.0686921080493346, 0.26057086980909777, ''),\n",
              "  Text(1.0680903655830343, 0.26302655939790615, ''),\n",
              "  Text(1.0676096956397898, 0.26497082438622477, ''),\n",
              "  Text(1.0671975771457745, 0.2666258264575828, ''),\n",
              "  Text(1.066872355614502, 0.2679241997759131, ''),\n",
              "  Text(1.0665829256973105, 0.2690740838709024, ''),\n",
              "  Text(1.066301131686782, 0.2701886314475281, ''),\n",
              "  Text(1.0659515087474953, 0.27156469026539287, ''),\n",
              "  Text(1.065517337946385, 0.27326324768554133, ''),\n",
              "  Text(1.0651141152347507, 0.27483071430918027, ''),\n",
              "  Text(1.0647576769554394, 0.27620841653442885, ''),\n",
              "  Text(1.0645379536441488, 0.2770540475270633, ''),\n",
              "  Text(1.0642058628437114, 0.27832693274110537, ''),\n",
              "  Text(1.0637864149576597, 0.27992581758660623, ''),\n",
              "  Text(1.06336834764246, 0.2815097817699139, ''),\n",
              "  Text(1.0630245958442117, 0.2828050717901834, ''),\n",
              "  Text(1.0624732678328794, 0.2848693650439137, ''),\n",
              "  Text(1.061696564887426, 0.2877505935810384, ''),\n",
              "  Text(1.060429602675796, 0.2923851189251148, ''),\n",
              "  Text(1.0590816357065564, 0.2972306998092985, ''),\n",
              "  Text(1.058373283318213, 0.29974321203027426, ''),\n",
              "  Text(1.0576499445248804, 0.30228561799483217, ''),\n",
              "  Text(1.0567635735045182, 0.30536985724521154, ''),\n",
              "  Text(1.0560244199638065, 0.30791626205854467, ''),\n",
              "  Text(1.0554907143276993, 0.30974078189351073, ''),\n",
              "  Text(1.0549619965312806, 0.3115368130329614, ''),\n",
              "  Text(1.0545910095878752, 0.3127903491101127, ''),\n",
              "  Text(1.0541021809889966, 0.31443376414475743, ''),\n",
              "  Text(1.0532398586201634, 0.3173102586015432, ''),\n",
              "  Text(1.0525626230710579, 0.3195495650345566, ''),\n",
              "  Text(1.0519358607437708, 0.32160681721826445, ''),\n",
              "  Text(1.0511718580047862, 0.32409524053704647, ''),\n",
              "  Text(1.0505525224367367, 0.32609722108875716, ''),\n",
              "  Text(1.049661564845943, 0.3289537950612003, ''),\n",
              "  Text(1.048637182638412, 0.33220484522079763, ''),\n",
              "  Text(1.0478503583073104, 0.33467839278214756, ''),\n",
              "  Text(1.0463147188693922, 0.3394488313093222, ''),\n",
              "  Text(1.0446535037459483, 0.34452729516152136, ''),\n",
              "  Text(1.0428300241657726, 0.35000791519394847, ''),\n",
              "  Text(1.0412934322988012, 0.3545532228754688, ''),\n",
              "  Text(1.0410266092818694, 0.35533589569180063, ''),\n",
              "  Text(1.0406115649697556, 0.3565495349193385, ''),\n",
              "  Text(1.0400021287453147, 0.35832327890497745, ''),\n",
              "  Text(1.0393657424387162, 0.36016503639972697, ''),\n",
              "  Text(1.0388279336480062, 0.3617133177982447, ''),\n",
              "  Text(1.038022331325967, 0.36401873532636253, ''),\n",
              "  Text(1.0372274725300086, 0.36627744979593096, ''),\n",
              "  Text(1.0367752547644913, 0.3675555347264196, ''),\n",
              "  Text(1.0359149894548043, 0.36997315392181207, ''),\n",
              "  Text(1.034548606607669, 0.37377691283187986, ''),\n",
              "  Text(1.033400878821042, 0.3769384878888045, ''),\n",
              "  Text(1.0324841809448437, 0.37944224342929356, ''),\n",
              "  Text(1.0317318178388082, 0.38148323168787956, ''),\n",
              "  Text(1.0312239996430457, 0.38285383968324016, ''),\n",
              "  Text(1.0305562326910702, 0.3846476975903912, ''),\n",
              "  Text(1.0294548729554505, 0.3875856867175019, ''),\n",
              "  Text(1.0282664045342964, 0.390727784149158, ''),\n",
              "  Text(1.027219692039145, 0.3934713512913039, ''),\n",
              "  Text(1.0265322753155548, 0.3952612904591976, ''),\n",
              "  Text(1.0260692063731534, 0.39646183136938595, ''),\n",
              "  Text(1.0251540416312508, 0.39882225480420724, ''),\n",
              "  Text(1.0243352383196338, 0.4009205900632431, ''),\n",
              "  Text(1.0236694090562275, 0.40261761134167273, ''),\n",
              "  Text(1.0229286164807037, 0.4044960390224775, ''),\n",
              "  Text(1.0223587147959576, 0.40593430291213106, ''),\n",
              "  Text(1.0216577989729076, 0.40769515792787375, ''),\n",
              "  Text(1.0207954418980976, 0.409849564840647, ''),\n",
              "  Text(1.018880165680315, 0.41458799787651096, ''),\n",
              "  Text(1.0169140937544952, 0.41938732208243246, ''),\n",
              "  Text(1.0160412410205577, 0.4214975641037623, ''),\n",
              "  Text(1.0151630605513806, 0.423608263011894, ''),\n",
              "  Text(1.014016844637515, 0.426344741718926, ''),\n",
              "  Text(1.012782195934667, 0.42926940678058345, ''),\n",
              "  Text(1.0118382723409443, 0.4314896413890993, ''),\n",
              "  Text(1.011357057348133, 0.4326163456830144, ''),\n",
              "  Text(1.010760254286851, 0.434008880501287, ''),\n",
              "  Text(1.0099566537909042, 0.43587562155215814, ''),\n",
              "  Text(1.0093295739540609, 0.43732574946110164, ''),\n",
              "  Text(1.0082872551894408, 0.439723562050686, ''),\n",
              "  Text(1.0069740335111483, 0.44272259467333375, ''),\n",
              "  Text(1.0055597036012276, 0.4459256468217675, ''),\n",
              "  Text(1.0038328763411943, 0.44979946240137375, ''),\n",
              "  Text(1.0025734938141164, 0.45259959069950123, ''),\n",
              "  Text(1.0020335445706066, 0.4537937588324307, ''),\n",
              "  Text(1.0013715618186052, 0.45525267179992196, ''),\n",
              "  Text(1.0006975675469536, 0.4567322829684916, ''),\n",
              "  Text(1.0000046255506887, 0.45824747558194695, ''),\n",
              "  Text(0.9989573016672271, 0.4605261224357778, ''),\n",
              "  Text(0.9980253258653393, 0.4625423752818583, ''),\n",
              "  Text(0.9974319884289281, 0.4638204700729743, ''),\n",
              "  Text(0.9969036660778983, 0.4649549231489506, ''),\n",
              "  Text(0.9960746214062369, 0.4667283456041876, ''),\n",
              "  Text(0.9952084947080159, 0.46857235520355367, ''),\n",
              "  Text(0.9945204337349222, 0.4700309637499455, ''),\n",
              "  Text(0.9938295310479313, 0.4714900457242435, ''),\n",
              "  Text(0.9928259354314801, 0.47359968531937047, ''),\n",
              "  Text(0.9920698562398543, 0.4751814393894559, ''),\n",
              "  Text(0.9917553522418489, 0.47583749463408875, ''),\n",
              "  Text(0.9902564296551234, 0.4789490615156144, ''),\n",
              "  Text(0.9887506236035594, 0.4820500018914768, ''),\n",
              "  Text(0.987999854317733, 0.483586897949209, ''),\n",
              "  Text(0.9873086151795923, 0.48499659626862945, ''),\n",
              "  Text(0.9868164401648306, 0.4859972360213704, ''),\n",
              "  Text(0.9860482528320431, 0.48755393864358787, ''),\n",
              "  Text(0.9852735934274204, 0.48911751767302164, ''),\n",
              "  Text(0.9844275814124418, 0.49081802835108895, ''),\n",
              "  Text(0.9835032512090383, 0.4926675906341431, ''),\n",
              "  Text(0.9819626284809462, 0.4957311733861323, ''),\n",
              "  Text(0.9801528023760518, 0.4992999939859527, ''),\n",
              "  Text(0.9790104398532983, 0.501536198751647, ''),\n",
              "  Text(0.97829058698558, 0.5029388903389849, ''),\n",
              "  Text(0.9772869550498616, 0.5048863312562244, ''),\n",
              "  Text(0.9754852239210836, 0.5083587098807627, ''),\n",
              "  Text(0.9735889954426821, 0.5119809253799494, ''),\n",
              "  Text(0.9726041913277599, 0.5138492843350805, ''),\n",
              "  Text(0.9720966097506446, 0.5148088784309214, ''),\n",
              "  Text(0.97152685577485, 0.5158832896191096, ''),\n",
              "  Text(0.9705886678096938, 0.5176462478560085, ''),\n",
              "  Text(0.969284895187211, 0.5200834471139394, ''),\n",
              "  Text(0.9683897235603696, 0.5217483524676154, ''),\n",
              "  Text(0.968022586223635, 0.5224292033959292, ''),\n",
              "  Text(0.9672950867970049, 0.5237749660478008, ''),\n",
              "  Text(0.9659955647412304, 0.5261678143903061, ''),\n",
              "  Text(0.9651356456582385, 0.5277434845451484, ''),\n",
              "  Text(0.9646991984007051, 0.528540875056071, ''),\n",
              "  Text(0.9635950992546216, 0.530551114118589, ''),\n",
              "  Text(0.9620682828756812, 0.5333147467346449, ''),\n",
              "  Text(0.9609686219686768, 0.5352936648155127, ''),\n",
              "  Text(0.9600340967724654, 0.5369679068941428, ''),\n",
              "  Text(0.9591710336784258, 0.5385080576484071, ''),\n",
              "  Text(0.957940028349711, 0.5406948326786147, ''),\n",
              "  Text(0.9565824348057869, 0.5430930356955729, ''),\n",
              "  Text(0.9558111706947471, 0.5444492685045479, ''),\n",
              "  Text(0.9551601936712983, 0.5455905098384759, ''),\n",
              "  Text(0.9546461821910613, 0.5464894023016651, ''),\n",
              "  Text(0.9540912766359301, 0.5474576110049264, ''),\n",
              "  Text(0.9530470036439852, 0.5492735282582094, ''),\n",
              "  Text(0.9521329481890504, 0.5508564685767312, ''),\n",
              "  Text(0.9512492537223527, 0.5523810797743415, ''),\n",
              "  Text(0.9502986066454399, 0.5540149440292526, ''),\n",
              "  Text(0.949760511156932, 0.5549369076272753, ''),\n",
              "  Text(0.9487531193580894, 0.556657451677686, ''),\n",
              "  Text(0.9470645629536405, 0.5595254360593718, ''),\n",
              "  Text(0.9448825067874248, 0.5632024932181252, ''),\n",
              "  Text(0.943233319664844, 0.5659601617375895, ''),\n",
              "  Text(0.9417165807357444, 0.5684803264558751, ''),\n",
              "  Text(0.9397081209422641, 0.5717942352237906, ''),\n",
              "  Text(0.9384179389072793, 0.5739092018229139, ''),\n",
              "  Text(0.9366113538176802, 0.5768528164963852, ''),\n",
              "  Text(0.9346635017593672, 0.5800035676432669, ''),\n",
              "  Text(0.9331992424260415, 0.5823565694104106, ''),\n",
              "  Text(0.9320536616481925, 0.584188301670101, ''),\n",
              "  Text(0.9308392973383477, 0.5861213206586596, ''),\n",
              "  Text(0.9294321129934812, 0.5883501910737117, ''),\n",
              "  Text(0.9286512648924299, 0.5895819096730243, ''),\n",
              "  Text(0.9281037880578257, 0.5904433576497534, ''),\n",
              "  Text(0.9275864097116401, 0.5912558266252178, ''),\n",
              "  Text(0.9270055534349613, 0.5921661117463084, ''),\n",
              "  Text(0.9260907214320782, 0.5935958016002246, ''),\n",
              "  Text(0.9250492913474929, 0.5952174464659966, ''),\n",
              "  Text(0.9244592071831526, 0.5961335204920936, ''),\n",
              "  Text(0.9234824921953864, 0.5976454522612871, ''),\n",
              "  Text(0.9223386730794104, 0.5994091859006772, ''),\n",
              "  Text(0.9217793915448766, 0.6002689008462435, ''),\n",
              "  Text(0.9206557285997065, 0.601990888134151, ''),\n",
              "  Text(0.9195441714112187, 0.6036874330509585, ''),\n",
              "  Text(0.9176052381981629, 0.6066305521742974, ''),\n",
              "  Text(0.9154388597774002, 0.6098948220877545, ''),\n",
              "  Text(0.9143624985555266, 0.611507335389605, ''),\n",
              "  Text(0.9130832350942522, 0.6134158506183345, ''),\n",
              "  Text(0.9117609421822969, 0.6153795449239847, ''),\n",
              "  Text(0.910642217116046, 0.6170338340852731, ''),\n",
              "  Text(0.9096858013887907, 0.6184429987894062, ''),\n",
              "  Text(0.9090186195260349, 0.6194232392758461, ''),\n",
              "  Text(0.9083221292416976, 0.6204441228102888, ''),\n",
              "  Text(0.9059254638600769, 0.6239383414488203, ''),\n",
              "  Text(0.903716243302103, 0.6271339183874002, ''),\n",
              "  Text(0.9027948693740047, 0.6284595641980272, ''),\n",
              "  Text(0.9010927854029782, 0.6308976082493121, ''),\n",
              "  Text(0.8994607020350296, 0.6332222717929716, ''),\n",
              "  Text(0.8986592221760307, 0.6343592061269163, ''),\n",
              "  Text(0.8980583545727439, 0.63520956524764, ''),\n",
              "  Text(0.8972757387818734, 0.6363145830432015, ''),\n",
              "  Text(0.8959804265037561, 0.6381371916148969, ''),\n",
              "  Text(0.8945199101993903, 0.6401828881318798, ''),\n",
              "  Text(0.8935712540943499, 0.6415063630676247, ''),\n",
              "  Text(0.8926743827871145, 0.6427537991452436, ''),\n",
              "  Text(0.8906740323484542, 0.6455228641188048, ''),\n",
              "  Text(0.8872047068581955, 0.650282867780371, ''),\n",
              "  Text(0.884416980447841, 0.6540692659768715, ''),\n",
              "  Text(0.883399341567947, 0.6554430587910118, ''),\n",
              "  Text(0.8815423734498947, 0.6579384802641708, ''),\n",
              "  Text(0.8793913391599555, 0.6608107691392902, ''),\n",
              "  Text(0.8786246547229504, 0.6618298241338, ''),\n",
              "  Text(0.8775538679661756, 0.6632489795073975, ''),\n",
              "  Text(0.8760975944782059, 0.6651714102015369, ''),\n",
              "  Text(0.8747192708393505, 0.6669829062444368, ''),\n",
              "  Text(0.8732388385548595, 0.6689199734193622, ''),\n",
              "  Text(0.8715267050622706, 0.671149165508907, ''),\n",
              "  Text(0.8699827784078555, 0.673149288994461, ''),\n",
              "  Text(0.8690170660192441, 0.6743955359930142, ''),\n",
              "  Text(0.8668164562596719, 0.6772217001524868, ''),\n",
              "  Text(0.864680767868288, 0.679946446184336, ''),\n",
              "  Text(0.8626618648381678, 0.6825060490236954, ''),\n",
              "  Text(0.8602844509854379, 0.685500301526326, ''),\n",
              "  Text(0.8590897935459726, 0.686996889822027, ''),\n",
              "  Text(0.8580040512513604, 0.6883524155810404, ''),\n",
              "  Text(0.857073183204414, 0.6895111011665102, ''),\n",
              "  Text(0.8564015769617949, 0.6903450868785488, ''),\n",
              "  Text(0.8546378529596725, 0.6925273570686441, ''),\n",
              "  Text(0.8528063325559694, 0.6947815190061101, ''),\n",
              "  Text(0.8511660406166973, 0.6967900482217689, ''),\n",
              "  Text(0.8495079766749077, 0.6988105591401039, ''),\n",
              "  Text(0.8487343475783451, 0.6997499605150121, ''),\n",
              "  Text(0.8473536500199965, 0.7014212655728294, ''),\n",
              "  Text(0.8459822578903535, 0.7030746897270158, ''),\n",
              "  Text(0.8451213966297042, 0.704109242205113, ''),\n",
              "  Text(0.8399641709002819, 0.710253610764354, ''),\n",
              "  Text(0.8348435534181673, 0.7162654824268219, ''),\n",
              "  Text(0.8330416678508308, 0.7183603410714615, ''),\n",
              "  Text(0.8313270240265297, 0.7203439311351167, ''),\n",
              "  Text(0.8307142365605213, 0.7210505233169658, ''),\n",
              "  Text(0.8297995895136875, 0.7221029298118904, ''),\n",
              "  Text(0.8284553717340019, 0.723644731235623, ''),\n",
              "  Text(0.8265916275961155, 0.725772885404246, ''),\n",
              "  Text(0.8245751440835155, 0.7280630685316005, ''),\n",
              "  Text(0.8232813943996158, 0.7295256990918308, ''),\n",
              "  Text(0.8223516474873316, 0.7305735882680618, ''),\n",
              "  Text(0.8214620735410859, 0.7315736885191947, ''),\n",
              "  Text(0.820768673535158, 0.7323515443715111, ''),\n",
              "  Text(0.8200964280150811, 0.7331042550394214, ''),\n",
              "  Text(0.8189017529300826, 0.7344385059676801, ''),\n",
              "  Text(0.8154353475340653, 0.7382853066342295, ''),\n",
              "  Text(0.8120489217687146, 0.7420084559183057, ''),\n",
              "  Text(0.8106083276414375, 0.743581965326185, ''),\n",
              "  Text(0.8090283870940221, 0.7453006566990567, ''),\n",
              "  Text(0.8073996312268094, 0.7470648134498188, ''),\n",
              "  Text(0.8061369897668119, 0.7484271198518283, ''),\n",
              "  Text(0.804920183979239, 0.7497356183501142, ''),\n",
              "  Text(0.8035392056035447, 0.7512155117261786, ''),\n",
              "  Text(0.8025593895300286, 0.7522622058014001, ''),\n",
              "  Text(0.8012294680137877, 0.7536785386266104, ''),\n",
              "  Text(0.7993258094022989, 0.7556971949288682, ''),\n",
              "  Text(0.7980384302203736, 0.7570565790556226, ''),\n",
              "  Text(0.7969123410411745, 0.7582418616089955, ''),\n",
              "  Text(0.7951867161179134, 0.7600513709675217, ''),\n",
              "  Text(0.7940033284464582, 0.7612875372787513, ''),\n",
              "  Text(0.7923362948843833, 0.7630224084578958, ''),\n",
              "  Text(0.7900109378745637, 0.7654297603559405, ''),\n",
              "  Text(0.7889954412097459, 0.7664764795805796, ''),\n",
              "  Text(0.7884596888580522, 0.7670275868871105, ''),\n",
              "  Text(0.7871937646602861, 0.7683267383606835, ''),\n",
              "  Text(0.7857900988781791, 0.7697622493374313, ''),\n",
              "  Text(0.784171927422439, 0.7714106482558932, ''),\n",
              "  Text(0.7825347164127057, 0.773071418181326, ''),\n",
              "  Text(0.7815940382046666, 0.7740224540947908, ''),\n",
              "  Text(0.7805874070586621, 0.7750376119527584, ''),\n",
              "  Text(0.7796014715018496, 0.7760293458575849, ''),\n",
              "  Text(0.7790793364103371, 0.776553531688852, ''),\n",
              "  Text(0.7784118121046193, 0.777222651996198, ''),\n",
              "  Text(0.7776984171580866, 0.777936483236136, ''),\n",
              "  Text(0.7765070018547682, 0.7791257126231423, ''),\n",
              "  Text(0.7749391258444713, 0.7806851806172619, ''),\n",
              "  Text(0.7736833869718661, 0.7819296750499637, ''),\n",
              "  Text(0.7726454447253847, 0.7829553095452593, ''),\n",
              "  Text(0.771850737842606, 0.7837387565329564, ''),\n",
              "  Text(0.7705150847595901, 0.7850519117599307, ''),\n",
              "  Text(0.7677888626633397, 0.7877183902703653, ''),\n",
              "  Text(0.7644850260261756, 0.7909251829229853, ''),\n",
              "  Text(0.7625082469418263, 0.7928311127508196, ''),\n",
              "  Text(0.7619031511744767, 0.7934126216732392, ''),\n",
              "  Text(0.7610681971112353, 0.794213572879395, ''),\n",
              "  Text(0.7590754939300945, 0.7961183294679146, ''),\n",
              "  Text(0.7572305155200507, 0.7978733899342917, ''),\n",
              "  Text(0.7557359778833975, 0.7992891415080184, ''),\n",
              "  Text(0.7538029372545931, 0.8011124339231965, ''),\n",
              "  Text(0.7518097524040555, 0.802983247764331, ''),\n",
              "  Text(0.7494892214031066, 0.805149617773346, ''),\n",
              "  Text(0.7475004753366041, 0.8069963069132046, ''),\n",
              "  Text(0.7465662124224898, 0.8078606875378563, ''),\n",
              "  Text(0.745048169449815, 0.8092609129319664, ''),\n",
              "  Text(0.7428573330369221, 0.8112724466868522, ''),\n",
              "  Text(0.7414730185509686, 0.8125378531249574, ''),\n",
              "  Text(0.7403021875382888, 0.8136047388787903, ''),\n",
              "  Text(0.7391486740408867, 0.8146528326002428, ''),\n",
              "  Text(0.7382725209538605, 0.815446923352116, ''),\n",
              "  Text(0.7373815001023395, 0.8162527324957778, ''),\n",
              "  Text(0.7364145742040714, 0.8171251892457093, ''),\n",
              "  Text(0.7346096557923977, 0.8187482235807142, ''),\n",
              "  Text(0.7329860891639813, 0.8202020440672483, ''),\n",
              "  Text(0.7318673748314608, 0.8212004296499765, ''),\n",
              "  Text(0.7306859210945758, 0.8222518377688015, ''),\n",
              "  Text(0.7295840804829836, 0.8232296578147554, ''),\n",
              "  Text(0.7282717144297309, 0.8243908720756075, ''),\n",
              "  Text(0.7270616453623423, 0.8254582750466578, ''),\n",
              "  Text(0.7253352890447771, 0.8269756456307101, ''),\n",
              "  Text(0.7234969086399394, 0.8285844695554289, ''),\n",
              "  Text(0.7220750519083565, 0.8298238484229918, ''),\n",
              "  Text(0.720150285131741, 0.8314947785913465, ''),\n",
              "  Text(0.7180530859231772, 0.8333065257131992, ''),\n",
              "  Text(0.7166050733978461, 0.8345520767336618, ''),\n",
              "  Text(0.7122837585446846, 0.8382433103302749, ''),\n",
              "  Text(0.7079239469983506, 0.8419285511646917, ''),\n",
              "  Text(0.7070122006884948, 0.842694338463011, ''),\n",
              "  Text(0.7062834662185766, 0.843305202964071, ''),\n",
              "  Text(0.7048830439539627, 0.844476106438895, ''),\n",
              "  Text(0.7032729685969356, 0.8458174339896605, ''),\n",
              "  Text(0.7022009056284947, 0.8467076757267068, ''),\n",
              "  Text(0.701075830060549, 0.8476394755465984, ''),\n",
              "  Text(0.7002839317820458, 0.8482938257985136, ''),\n",
              "  Text(0.6985390994003317, 0.8497312084471028, ''),\n",
              "  Text(0.6964278045383975, 0.8514624554646129, ''),\n",
              "  Text(0.6952200593843609, 0.8524488659325002, ''),\n",
              "  Text(0.6928424758777464, 0.8543824106450194, ''),\n",
              "  Text(0.68987189079873, 0.8567828046160738, ''),\n",
              "  Text(0.6879231887912142, 0.8583482313859147, ''),\n",
              "  Text(0.6865658370210321, 0.8594343206060657, ''),\n",
              "  Text(0.684598263659846, 0.8610024491219082, ''),\n",
              "  Text(0.6827719789199466, 0.8624514043131591, ''),\n",
              "  Text(0.6804852952906814, 0.8642567690756923, ''),\n",
              "  Text(0.6784569387047383, 0.865849976799327, ''),\n",
              "  Text(0.6775400172184448, 0.8665676690643551, ''),\n",
              "  Text(0.6745920803533453, 0.8688645033171432, ''),\n",
              "  Text(0.6706617588472186, 0.8719018323297385, ''),\n",
              "  Text(0.6683076933047875, 0.8737075180342871, ''),\n",
              "  Text(0.6659115120483343, 0.8755351838284405, ''),\n",
              "  Text(0.6635810651686218, 0.8773027812275974, ''),\n",
              "  Text(0.6621662494533099, 0.878371139146168, ''),\n",
              "  Text(0.6610044099479502, 0.8792457961397157, ''),\n",
              "  Text(0.6596272090362313, 0.8802794698838956, ''),\n",
              "  Text(0.657906232083832, 0.8815664409363909, ''),\n",
              "  Text(0.6569305334821222, 0.8822937573047281, ''),\n",
              "  Text(0.6560008316369279, 0.8829852257493662, ''),\n",
              "  Text(0.6549833224641505, 0.8837402600842755, ''),\n",
              "  Text(0.654374907971704, 0.8841908616452809, ''),\n",
              "  Text(0.6533943262913131, 0.8849157329205539, ''),\n",
              "  Text(0.6519632857152683, 0.885970583077876, ''),\n",
              "  Text(0.6502490880010573, 0.8872294649941431, ''),\n",
              "  Text(0.6485384288166245, 0.8884806730301251, ''),\n",
              "  Text(0.6460294066119809, 0.8903066919846059, ''),\n",
              "  Text(0.643173549669069, 0.8923719992279507, ''),\n",
              "  Text(0.6409619240568668, 0.8939618626705054, ''),\n",
              "  Text(0.6379204618729812, 0.8961347467450207, ''),\n",
              "  Text(0.634720072561455, 0.8984043797130451, ''),\n",
              "  Text(0.632793811016077, 0.8997621867692316, ''),\n",
              "  Text(0.6318981513320497, 0.9003914295144851, ''),\n",
              "  Text(0.6308706990013803, 0.901111625239354, ''),\n",
              "  Text(0.6288941815813659, 0.9024921652696516, ''),\n",
              "  Text(0.6269018229259234, 0.9038772618072403, ''),\n",
              "  Text(0.6252739867797484, 0.9050041112926279, ''),\n",
              "  Text(0.6240147565933521, 0.9058728296807116, ''),\n",
              "  Text(0.6232064022651681, 0.906429136874861, ''),\n",
              "  Text(0.6211301482192755, 0.9078531483522547, ''),\n",
              "  Text(0.6187261454499501, 0.9094932418312119, ''),\n",
              "  Text(0.6177121008237304, 0.9101822677331908, ''),\n",
              "  Text(0.6167210875907457, 0.9108540498460156, ''),\n",
              "  Text(0.6146796688026612, 0.9122329224275184, ''),\n",
              "  Text(0.6120130291476829, 0.9140240982345476, ''),\n",
              "  Text(0.6100424220280994, 0.9153405067657011, ''),\n",
              "  Text(0.6087168508613908, 0.9162225687448392, ''),\n",
              "  Text(0.6073742579178083, 0.917113139595542, ''),\n",
              "  Text(0.6049245441208576, 0.9187308071030234, ''),\n",
              "  Text(0.6024986902913699, 0.9203234910601729, ''),\n",
              "  Text(0.6010710116719884, 0.9212565543471658, ''),\n",
              "  Text(0.5995716676488457, 0.9222330591302733, ''),\n",
              "  Text(0.5981293162257701, 0.9231691725091847, ''),\n",
              "  Text(0.5968462289002633, 0.9239992310860083, ''),\n",
              "  Text(0.5940133035870336, 0.925822982627683, ''),\n",
              "  Text(0.5910092917347678, 0.9277435082409191, ''),\n",
              "  Text(0.5894793038148451, 0.9287163993243392, ''),\n",
              "  Text(0.5879997646477569, 0.929653847824115, ''),\n",
              "  Text(0.5867833878767225, 0.9304220847077502, ''),\n",
              "  Text(0.5851106221058919, 0.9314749378801644, ''),\n",
              "  Text(0.5811773900717606, 0.9339340668748393, ''),\n",
              "  Text(0.5775923729491674, 0.9361554628964947, ''),\n",
              "  Text(0.5757812843266995, 0.9372704586292565, ''),\n",
              "  Text(0.5733024167234969, 0.9387887616386329, ''),\n",
              "  Text(0.5713915207796035, 0.9399530466896588, ''),\n",
              "  Text(0.5705584017699945, 0.9404589890950427, ''),\n",
              "  Text(0.5701153397538103, 0.9407276435703362, ''),\n",
              "  Text(0.5694972290719064, 0.9411019636996943, ''),\n",
              "  Text(0.5682651923411898, 0.9418464159157961, ''),\n",
              "  Text(0.5670680681184522, 0.9425676666003384, ''),\n",
              "  Text(0.5662565700615851, 0.9430554049800517, ''),\n",
              "  Text(0.5656010126416651, 0.9434487238312018, ''),\n",
              "  Text(0.5644927746547856, 0.9441122323974739, ''),\n",
              "  Text(0.5632095446305756, 0.9448783037180079, ''),\n",
              "  Text(0.5623438351180166, 0.9453937862630372, ''),\n",
              "  Text(0.5615136658400496, 0.9458870984820913, ''),\n",
              "  Text(0.5604386037002572, 0.9465244695635218, ''),\n",
              "  Text(0.5585346359942794, 0.9476492285623083, ''),\n",
              "  Text(0.5571404037159277, 0.9484695938970598, ''),\n",
              "  Text(0.5559603815172366, 0.9491617639702987, ''),\n",
              "  Text(0.5536084029435553, 0.9505354997001881, ''),\n",
              "  Text(0.5518128885991559, 0.9515789699104619, ''),\n",
              "  Text(0.5501938928353953, 0.9525159737698018, ''),\n",
              "  Text(0.5482529847283103, 0.9536344502672391, ''),\n",
              "  Text(0.5462991120308333, 0.9547550891167448, ''),\n",
              "  Text(0.5447210950118313, 0.9556562816458183, ''),\n",
              "  Text(0.5427838023537456, 0.95675793380688, ''),\n",
              "  Text(0.5404152004777669, 0.9580978087296594, ''),\n",
              "  Text(0.5388975299498681, 0.9589522679539015, ''),\n",
              "  Text(0.5377811339516894, 0.9595787888264493, ''),\n",
              "  Text(0.5358294541415526, 0.9606699725058372, ''),\n",
              "  Text(0.5333513720980751, 0.9620479789912252, ''),\n",
              "  Text(0.5310797395546255, 0.9633038514584022, ''),\n",
              "  Text(0.5287252229873007, 0.9645981746701728, ''),\n",
              "  Text(0.526650898160879, 0.965732277324487, ''),\n",
              "  Text(0.5249883874467619, 0.9666370534208012, ''),\n",
              "  Text(0.5227529128100536, 0.9678478145600189, ''),\n",
              "  Text(0.5204046851171892, 0.9691124618474779, ''),\n",
              "  Text(0.5182113076445357, 0.9702870918595901, ''),\n",
              "  Text(0.5163031598887851, 0.9713037872307798, ''),\n",
              "  Text(0.5133947164304402, 0.9728442142199891, ''),\n",
              "  Text(0.5100946720118021, 0.9745785887167706, ''),\n",
              "  Text(0.5090365449920173, 0.9751316812936549, ''),\n",
              "  Text(0.5084591981532123, 0.9754328494639662, ''),\n",
              "  Text(0.5072995983985569, 0.9760364324474078, ''),\n",
              "  Text(0.5062355164635247, 0.9765887578048954, ''),\n",
              "  Text(0.503694599106171, 0.9779017081646161, ''),\n",
              "  Text(0.5006209704995721, 0.9794787613297528, ''),\n",
              "  Text(0.4990973039032089, 0.9802560284112248, ''),\n",
              "  Text(0.4968839034305263, 0.9813798380401156, ''),\n",
              "  Text(0.49368491422197036, 0.9829929834284912, ''),\n",
              "  Text(0.49133458090622006, 0.9841698682675208, ''),\n",
              "  Text(0.49015431807987425, 0.9847582162478532, ''),\n",
              "  Text(0.4864163528944102, 0.9866099186795665, ''),\n",
              "  Text(0.48233489041508804, 0.9886116798259391, ''),\n",
              "  Text(0.48113897073713274, 0.9891942634477884, ''),\n",
              "  Text(0.479148643363052, 0.9901598747491978, ''),\n",
              "  Text(0.477151938805613, 0.9911236185734073, ''),\n",
              "  Text(0.4762202196911607, 0.9915716324892029, ''),\n",
              "  Text(0.4746570370131411, 0.9923208640424255, ''),\n",
              "  Text(0.4723838428490707, 0.993405005531553, ''),\n",
              "  Text(0.4699893870048023, 0.99454008270298, ''),\n",
              "  Text(0.46814958526059464, 0.99540743709314, ''),\n",
              "  Text(0.4670465710956735, 0.9959254492319063, ''),\n",
              "  Text(0.46612670679157386, 0.99635630836345, ''),\n",
              "  Text(0.46522504762999783, 0.9967776357130343, ''),\n",
              "  Text(0.46322099129929295, 0.9977105357866582, ''),\n",
              "  Text(0.4602919505031561, 0.9990652232472114, ''),\n",
              "  Text(0.457969009037321, 1.0001321846442972, ''),\n",
              "  Text(0.4562481554694514, 1.0009183885965547, ''),\n",
              "  Text(0.45492971442800245, 1.0015183248101138, ''),\n",
              "  Text(0.4531630839407249, 1.0023189209794114, ''),\n",
              "  Text(0.4491721535830373, 1.0041137268484963, ''),\n",
              "  Text(0.44544442444813875, 1.0057729687797672, ''),\n",
              "  Text(0.4436928485324767, 1.0065468971494258, ''),\n",
              "  Text(0.44141273748461446, 1.0075489046127433, ''),\n",
              "  Text(0.43915445577446, 1.0085352566833934, ''),\n",
              "  Text(0.4379472788596972, 1.009060048232704, ''),\n",
              "  Text(0.4347331251972144, 1.0104489644985852, ''),\n",
              "  Text(0.43083164540804864, 1.0121186162278577, ''),\n",
              "  Text(0.4294243907963944, 1.0127164917138192, ''),\n",
              "  Text(0.4276599950362723, 1.0134628402884716, ''),\n",
              "  Text(0.42527793522090174, 1.0144647247757048, ''),\n",
              "  Text(0.42304134312641684, 1.0153994396324026, ''),\n",
              "  Text(0.42096960408503753, 1.0162601007795626, ''),\n",
              "  Text(0.41941313198834956, 1.0169034490627533, ''),\n",
              "  Text(0.418261271469805, 1.0173777611037418, ''),\n",
              "  Text(0.4178450422430968, 1.0175487804881223, ''),\n",
              "  Text(0.41542375732429393, 1.0185396908567512, ''),\n",
              "  Text(0.41103957621424014, 1.0203168462715972, ''),\n",
              "  Text(0.40846000491900697, 1.0213522528401084, ''),\n",
              "  Text(0.40692016405674825, 1.0219667216128074, ''),\n",
              "  Text(0.4057816588107387, 1.0224193099569303, ''),\n",
              "  Text(0.4046434137097709, 1.0228703279210436, ''),\n",
              "  Text(0.4025557122192062, 1.0236937523301037, ''),\n",
              "  Text(0.40020246414436655, 1.024616019635052, ''),\n",
              "  Text(0.3985467381418707, 1.0252611850238336, ''),\n",
              "  Text(0.39710822839397125, 1.0258192116263964, ''),\n",
              "  Text(0.39592943093864824, 1.0262747613171623, ''),\n",
              "  Text(0.3951241168133072, 1.0265850828414098, ''),\n",
              "  Text(0.3939835416719322, 1.027023353625243, ''),\n",
              "  Text(0.3918206354432215, 1.0278504704677964, ''),\n",
              "  Text(0.3898049633796804, 1.028616590632567, ''),\n",
              "  Text(0.3890346821687752, 1.028908166975965, ''),\n",
              "  Text(0.3878592570026089, 1.0293518333190963, ''),\n",
              "  Text(0.3856276326589543, 1.0301899479852494, ''),\n",
              "  Text(0.38344653398073186, 1.0310037611852654, ''),\n",
              "  Text(0.38095405836748264, 1.0319273256452437, ''),\n",
              "  Text(0.37882634222051764, 1.0327103187437527, ''),\n",
              "  Text(0.37743602278224986, 1.0332192645834268, ''),\n",
              "  Text(0.37556807959893557, 1.0338997135053127, ''),\n",
              "  Text(0.37402712594563114, 1.0344581717289738, ''),\n",
              "  Text(0.37262595967281803, 1.0349637163581684, ''),\n",
              "  Text(0.37032653797933524, 1.0357887116918392, ''),\n",
              "  Text(0.36777068713018496, 1.036698954223352, ''),\n",
              "  Text(0.36609858156186087, 1.0372906191508693, ''),\n",
              "  Text(0.3647865510874544, 1.0377527509699602, ''),\n",
              "  Text(0.3638552286445253, 1.0380796561863836, ''),\n",
              "  Text(0.3629298146416767, 1.0384035581815763, ''),\n",
              "  Text(0.36186608512724483, 1.0387747284347468, ''),\n",
              "  Text(0.3592431338300689, 1.03968474587057, ''),\n",
              "  Text(0.3559676385107265, 1.0408107610575021, ''),\n",
              "  Text(0.35346087650825203, 1.041664729544981, ''),\n",
              "  Text(0.3515372484232009, 1.0423154814983058, ''),\n",
              "  Text(0.34957738601841265, 1.0429744249906294, ''),\n",
              "  Text(0.347500204042663, 1.0436683420466042, ''),\n",
              "  Text(0.34565474227824405, 1.0442809962555868, ''),\n",
              "  Text(0.3436046095016588, 1.0449573543112718, ''),\n",
              "  Text(0.3412978971096591, 1.0457130320640193, ''),\n",
              "  Text(0.3389957722744319, 1.0464615933612, ''),\n",
              "  Text(0.33366681725255026, 1.0481729127699082, ''),\n",
              "  Text(0.3284138649349992, 1.0498306212520458, ''),\n",
              "  Text(0.32617878042289405, 1.0505272025044539, ''),\n",
              "  Text(0.32298077511126977, 1.0515148210598477, ''),\n",
              "  Text(0.3204318425105269, 1.0522943667554763, ''),\n",
              "  Text(0.3187857365708365, 1.0527942126355887, ''),\n",
              "  Text(0.3173126163613357, 1.0532391482934558, ''),\n",
              "  Text(0.31636584419908576, 1.053523921239665, ''),\n",
              "  Text(0.3147862739631666, 1.0539969647605187, ''),\n",
              "  Text(0.3125848678837115, 1.0546519332794697, ''),\n",
              "  Text(0.3094783908140546, 1.055567679317221, ''),\n",
              "  Text(0.30726819731717886, 1.056213167366063, ''),\n",
              "  Text(0.305799770910467, 1.0566392478566684, ''),\n",
              "  Text(0.3029708760444243, 1.0574538516024585, ''),\n",
              "  Text(0.30068644986768556, 1.0581056936175932, ''),\n",
              "  Text(0.29874204351149447, 1.0586563141258718, ''),\n",
              "  Text(0.2966748588146256, 1.0592374748597795, ''),\n",
              "  Text(0.2940756396377535, 1.0599620361935829, ''),\n",
              "  Text(0.2899334932107187, 1.0611025254491813, ''),\n",
              "  Text(0.28662974897463034, 1.061999711394848, ''),\n",
              "  Text(0.2841110475694557, 1.0626762972086028, ''),\n",
              "  Text(0.28135498514387136, 1.0634093155199893, ''),\n",
              "  Text(0.2799917287488595, 1.0637690688454076, ''),\n",
              "  Text(0.27844768474719095, 1.0641742746650706, ''),\n",
              "  Text(0.2753483005851292, 1.064980428629973, ''),\n",
              "  Text(0.2730079110687381, 1.0655827891317897, ''),\n",
              "  Text(0.27161084227947324, 1.065939749871556, ''),\n",
              "  Text(0.26967915988785246, 1.0664300965005546, ''),\n",
              "  Text(0.26826346330696205, 1.0667870988414485, ''),\n",
              "  Text(0.2669962610305141, 1.0671049604400336, ''),\n",
              "  Text(0.26484649364573615, 1.0676405456910856, ''),\n",
              "  Text(0.2623232517046084, 1.0682633156741463, ''),\n",
              "  Text(0.2608070072462045, 1.0686345048571464, ''),\n",
              "  Text(0.2603179641127996, 1.0687537403724805, ''),\n",
              "  Text(0.26001956517481284, 1.0688263777275997, ''),\n",
              "  Text(0.2578535723464132, 1.0693509878558083, ''),\n",
              "  Text(0.25519291878034683, 1.0699890533105314, ''),\n",
              "  Text(0.25221098541284415, 1.0706958572989262, ''),\n",
              "  Text(0.24880477957963026, 1.0714925019141905, ''),\n",
              "  Text(0.2458498975437477, 1.0721743458401385, ''),\n",
              "  Text(0.2434961768161539, 1.0727113366959056, ''),\n",
              "  Text(0.24226601065414183, 1.072989832235948, ''),\n",
              "  Text(0.24042016466066118, 1.0734049303149957, ''),\n",
              "  Text(0.23588746856040296, 1.0744101182398484, ''),\n",
              "  Text(0.23173268348684317, 1.0753138906403035, ''),\n",
              "  Text(0.23033493835500662, 1.0756141576666771, ''),\n",
              "  Text(0.22906049161046654, 1.075886281715299, ''),\n",
              "  Text(0.22697105363091608, 1.0763290114150377, ''),\n",
              "  Text(0.22516932092775485, 1.0767073775696598, ''),\n",
              "  Text(0.2238236370345189, 1.0769879198508403, ''),\n",
              "  Text(0.22132427352751033, 1.077504322936813, ''),\n",
              "  Text(0.21939264255940447, 1.0778992849013314, ''),\n",
              "  Text(0.2178466690458058, 1.0782127938332244, ''),\n",
              "  Text(0.21651199111827885, 1.0784815982213134, ''),\n",
              "  Text(0.21550311509530445, 1.0786836456460347, ''),\n",
              "  Text(0.21289108060674336, 1.0792021996818266, ''),\n",
              "  Text(0.20991749874805168, 1.0797845357845064, ''),\n",
              "  Text(0.20862845060699245, 1.0800343372306853, ''),\n",
              "  Text(0.2069842616000757, 1.080350644675085, ''),\n",
              "  Text(0.2055114223266328, 1.0806317852503158, ''),\n",
              "  Text(0.20521454968839428, 1.0806882013773398, ''),\n",
              "  Text(0.20392442622582108, 1.080932388444564, ''),\n",
              "  Text(0.20182200891163565, 1.0813269055742911, ''),\n",
              "  Text(0.20005070495882352, 1.081656006059911, ''),\n",
              "  Text(0.19897264316363036, 1.0818548365064875, ''),\n",
              "  Text(0.19693953607985265, 1.0822267872902853, ''),\n",
              "  Text(0.1931469135348323, 1.082910093124987, ''),\n",
              "  Text(0.1903977384066516, 1.0833968345946154, ''),\n",
              "  Text(0.18861982362872098, 1.08370778447618, ''),\n",
              "  Text(0.18743129783797663, 1.0839139765639947, ''),\n",
              "  Text(0.1862506395866461, 1.0841174748400495, ''),\n",
              "  Text(0.1840530085687703, 1.0844927339714103, ''),\n",
              "  Text(0.18122533198127655, 1.0849688378235922, ''),\n",
              "  Text(0.17757798494743213, 1.0855717660578732, ''),\n",
              "  Text(0.17509774338296732, 1.0859745762503803, ''),\n",
              "  Text(0.17376484327633918, 1.0861886480907217, ''),\n",
              "  Text(0.17210727181995278, 1.0864525240371494, ''),\n",
              "  Text(0.17083949430996345, 1.0866525972839325, ''),\n",
              "  Text(0.16992603115209978, 1.0867958152003052, ''),\n",
              "  Text(0.16689435915622747, 1.087265502479423, ''),\n",
              "  Text(0.1634521322287443, 1.0877883068271497, ''),\n",
              "  Text(0.15982384546157963, 1.0883273121730765, ''),\n",
              "  Text(0.15395327610486995, 1.0891732593010985, ''),\n",
              "  Text(0.1484175291269136, 1.0899413915655567, ''),\n",
              "  Text(0.14562053643692038, 1.0903186045224689, ''),\n",
              "  Text(0.1443295427657436, 1.0904902489637547, ''),\n",
              "  Text(0.14325003205451436, 1.0906325817232772, ''),\n",
              "  Text(0.14168099095122225, 1.0908375208082457, ''),\n",
              "  Text(0.13951381614037545, 1.0911168109354514, ''),\n",
              "  Text(0.13728498577431006, 1.0913994835443839, ''),\n",
              "  Text(0.1353954077261286, 1.0916355085680731, ''),\n",
              "  Text(0.13392436832806526, 1.0918169551568289, ''),\n",
              "  Text(0.13252889737773949, 1.0919872212438388, ''),\n",
              "  Text(0.13086334144631498, 1.0921880725706106, ''),\n",
              "  Text(0.12915833837736088, 1.092391012242228, ''),\n",
              "  Text(0.12780862674660765, 1.0925497494069305, ''),\n",
              "  Text(0.12637225412706948, 1.0927168221395895, ''),\n",
              "  Text(0.12513227923000425, 1.0928595118745612, ''),\n",
              "  Text(0.12420219225381295, 1.0929656057897463, ''),\n",
              "  Text(0.12165623297056295, 1.0932519201809858, ''),\n",
              "  Text(0.1183806061037001, 1.0936114630427576, ''),\n",
              "  Text(0.11431582128846186, 1.0940438259060488, ''),\n",
              "  Text(0.10988015776162896, 1.0944982187880798, ''),\n",
              "  Text(0.1080432768284382, 1.0946810724280263, ''),\n",
              "  Text(0.10719010201270929, 1.0947649437347293, ''),\n",
              "  Text(0.1059437287732343, 1.0948862618252289, ''),\n",
              "  Text(0.10258233656099262, 1.095206311260891, ''),\n",
              "  Text(0.09942279278913592, 1.0954976532489737, ''),\n",
              "  Text(0.09818458714615019, 1.0956093221796446, ''),\n",
              "  Text(0.09695688953622301, 1.095718650736338, ''),\n",
              "  Text(0.09540593982497242, 1.095854783557618, ''),\n",
              "  Text(0.09415015211422272, 1.0959633884655404, ''),\n",
              "  Text(0.0922494648856107, 1.0961250093982522, ''),\n",
              "  Text(0.08984682262809901, 1.0963245634681524, ''),\n",
              "  Text(0.08801427168711587, 1.0964732044055554, ''),\n",
              "  Text(0.08407415718626254, 1.0967823558452332, ''),\n",
              "  Text(0.0792451625203301, 1.0971418341386525, ''),\n",
              "  Text(0.07688373768909115, 1.0973098426966539, ''),\n",
              "  Text(0.07591055938492218, 1.0973775954400875, ''),\n",
              "  Text(0.07408609942000552, 1.097502277843982, ''),\n",
              "  Text(0.07214754005400417, 1.097631419222389, ''),\n",
              "  Text(0.06999896684466043, 1.0977705336912083, ''),\n",
              "  Text(0.06739032793412279, 1.0979337610716466, ''),\n",
              "  Text(0.06493623716209171, 1.098081638633134, ''),\n",
              "  Text(0.06299502917839271, 1.098194712379737, ''),\n",
              "  Text(0.060731404713699685, 1.0983222188781856, ''),\n",
              "  Text(0.05897181349118596, 1.0984181012772691, ''),\n",
              "  Text(0.05836666255989963, 1.0984504234154673, ''),\n",
              "  Text(0.05585895345595664, 1.0985808014519485, ''),\n",
              "  Text(0.053135242176099905, 1.0987159077936788, ''),\n",
              "  Text(0.05146853938883217, 1.0987952445534066, ''),\n",
              "  Text(0.0490076408316535, 1.0989077536991518, ''),\n",
              "  Text(0.047337370264377156, 1.0989809704341806, ''),\n",
              "  Text(0.047221694191336615, 1.0989859469518708, ''),\n",
              "  Text(0.045984502021365566, 1.0990384095079877, ''),\n",
              "  Text(0.044728380603444674, 1.0990902474176512, ''),\n",
              "  Text(0.04370276454587243, 1.0991315064045104, ''),\n",
              "  Text(0.041888562236193874, 1.099202141716338, ''),\n",
              "  Text(0.03907062152297279, 1.099305911261196, ''),\n",
              "  Text(0.03521174700157781, 1.0994362795874515, ''),\n",
              "  Text(0.03205833975267918, 1.0995327475124612, ''),\n",
              "  Text(0.02981993216082614, 1.0995957310056836, ''),\n",
              "  Text(0.025617769196811017, 1.0997016549507321, ''),\n",
              "  Text(0.020755143615236834, 1.0998041753028178, ''),\n",
              "  Text(0.01706623436658612, 1.0998676027797822, ''),\n",
              "  Text(0.013743341051657351, 1.0999141423660022, ''),\n",
              "  Text(0.009560606824514812, 1.0999584513958458, ''),\n",
              "  Text(0.00609952112266936, 1.099983088889131, ''),\n",
              "  Text(0.0037329720595575618, 1.0999936658543097, ''),\n",
              "  Text(0.0007595713511924741, 1.0999997377505881, ''),\n",
              "  Text(-0.0017753380057474925, 1.0999985673513242, ''),\n",
              "  Text(-0.004028583271151918, 1.0999926229374575, ''),\n",
              "  Text(-0.00555345637671698, 1.099985981329886, ''),\n",
              "  Text(-0.007512701080064998, 1.0999743448474069, ''),\n",
              "  Text(-0.009903833522008168, 1.09995541458805, ''),\n",
              "  Text(-0.012462424488973852, 1.0999294013598586, ''),\n",
              "  Text(-0.014566068450827172, 1.099903554703723, ''),\n",
              "  Text(-0.015761558706645792, 1.0998870729611914, ''),\n",
              "  Text(-0.017912736462108936, 1.0998541420899588, ''),\n",
              "  Text(-0.020256785055812725, 1.0998134672112372, ''),\n",
              "  Text(-0.02112705694798666, 1.0997970937698993, ''),\n",
              "  Text(-0.02348739608296751, 1.0997492178788955, ''),\n",
              "  Text(-0.026632429288048303, 1.0996775498800624, ''),\n",
              "  Text(-0.0279688602804319, 1.0996443710830397, ''),\n",
              "  Text(-0.03065472975691106, 1.099572775010154, ''),\n",
              "  Text(-0.03370237820943278, 1.0994835831894119, ''),\n",
              "  Text(-0.03585519467715181, 1.0994154833431553, ''),\n",
              "  Text(-0.038730872332261274, 1.0993179337791148, ''),\n",
              "  Text(-0.0408964842188107, 1.0992394996444317, ''),\n",
              "  Text(-0.04256551412877888, 1.099176135570161, ''),\n",
              "  Text(-0.044920368888742145, 1.0990824175005711, ''),\n",
              "  Text(-0.04762696569929245, 1.0989684582090053, ''),\n",
              "  Text(-0.0492660443467017, 1.098896199317492, ''),\n",
              "  Text(-0.04989851254988335, 1.098867661934461, ''),\n",
              "  Text(-0.05068025647622982, 1.0988318850504402, ''),\n",
              "  Text(-0.05224940859295596, 1.0987583898663467, ''),\n",
              "  Text(-0.055147915192888045, 1.0986167245449516, ''),\n",
              "  Text(-0.05859953900073022, 1.0984380246645242, ''),\n",
              "  Text(-0.060982291727657414, 1.0983083174116652, ''),\n",
              "  Text(-0.06315734869695058, 1.0981853893152886, ''),\n",
              "  Text(-0.06514280465686423, 1.0980694035448932, ''),\n",
              "  Text(-0.06671659061909983, 1.0979749070612512, ''),\n",
              "  Text(-0.06864593039828389, 1.0978559724480048, ''),\n",
              "  Text(-0.07032102228414244, 1.0977499505009842, ''),\n",
              "  Text(-0.07301934444277665, 1.0975737676061446, ''),\n",
              "  Text(-0.07709015978395026, 1.0972953600851894, ''),\n",
              "  Text(-0.0797750590410334, 1.0971034317488026, ''),\n",
              "  Text(-0.0811730170784748, 1.0970008848211463, ''),\n",
              "  Text(-0.08295569289526389, 1.0968675184434384, ''),\n",
              "  Text(-0.0849657509428101, 1.096713645928929, ''),\n",
              "  Text(-0.08681917288791124, 1.0965684799496378, ''),\n",
              "  Text(-0.08820580280867996, 1.096457813301942, ''),\n",
              "  Text(-0.09046307113291245, 1.0962738858338283, ''),\n",
              "  Text(-0.09275514001928692, 1.0960823344986463, ''),\n",
              "  Text(-0.0945142185862818, 1.0959320519471198, ''),\n",
              "  Text(-0.09875054416089402, 1.0955584557785711, ''),\n",
              "  Text(-0.10261585529408156, 1.095203171216311, ''),\n",
              "  Text(-0.10465634488450931, 1.095010068207327, ''),\n",
              "  Text(-0.10789863220667634, 1.0946953389724141, ''),\n",
              "  Text(-0.11129846124513974, 1.0943549024537078, ''),\n",
              "  Text(-0.11373675604244154, 1.0941041770896145, ''),\n",
              "  Text(-0.11511289831449578, 1.0939602463717029, ''),\n",
              "  Text(-0.11651825387083217, 1.093811453823232, ''),\n",
              "  Text(-0.11849653074893084, 1.0935989082842337, ''),\n",
              "  Text(-0.12077070215232576, 1.093350098322415, ''),\n",
              "  Text(-0.12336666707139367, 1.0930602295645453, ''),\n",
              "  Text(-0.1257898104778317, 1.092784024215193, ''),\n",
              "  Text(-0.1287677150981113, 1.092437126588259, ''),\n",
              "  Text(-0.13200390765503087, 1.0920508085083782, ''),\n",
              "  Text(-0.1337385336899963, 1.0918397339382964, ''),\n",
              "  Text(-0.13501483354372326, 1.091682643776643, ''),\n",
              "  Text(-0.1369713047348672, 1.0914388950734843, ''),\n",
              "  Text(-0.1384133198969987, 1.0912569600580293, ''),\n",
              "  Text(-0.13986242382505276, 1.0910721801978922, ''),\n",
              "  Text(-0.14163538714862203, 1.0908434429867835, ''),\n",
              "  Text(-0.14247083900437685, 1.0907346423550455, ''),\n",
              "  Text(-0.1429764666500209, 1.090668478495769, ''),\n",
              "  Text(-0.14468039218904646, 1.0904437555949522, ''),\n",
              "  Text(-0.14652313222894975, 1.0901976755257818, ''),\n",
              "  Text(-0.14710744760820568, 1.0901189838078225, ''),\n",
              "  Text(-0.14860140964597798, 1.0899163367209561, ''),\n",
              "  Text(-0.15113546006483272, 1.0895678375902031, ''),\n",
              "  Text(-0.15489556978339508, 1.089039651464297, ''),\n",
              "  Text(-0.15868552405667308, 1.088493869736922, ''),\n",
              "  Text(-0.16035841170904352, 1.088248675530622, ''),\n",
              "  Text(-0.16284713492366842, 1.0878790422869413, ''),\n",
              "  Text(-0.1651978059088005, 1.0875245675031522, ''),\n",
              "  Text(-0.16657618319655765, 1.0873142945770864, ''),\n",
              "  Text(-0.1678496049221079, 1.0871184434676344, ''),\n",
              "  Text(-0.16874305407694457, 1.0869801201957585, ''),\n",
              "  Text(-0.17004123280993869, 1.0867777965823908, ''),\n",
              "  Text(-0.1711307044120726, 1.086606774324285, ''),\n",
              "  Text(-0.17249331562746756, 1.0863912996999943, ''),\n",
              "  Text(-0.1742424130346796, 1.0861121403887595, ''),\n",
              "  Text(-0.17581353959183366, 1.0858589223726032, ''),\n",
              "  Text(-0.17662814319671094, 1.0857267147081178, ''),\n",
              "  Text(-0.17806500712937295, 1.0854919867212363, ''),\n",
              "  Text(-0.18040805381568373, 1.0851050336803518, ''),\n",
              "  Text(-0.18267009445459093, 1.0847265261769672, ''),\n",
              "  Text(-0.18615837677817973, 1.0841333214855604, ''),\n",
              "  Text(-0.1898954746284007, 1.0834849831518916, ''),\n",
              "  Text(-0.19276210153939982, 1.082978657319762, ''),\n",
              "  Text(-0.19448062276670672, 1.0826713662826195, ''),\n",
              "  Text(-0.19525161584502898, 1.082532589121411, ''),\n",
              "  Text(-0.19622127779887277, 1.0823572470025677, ''),\n",
              "  Text(-0.20026306203077227, 1.081616709368924, ''),\n",
              "  Text(-0.20478615278241175, 1.0807694627572426, ''),\n",
              "  Text(-0.20748587309667196, 1.0802544202479858, ''),\n",
              "  Text(-0.20961440791213048, 1.0798434145725235, ''),\n",
              "  Text(-0.21095561207593452, 1.0795822014713228, ''),\n",
              "  Text(-0.21263004801450833, 1.0792536600268485, ''),\n",
              "  Text(-0.21415577262236535, 1.07895194751783, ''),\n",
              "  Text(-0.21620604509134408, 1.0785429736760421, ''),\n",
              "  Text(-0.2181484930371722, 1.0781517680668204, ''),\n",
              "  Text(-0.2193065413734274, 1.0779168061176267, ''),\n",
              "  Text(-0.22092287878967576, 1.077586693323225, ''),\n",
              "  Text(-0.22287002957052157, 1.0771856617683115, ''),\n",
              "  Text(-0.2243912122231513, 1.0768698082298644, ''),\n",
              "  Text(-0.22528506015820032, 1.076683166799554, ''),\n",
              "  Text(-0.2270481856080952, 1.0763127433102668, ''),\n",
              "  Text(-0.2305685899717808, 1.0755640963319781, ''),\n",
              "  Text(-0.2344539875034759, 1.0747238378968433, ''),\n",
              "  Text(-0.23911386109944677, 1.0736966803665338, ''),\n",
              "  Text(-0.2428074495168993, 1.072867439369421, ''),\n",
              "  Text(-0.24372679565179234, 1.0726589621502771, ''),\n",
              "  Text(-0.24524076359657354, 1.0723138383283923, ''),\n",
              "  Text(-0.24745199059310216, 1.0718057250973758, ''),\n",
              "  Text(-0.2488351731749818, 1.071485443947316, ''),\n",
              "  Text(-0.2505209908503182, 1.0710925418204418, ''),\n",
              "  Text(-0.2522789222284471, 1.0706798519628795, ''),\n",
              "  Text(-0.2559436823702541, 1.0698097174052752, ''),\n",
              "  Text(-0.2595392102581943, 1.0689431221250985, ''),\n",
              "  Text(-0.26048231247947906, 1.0687136964057975, ''),\n",
              "  Text(-0.26207842136669646, 1.0683234065833906, ''),\n",
              "  Text(-0.26354479443884293, 1.0679626123250703, ''),\n",
              "  Text(-0.2647588210276579, 1.067662290561976, ''),\n",
              "  Text(-0.2693750385413808, 1.0665069566631198, ''),\n",
              "  Text(-0.27357185519932015, 1.06543814463478, ''),\n",
              "  Text(-0.27508593602558234, 1.0650482279225337, ''),\n",
              "  Text(-0.2763522795101017, 1.0647203471379567, ''),\n",
              "  Text(-0.28250350768339083, 1.0631047775955955, ''),\n",
              "  Text(-0.2894898795281944, 1.0612236379061446, ''),\n",
              "  Text(-0.29141447188658437, 1.060696754767857, ''),\n",
              "  Text(-0.2926835447185603, 1.0603472745525302, ''),\n",
              "  Text(-0.29473391642848223, 1.0597791838429025, ''),\n",
              "  Text(-0.29698955373049524, 1.059149283611598, ''),\n",
              "  Text(-0.2985444636911211, 1.0587120492368929, ''),\n",
              "  Text(-0.29938291524065297, 1.0584752571798777, ''),\n",
              "  Text(-0.3004060298507567, 1.0581853416246638, ''),\n",
              "  Text(-0.302781414920627, 1.057508115703451, ''),\n",
              "  Text(-0.30510793741109776, 1.056839224541153, ''),\n",
              "  Text(-0.30842784901188125, 1.0558751166468052, ''),\n",
              "  Text(-0.3140158968960948, 1.0542267386556563, ''),\n",
              "  Text(-0.32296350469927604, 1.0515201256430429, ''),\n",
              "  Text(-0.33003025662620233, 1.0493236058105446, ''),\n",
              "  Text(-0.33224163512980837, 1.0486255270048843, ''),\n",
              "  Text(-0.3333483363842996, 1.0482742420902176, ''),\n",
              "  Text(-0.33441085824183986, 1.0479357699257892, ''),\n",
              "  Text(-0.3361353545053033, 1.047383894974328, ''),\n",
              "  Text(-0.3376862318514727, 1.0468849071497561, ''),\n",
              "  Text(-0.33961519506186433, 1.0462607319798884, ''),\n",
              "  Text(-0.34310922707058167, 1.045120116684694, ''),\n",
              "  Text(-0.3470560814949433, 1.0438161123001386, ''),\n",
              "  Text(-0.34943957167184947, 1.0430206065796566, ''),\n",
              "  Text(-0.3510042061377728, 1.042495106594555, ''),\n",
              "  Text(-0.352400811307205, 1.0420238328320635, ''),\n",
              "  Text(-0.35451668619868243, 1.041305872069636, ''),\n",
              "  Text(-0.3566854740348436, 1.040564977602331, ''),\n",
              "  Text(-0.3575491392458208, 1.0402685292868246, ''),\n",
              "  Text(-0.35861284836368446, 1.0399023151183409, ''),\n",
              "  Text(-0.35966687015708243, 1.039538235233033, ''),\n",
              "  Text(-0.3610804481237535, 1.0390480787638028, ''),\n",
              "  Text(-0.3639706900742357, 1.0380391788207635, ''),\n",
              "  Text(-0.36677760110167895, 1.037050717819576, ''),\n",
              "  Text(-0.36933200199589056, 1.0361437507902596, ''),\n",
              "  Text(-0.37240343878661963, 1.0350438052468602, ''),\n",
              "  Text(-0.37462399512700306, 1.0342421680994658, ''),\n",
              "  Text(-0.3767456195631402, 1.0334712081814306, ''),\n",
              "  Text(-0.37837222947734594, 1.0328767864369606, ''),\n",
              "  Text(-0.3799123633025736, 1.0323112884250825, ''),\n",
              "  Text(-0.3824234782639301, 1.0313836741351483, ''),\n",
              "  Text(-0.3845376815097595, 1.030597288711308, ''),\n",
              "  Text(-0.38614976146097757, 1.0299943503357822, ''),\n",
              "  Text(-0.3879030546296191, 1.0293353293310255, ''),\n",
              "  Text(-0.3900122781589712, 1.0285380026451378, ''),\n",
              "  Text(-0.3925970259803731, 1.027554171414513, ''),\n",
              "  Text(-0.39534175028759055, 1.0265012910267306, ''),\n",
              "  Text(-0.3972070105837562, 1.0257809662608857, ''),\n",
              "  Text(-0.3986913862720953, 1.0252049446390878, ''),\n",
              "  Text(-0.4001221487117442, 1.0246473862311352, ''),\n",
              "  Text(-0.4027887792271836, 1.0236020707915139, ''),\n",
              "  Text(-0.40711011858006363, 1.0218910662833522, ''),\n",
              "  Text(-0.411107362569136, 1.020289535593426, ''),\n",
              "  Text(-0.4139429239975327, 1.0191424118700845, ''),\n",
              "  Text(-0.4157157116108639, 1.0184205649533367, ''),\n",
              "  Text(-0.41732389619339627, 1.0177626273674838, ''),\n",
              "  Text(-0.41937745148696515, 1.0169181644480043, ''),\n",
              "  Text(-0.4211220853896697, 1.0161969244182232, ''),\n",
              "  Text(-0.4228055917212145, 1.0154976275744192, ''),\n",
              "  Text(-0.4250348269460671, 1.014566604951556, ''),\n",
              "  Text(-0.4319775406750421, 1.0116300728785905, ''),\n",
              "  Text(-0.4382741733251291, 1.008918108171409, ''),\n",
              "  Text(-0.4393373963764355, 1.0084555776756727, ''),\n",
              "  Text(-0.4414232660402581, 1.0075442919288222, ''),\n",
              "  Text(-0.44321115331025673, 1.0067590941140747, ''),\n",
              "  Text(-0.44519739118810087, 1.0058823404749233, ''),\n",
              "  Text(-0.44749097230103857, 1.0048640851921573, ''),\n",
              "  Text(-0.44874935082628564, 1.004302753223841, ''),\n",
              "  Text(-0.4505509492919465, 1.0034958106998384, ''),\n",
              "  Text(-0.4525584245318504, 1.0025920767616556, ''),\n",
              "  Text(-0.4546119433317321, 1.0016626083567992, ''),\n",
              "  Text(-0.4561756752263435, 1.0009514240620219, ''),\n",
              "  Text(-0.4578480543146732, 1.000187561990384, ''),\n",
              "  Text(-0.45989290504203123, 0.9992489759274219, ''),\n",
              "  Text(-0.46186875892169477, 0.9983372423846231, ''),\n",
              "  Text(-0.4631398056118934, 0.9977482249835266, ''),\n",
              "  Text(-0.4638807786560421, 0.9974039418377412, ''),\n",
              "  Text(-0.4655464735998382, 0.9966275537625655, ''),\n",
              "  Text(-0.46799724763669764, 0.9954790686922934, ''),\n",
              "  Text(-0.47003690075657834, 0.9945176277608914, ''),\n",
              "  Text(-0.4713609489004552, 0.9938907665592143, ''),\n",
              "  Text(-0.4731579104761215, 0.99303655106641, ''),\n",
              "  Text(-0.4746429610766639, 0.9923275968652573, ''),\n",
              "  Text(-0.4755613228814967, 0.9918878102785621, ''),\n",
              "  Text(-0.4764592938141782, 0.9914567773423584, ''),\n",
              "  Text(-0.4773975630214063, 0.9910053313788088, ''),\n",
              "  Text(-0.47875093536944197, 0.9903522312202283, ''),\n",
              "  Text(-0.4797982608696187, 0.9898452550103423, ''),\n",
              "  Text(-0.48085095781541987, 0.9893342996015015, ''),\n",
              "  Text(-0.4863647952641688, 0.9866353358397637, ''),\n",
              "  Text(-0.4930852983157772, 0.9832938973597066, ''),\n",
              "  Text(-0.5037960666552258, 0.9778494379109308, ''),\n",
              "  Text(-0.513117273310345, 0.9729905774623703, ''),\n",
              "  Text(-0.5150976723422177, 0.9719436135638885, ''),\n",
              "  Text(-0.5183655814849738, 0.970204681462497, ''),\n",
              "  Text(-0.5214519330218371, 0.9685493697007859, ''),\n",
              "  Text(-0.5231025699190591, 0.9676588765386674, ''),\n",
              "  Text(-0.5239648635580558, 0.9671922361953637, ''),\n",
              "  Text(-0.5249530279649516, 0.9666562566033642, ''),\n",
              "  Text(-0.5268909490938168, 0.9656013296195367, ''),\n",
              "  Text(-0.530387816135047, 0.9636849923577183, ''),\n",
              "  Text(-0.5332845798707035, 0.9620850050136565, ''),\n",
              "  Text(-0.5343995892113244, 0.9614661091534988, ''),\n",
              "  Text(-0.5362618380496121, 0.9604286756712608, ''),\n",
              "  Text(-0.5384837099299609, 0.9591847028284313, ''),\n",
              "  Text(-0.5402728638721768, 0.95817807977607, ''),\n",
              "  Text(-0.5414748333231357, 0.9574993498053576, ''),\n",
              "  Text(-0.5432437000648765, 0.9564968804652856, ''),\n",
              "  Text(-0.5454913924835516, 0.9552168029962391, ''),\n",
              "  Text(-0.5467665968740668, 0.954487448080252, ''),\n",
              "  Text(-0.5474476367817006, 0.954096999776297, ''),\n",
              "  Text(-0.5480479459023069, 0.9537522995999864, ''),\n",
              "  Text(-0.5510469418076733, 0.9520227244789962, ''),\n",
              "  ...])"
            ]
          },
          "metadata": {},
          "execution_count": 68
        },
        {
          "output_type": "display_data",
          "data": {
            "text/plain": [
              "<Figure size 640x480 with 1 Axes>"
            ],
            "image/png": "[encoded data removed]"
          },
          "metadata": {}
        }
      ]
    },
    {
      "cell_type": "code",
      "source": [
        "x.head"
      ],
      "metadata": {
        "colab": {
          "base_uri": "https://localhost:8080/"
        },
        "id": "xDf6EeIv9Ada",
        "outputId": "3f0f9853-96cf-4e35-a0ea-ad93aff66711"
      },
      "execution_count": null,
      "outputs": [
        {
          "output_type": "execute_result",
          "data": {
            "text/plain": [
              "<bound method NDFrame.head of       longitude  latitude  housing_median_age  total_rooms  total_bedrooms  \\\n",
              "0       -122.05     37.37                27.0       3885.0           661.0   \n",
              "1       -118.30     34.26                43.0       1510.0           310.0   \n",
              "2       -117.81     33.78                27.0       3589.0           507.0   \n",
              "3       -118.36     33.82                28.0         67.0            15.0   \n",
              "4       -119.67     36.33                19.0       1241.0           244.0   \n",
              "...         ...       ...                 ...          ...             ...   \n",
              "2995    -119.86     34.42                23.0       1450.0           642.0   \n",
              "2996    -118.14     34.06                27.0       5257.0          1082.0   \n",
              "2997    -119.70     36.30                10.0        956.0           201.0   \n",
              "2998    -117.12     34.10                40.0         96.0            14.0   \n",
              "2999    -119.63     34.42                42.0       1765.0           263.0   \n",
              "\n",
              "      population  households  median_income  median_house_value  \n",
              "0         1537.0       606.0         6.6085            344700.0  \n",
              "1          809.0       277.0         3.5990            176500.0  \n",
              "2         1484.0       495.0         5.7934            270500.0  \n",
              "3           49.0        11.0         6.1359            330000.0  \n",
              "4          850.0       237.0         2.9375             81700.0  \n",
              "...          ...         ...            ...                 ...  \n",
              "2995      1258.0       607.0         1.1790            225000.0  \n",
              "2996      3496.0      1036.0         3.3906            237200.0  \n",
              "2997       693.0       220.0         2.2895             62000.0  \n",
              "2998        46.0        14.0         3.2708            162500.0  \n",
              "2999       753.0       260.0         8.5608            500001.0  \n",
              "\n",
              "[3000 rows x 9 columns]>"
            ]
          },
          "metadata": {},
          "execution_count": 69
        }
      ]
    },
    {
      "cell_type": "code",
      "source": [
        "x.tail"
      ],
      "metadata": {
        "colab": {
          "base_uri": "https://localhost:8080/"
        },
        "id": "eQ6OOhhR9bID",
        "outputId": "fb902a79-b4cd-4c08-859d-2481f1648fa8"
      },
      "execution_count": null,
      "outputs": [
        {
          "output_type": "execute_result",
          "data": {
            "text/plain": [
              "<bound method NDFrame.tail of       longitude  latitude  housing_median_age  total_rooms  total_bedrooms  \\\n",
              "0       -122.05     37.37                27.0       3885.0           661.0   \n",
              "1       -118.30     34.26                43.0       1510.0           310.0   \n",
              "2       -117.81     33.78                27.0       3589.0           507.0   \n",
              "3       -118.36     33.82                28.0         67.0            15.0   \n",
              "4       -119.67     36.33                19.0       1241.0           244.0   \n",
              "...         ...       ...                 ...          ...             ...   \n",
              "2995    -119.86     34.42                23.0       1450.0           642.0   \n",
              "2996    -118.14     34.06                27.0       5257.0          1082.0   \n",
              "2997    -119.70     36.30                10.0        956.0           201.0   \n",
              "2998    -117.12     34.10                40.0         96.0            14.0   \n",
              "2999    -119.63     34.42                42.0       1765.0           263.0   \n",
              "\n",
              "      population  households  median_income  median_house_value  \n",
              "0         1537.0       606.0         6.6085            344700.0  \n",
              "1          809.0       277.0         3.5990            176500.0  \n",
              "2         1484.0       495.0         5.7934            270500.0  \n",
              "3           49.0        11.0         6.1359            330000.0  \n",
              "4          850.0       237.0         2.9375             81700.0  \n",
              "...          ...         ...            ...                 ...  \n",
              "2995      1258.0       607.0         1.1790            225000.0  \n",
              "2996      3496.0      1036.0         3.3906            237200.0  \n",
              "2997       693.0       220.0         2.2895             62000.0  \n",
              "2998        46.0        14.0         3.2708            162500.0  \n",
              "2999       753.0       260.0         8.5608            500001.0  \n",
              "\n",
              "[3000 rows x 9 columns]>"
            ]
          },
          "metadata": {},
          "execution_count": 70
        }
      ]
    },
    {
      "cell_type": "code",
      "source": [
        "x[\"population\"].mean"
      ],
      "metadata": {
        "colab": {
          "base_uri": "https://localhost:8080/"
        },
        "id": "kLOY3dLf9gFj",
        "outputId": "3685dfa1-f582-44d9-ce52-b91cf62927b8"
      },
      "execution_count": null,
      "outputs": [
        {
          "output_type": "execute_result",
          "data": {
            "text/plain": [
              "<bound method NDFrame._add_numeric_operations.<locals>.mean of 0       1537.0\n",
              "1        809.0\n",
              "2       1484.0\n",
              "3         49.0\n",
              "4        850.0\n",
              "         ...  \n",
              "2995    1258.0\n",
              "2996    3496.0\n",
              "2997     693.0\n",
              "2998      46.0\n",
              "2999     753.0\n",
              "Name: population, Length: 3000, dtype: float64>"
            ]
          },
          "metadata": {},
          "execution_count": 72
        }
      ]
    },
    {
      "cell_type": "code",
      "source": [
        "x[\"population\"].median"
      ],
      "metadata": {
        "colab": {
          "base_uri": "https://localhost:8080/"
        },
        "id": "Thf8jrvv-Y0M",
        "outputId": "7dc6b1cf-5a94-4d46-f9b7-d885d1b2e802"
      },
      "execution_count": null,
      "outputs": [
        {
          "output_type": "execute_result",
          "data": {
            "text/plain": [
              "<bound method NDFrame._add_numeric_operations.<locals>.median of 0       1537.0\n",
              "1        809.0\n",
              "2       1484.0\n",
              "3         49.0\n",
              "4        850.0\n",
              "         ...  \n",
              "2995    1258.0\n",
              "2996    3496.0\n",
              "2997     693.0\n",
              "2998      46.0\n",
              "2999     753.0\n",
              "Name: population, Length: 3000, dtype: float64>"
            ]
          },
          "metadata": {},
          "execution_count": 73
        }
      ]
    },
    {
      "cell_type": "code",
      "source": [
        "x[\"households\"].mean"
      ],
      "metadata": {
        "colab": {
          "base_uri": "https://localhost:8080/"
        },
        "id": "z6016Bpw-2HD",
        "outputId": "c5eb9ada-44ea-4508-e53d-8cc37395c5c7"
      },
      "execution_count": null,
      "outputs": [
        {
          "output_type": "execute_result",
          "data": {
            "text/plain": [
              "<bound method NDFrame._add_numeric_operations.<locals>.mean of 0        606.0\n",
              "1        277.0\n",
              "2        495.0\n",
              "3         11.0\n",
              "4        237.0\n",
              "         ...  \n",
              "2995     607.0\n",
              "2996    1036.0\n",
              "2997     220.0\n",
              "2998      14.0\n",
              "2999     260.0\n",
              "Name: households, Length: 3000, dtype: float64>"
            ]
          },
          "metadata": {},
          "execution_count": 75
        }
      ]
    },
    {
      "cell_type": "code",
      "source": [
        "import numpy as np"
      ],
      "metadata": {
        "id": "UqhaQUIc_CNw"
      },
      "execution_count": 2,
      "outputs": []
    },
    {
      "cell_type": "code",
      "source": [
        "m=[[1,2,3],[4,5,6],[7,8,9]]\n",
        "c=np.array(m)\n",
        "print(np.log(c))"
      ],
      "metadata": {
        "colab": {
          "base_uri": "https://localhost:8080/"
        },
        "id": "VmYFUu3Ky3nB",
        "outputId": "435754ce-b70f-4791-e461-115d1aaef4ff"
      },
      "execution_count": 4,
      "outputs": [
        {
          "output_type": "stream",
          "name": "stdout",
          "text": [
            "[[0.         0.69314718 1.09861229]\n",
            " [1.38629436 1.60943791 1.79175947]\n",
            " [1.94591015 2.07944154 2.19722458]]\n"
          ]
        }
      ]
    },
    {
      "cell_type": "code",
      "source": [
        "print(np.log2(c))"
      ],
      "metadata": {
        "colab": {
          "base_uri": "https://localhost:8080/"
        },
        "id": "n_R4EBbDy7RJ",
        "outputId": "062ca935-8926-427f-d076-edaf6a402105"
      },
      "execution_count": 5,
      "outputs": [
        {
          "output_type": "stream",
          "name": "stdout",
          "text": [
            "[[0.         1.         1.5849625 ]\n",
            " [2.         2.32192809 2.5849625 ]\n",
            " [2.80735492 3.         3.169925  ]]\n"
          ]
        }
      ]
    },
    {
      "cell_type": "code",
      "source": [
        "print(np.exp(c))"
      ],
      "metadata": {
        "colab": {
          "base_uri": "https://localhost:8080/"
        },
        "id": "WnwPFYuHzNMr",
        "outputId": "9d8446de-f51f-42d5-db00-485cba8cb339"
      },
      "execution_count": 6,
      "outputs": [
        {
          "output_type": "stream",
          "name": "stdout",
          "text": [
            "[[2.71828183e+00 7.38905610e+00 2.00855369e+01]\n",
            " [5.45981500e+01 1.48413159e+02 4.03428793e+02]\n",
            " [1.09663316e+03 2.98095799e+03 8.10308393e+03]]\n"
          ]
        }
      ]
    },
    {
      "cell_type": "code",
      "source": [
        "import pandas as pd"
      ],
      "metadata": {
        "id": "N2bYe5EFzU_9"
      },
      "execution_count": 9,
      "outputs": []
    },
    {
      "cell_type": "code",
      "source": [
        "import matplotlib.pyplot as plt\n"
      ],
      "metadata": {
        "id": "bpQpX-GGz-jh"
      },
      "execution_count": 11,
      "outputs": []
    },
    {
      "cell_type": "code",
      "source": [
        "people = ['kiran','arun','vijay','varun']\n",
        "x=[25,30,35,40,45]\n",
        "y=[145,151,165,173,0]\n",
        "z=[45,55,65,75]\n",
        "plt.pie(age)"
      ],
      "metadata": {
        "colab": {
          "base_uri": "https://localhost:8080/",
          "height": 588
        },
        "id": "i89T5E5A0K22",
        "outputId": "ab1e7f01-2ae7-4cd2-b164-2aa64473caf8"
      },
      "execution_count": 22,
      "outputs": [
        {
          "output_type": "execute_result",
          "data": {
            "text/plain": [
              "([<matplotlib.patches.Wedge at 0x7bc10a6bb460>,\n",
              "  <matplotlib.patches.Wedge at 0x7bc10a6b98a0>,\n",
              "  <matplotlib.patches.Wedge at 0x7bc10a6b9570>,\n",
              "  <matplotlib.patches.Wedge at 0x7bc10a6ba4d0>,\n",
              "  <matplotlib.patches.Wedge at 0x7bc10a6981f0>],\n",
              " [Text(0.9910657451172095, 0.47727213291294374, ''),\n",
              "  Text(0.14765653262297085, 1.0900447460419969, ''),\n",
              "  Text(-0.9442937174844661, 0.564189130628522, ''),\n",
              "  Text(-0.760168840508747, -0.7950744203655324, ''),\n",
              "  Text(0.7601690266093248, -0.7950742424351525, '')])"
            ]
          },
          "metadata": {},
          "execution_count": 22
        },
        {
          "output_type": "display_data",
          "data": {
            "text/plain": [
              "<Figure size 640x480 with 1 Axes>"
            ],
            "image/png": "[encoded data removed]"
          },
          "metadata": {}
        }
      ]
    },
    {
      "cell_type": "code",
      "source": [
        "plt.scatter(x,y)"
      ],
      "metadata": {
        "colab": {
          "base_uri": "https://localhost:8080/",
          "height": 448
        },
        "id": "_Cr6Fvsi0R-3",
        "outputId": "39bf1269-2a27-4032-f1ec-43c6761d9d38"
      },
      "execution_count": 23,
      "outputs": [
        {
          "output_type": "execute_result",
          "data": {
            "text/plain": [
              "<matplotlib.collections.PathCollection at 0x7bc10a221930>"
            ]
          },
          "metadata": {},
          "execution_count": 23
        },
        {
          "output_type": "display_data",
          "data": {
            "text/plain": [
              "<Figure size 640x480 with 1 Axes>"
            ],
            "image/png": "[encoded data removed]"
          },
          "metadata": {}
        }
      ]
    },
    {
      "cell_type": "code",
      "source": [
        "plt.bar(x,y)"
      ],
      "metadata": {
        "colab": {
          "base_uri": "https://localhost:8080/",
          "height": 448
        },
        "id": "sOhC7XSO1Evq",
        "outputId": "14f25260-8da6-4fcb-ab4a-dfec8e75d520"
      },
      "execution_count": 24,
      "outputs": [
        {
          "output_type": "execute_result",
          "data": {
            "text/plain": [
              "<BarContainer object of 5 artists>"
            ]
          },
          "metadata": {},
          "execution_count": 24
        },
        {
          "output_type": "display_data",
          "data": {
            "text/plain": [
              "<Figure size 640x480 with 1 Axes>"
            ],
            "image/png": "[encoded data removed]"
          },
          "metadata": {}
        }
      ]
    },
    {
      "cell_type": "code",
      "source": [
        "plt.hist(x)"
      ],
      "metadata": {
        "colab": {
          "base_uri": "https://localhost:8080/",
          "height": 485
        },
        "id": "msD4dMmF2c3k",
        "outputId": "4cb98d67-2375-4907-ad68-65dba73a932b"
      },
      "execution_count": 26,
      "outputs": [
        {
          "output_type": "execute_result",
          "data": {
            "text/plain": [
              "(array([1., 0., 1., 0., 0., 1., 0., 1., 0., 1.]),\n",
              " array([25., 27., 29., 31., 33., 35., 37., 39., 41., 43., 45.]),\n",
              " <BarContainer object of 10 artists>)"
            ]
          },
          "metadata": {},
          "execution_count": 26
        },
        {
          "output_type": "display_data",
          "data": {
            "text/plain": [
              "<Figure size 640x480 with 1 Axes>"
            ],
            "image/png": "[encoded data removed]"
          },
          "metadata": {}
        }
      ]
    },
    {
      "cell_type": "code",
      "source": [
        "plt.title('Healthcare')\n",
        "plt.xlabel('Age of students')\n",
        "plt.ylabel('Heights of students')\n",
        "plt.plot(x,y,'r')\n",
        "\n"
      ],
      "metadata": {
        "colab": {
          "base_uri": "https://localhost:8080/",
          "height": 490
        },
        "id": "RI1OyK0n22zn",
        "outputId": "615e2a64-bec7-4358-c2f5-32da1ebe2507"
      },
      "execution_count": 31,
      "outputs": [
        {
          "output_type": "execute_result",
          "data": {
            "text/plain": [
              "[<matplotlib.lines.Line2D at 0x7bc10a37a6e0>]"
            ]
          },
          "metadata": {},
          "execution_count": 31
        },
        {
          "output_type": "display_data",
          "data": {
            "text/plain": [
              "<Figure size 640x480 with 1 Axes>"
            ],
            "image/png": "[encoded data removed]"
          },
          "metadata": {}
        }
      ]
    },
    {
      "cell_type": "code",
      "source": [
        "plt.bar(x,y)"
      ],
      "metadata": {
        "colab": {
          "base_uri": "https://localhost:8080/",
          "height": 448
        },
        "id": "EBMdimky3oAB",
        "outputId": "4a799d42-1482-4105-8eb5-0845389c2746"
      },
      "execution_count": 32,
      "outputs": [
        {
          "output_type": "execute_result",
          "data": {
            "text/plain": [
              "<BarContainer object of 5 artists>"
            ]
          },
          "metadata": {},
          "execution_count": 32
        },
        {
          "output_type": "display_data",
          "data": {
            "text/plain": [
              "<Figure size 640x480 with 1 Axes>"
            ],
            "image/png": "[encoded data removed]"
          },
          "metadata": {}
        }
      ]
    },
    {
      "cell_type": "markdown",
      "source": [
        "The given healthcare dataset shows the relation between the age, height and weight of people."
      ],
      "metadata": {
        "id": "r3jKw7Yj45nf"
      }
    },
    {
      "cell_type": "code",
      "source": [
        "a=[2,57,9,80]\n",
        "type(a)"
      ],
      "metadata": {
        "colab": {
          "base_uri": "https://localhost:8080/"
        },
        "id": "x3nZxBDD5Mi9",
        "outputId": "c3f48212-c35f-4c6a-dc4a-93c85d723b4e"
      },
      "execution_count": 33,
      "outputs": [
        {
          "output_type": "execute_result",
          "data": {
            "text/plain": [
              "list"
            ]
          },
          "metadata": {},
          "execution_count": 33
        }
      ]
    },
    {
      "cell_type": "code",
      "source": [
        "import pandas as pd\n",
        "d=pd.read_csv('/content/file1.csv')\n",
        "print(d)\n"
      ],
      "metadata": {
        "colab": {
          "base_uri": "https://localhost:8080/"
        },
        "id": "7SK96iak6Fsv",
        "outputId": "d9f0d82d-c3dc-4c52-f705-2bddd90b05e6"
      },
      "execution_count": 34,
      "outputs": [
        {
          "output_type": "stream",
          "name": "stdout",
          "text": [
            "       name  age  class  birth year\n",
            "0  reethika   20     12        1994\n",
            "1    pranay   18     13        1995\n",
            "2      teja   21     14        1996\n",
            "3   nazneen   32     15        1997\n",
            "4     sloka   40     16        2003\n",
            "5      rama   45     17        2004\n"
          ]
        }
      ]
    },
    {
      "cell_type": "code",
      "source": [
        "d=pd.read_excel('/content/file1.xlsx')\n",
        "print(d)"
      ],
      "metadata": {
        "colab": {
          "base_uri": "https://localhost:8080/"
        },
        "id": "D-j0BV4S72jA",
        "outputId": "9ee39635-cf69-403c-ac18-301a9197ac37"
      },
      "execution_count": 41,
      "outputs": [
        {
          "output_type": "stream",
          "name": "stdout",
          "text": [
            "       name  age  class  birth year\n",
            "0  reethika   20     12        1994\n",
            "1    pranay   18     13        1995\n",
            "2      teja   21     14        1996\n",
            "3   nazneen   32     15        1997\n",
            "4     sloka   40     16        2003\n",
            "5      rama   45     17        2004\n"
          ]
        }
      ]
    },
    {
      "cell_type": "code",
      "source": [
        "d=pd.read_csv('/content/file1.tsv')\n",
        "print(d)\n"
      ],
      "metadata": {
        "colab": {
          "base_uri": "https://localhost:8080/"
        },
        "id": "ZH1yqAnA-ca-",
        "outputId": "d5914a4d-3780-4958-8560-e731c31c1f99"
      },
      "execution_count": 46,
      "outputs": [
        {
          "output_type": "stream",
          "name": "stdout",
          "text": [
            "  name\\tage\\tclass\\tbirth year\n",
            "0       reethika\\t20\\t12\\t1994\n",
            "1         pranay\\t18\\t13\\t1995\n",
            "2           teja\\t21\\t14\\t1996\n",
            "3        nazneen\\t32\\t15\\t1997\n",
            "4          sloka\\t40\\t16\\t2003\n",
            "5           rama\\t45\\t17\\t2004\n"
          ]
        }
      ]
    },
    {
      "cell_type": "code",
      "source": [],
      "metadata": {
        "id": "hdwVa3Q6Arge"
      },
      "execution_count": null,
      "outputs": []
    }
  ]
}